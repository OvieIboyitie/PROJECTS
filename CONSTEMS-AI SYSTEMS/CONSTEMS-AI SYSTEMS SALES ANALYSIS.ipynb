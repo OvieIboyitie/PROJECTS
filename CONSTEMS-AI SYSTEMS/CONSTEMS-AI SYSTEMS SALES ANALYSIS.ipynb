{
 "cells": [
  {
   "cell_type": "code",
   "execution_count": 1,
   "id": "d6eff703",
   "metadata": {},
   "outputs": [],
   "source": [
    "import pandas as pd\n",
    "import numpy as np\n",
    "import matplotlib.pyplot as plt\n",
    "import seaborn as sns\n",
    "from scipy import stats\n",
    "pd.set_option(\"display.max_columns\", None)\n",
    "\n",
    "#%matplotlib notebook"
   ]
  },
  {
   "cell_type": "code",
   "execution_count": 2,
   "id": "cf03ac0c",
   "metadata": {},
   "outputs": [],
   "source": [
    "xls = pd.ExcelFile(\"Superstore (2016-2020).xlsx\", engine=\"openpyxl\")"
   ]
  },
  {
   "cell_type": "code",
   "execution_count": 3,
   "id": "91a46afc",
   "metadata": {},
   "outputs": [],
   "source": [
    "orders_2016 = pd.read_excel(xls, \"Orders 2016\")\n",
    "orders_2017 = pd.read_excel(xls, \"Orders 2017\")\n",
    "orders_2018 = pd.read_excel(xls, \"Orders 2018\")\n",
    "orders_2019 = pd.read_excel(xls, \"Orders 2019\")\n",
    "orders_2020 = pd.read_excel(xls, \"Orders 2020\")\n",
    "returns = pd.read_excel(xls, \"Returns\")\n",
    "Sales_rep = pd.read_excel(xls, \"Sales Reps\")"
   ]
  },
  {
   "cell_type": "code",
   "execution_count": 4,
   "id": "758c6e0b",
   "metadata": {},
   "outputs": [],
   "source": [
    "orders = pd.concat([orders_2016,orders_2017,orders_2018,orders_2019,orders_2020])"
   ]
  },
  {
   "cell_type": "code",
   "execution_count": 5,
   "id": "e9c5eb8f",
   "metadata": {},
   "outputs": [
    {
     "data": {
      "text/plain": [
       "(11979, 22)"
      ]
     },
     "execution_count": 5,
     "metadata": {},
     "output_type": "execute_result"
    }
   ],
   "source": [
    "orders.shape"
   ]
  },
  {
   "cell_type": "code",
   "execution_count": 6,
   "id": "d943296c",
   "metadata": {},
   "outputs": [],
   "source": [
    "returned_orders = orders.merge(returns,on=\"Order ID\", how=\"inner\")"
   ]
  },
  {
   "cell_type": "code",
   "execution_count": 7,
   "id": "e0bd54a0",
   "metadata": {},
   "outputs": [
    {
     "data": {
      "text/plain": [
       "(951, 23)"
      ]
     },
     "execution_count": 7,
     "metadata": {},
     "output_type": "execute_result"
    }
   ],
   "source": [
    "returned_orders.shape"
   ]
  },
  {
   "cell_type": "code",
   "execution_count": 8,
   "id": "ddba7842",
   "metadata": {},
   "outputs": [
    {
     "data": {
      "text/html": [
       "<div>\n",
       "<style scoped>\n",
       "    .dataframe tbody tr th:only-of-type {\n",
       "        vertical-align: middle;\n",
       "    }\n",
       "\n",
       "    .dataframe tbody tr th {\n",
       "        vertical-align: top;\n",
       "    }\n",
       "\n",
       "    .dataframe thead th {\n",
       "        text-align: right;\n",
       "    }\n",
       "</style>\n",
       "<table border=\"1\" class=\"dataframe\">\n",
       "  <thead>\n",
       "    <tr style=\"text-align: right;\">\n",
       "      <th></th>\n",
       "      <th>Row ID</th>\n",
       "      <th>Order ID</th>\n",
       "      <th>Order Date</th>\n",
       "      <th>Ship Date</th>\n",
       "      <th>Ship Mode</th>\n",
       "      <th>Customer ID</th>\n",
       "      <th>Customer Name</th>\n",
       "      <th>Segment</th>\n",
       "      <th>Country/Region</th>\n",
       "      <th>City</th>\n",
       "      <th>State</th>\n",
       "      <th>Postal Code</th>\n",
       "      <th>Region</th>\n",
       "      <th>Product ID</th>\n",
       "      <th>Category</th>\n",
       "      <th>Sub-Category</th>\n",
       "      <th>Product Name</th>\n",
       "      <th>Sales</th>\n",
       "      <th>Quantity</th>\n",
       "      <th>Discount</th>\n",
       "      <th>Profit</th>\n",
       "      <th>Unnamed: 21</th>\n",
       "    </tr>\n",
       "  </thead>\n",
       "  <tbody>\n",
       "    <tr>\n",
       "      <th>0</th>\n",
       "      <td>6</td>\n",
       "      <td>CA-2016-115812</td>\n",
       "      <td>2016-06-09</td>\n",
       "      <td>2016-06-14</td>\n",
       "      <td>Standard Class</td>\n",
       "      <td>BH-11710</td>\n",
       "      <td>Brosina Hoffman</td>\n",
       "      <td>Consumer</td>\n",
       "      <td>United States</td>\n",
       "      <td>Los Angeles</td>\n",
       "      <td>California</td>\n",
       "      <td>90032.0</td>\n",
       "      <td>West</td>\n",
       "      <td>FUR-FU-10001487</td>\n",
       "      <td>Furniture</td>\n",
       "      <td>Furnishings</td>\n",
       "      <td>Eldon Expressions Wood and Plastic Desk Access...</td>\n",
       "      <td>48.860</td>\n",
       "      <td>7</td>\n",
       "      <td>0.0</td>\n",
       "      <td>14.1694</td>\n",
       "      <td>No</td>\n",
       "    </tr>\n",
       "    <tr>\n",
       "      <th>1</th>\n",
       "      <td>7</td>\n",
       "      <td>CA-2016-115812</td>\n",
       "      <td>2016-06-09</td>\n",
       "      <td>2016-06-14</td>\n",
       "      <td>Standard Class</td>\n",
       "      <td>BH-11710</td>\n",
       "      <td>Brosina Hoffman</td>\n",
       "      <td>Consumer</td>\n",
       "      <td>United States</td>\n",
       "      <td>Los Angeles</td>\n",
       "      <td>California</td>\n",
       "      <td>90032.0</td>\n",
       "      <td>West</td>\n",
       "      <td>OFF-AR-10002833</td>\n",
       "      <td>Office Supplies</td>\n",
       "      <td>Art</td>\n",
       "      <td>Newell 322</td>\n",
       "      <td>7.280</td>\n",
       "      <td>4</td>\n",
       "      <td>0.0</td>\n",
       "      <td>1.9656</td>\n",
       "      <td>No</td>\n",
       "    </tr>\n",
       "    <tr>\n",
       "      <th>2</th>\n",
       "      <td>8</td>\n",
       "      <td>CA-2016-115812</td>\n",
       "      <td>2016-06-09</td>\n",
       "      <td>2016-06-14</td>\n",
       "      <td>Standard Class</td>\n",
       "      <td>BH-11710</td>\n",
       "      <td>Brosina Hoffman</td>\n",
       "      <td>Consumer</td>\n",
       "      <td>United States</td>\n",
       "      <td>Los Angeles</td>\n",
       "      <td>California</td>\n",
       "      <td>90032.0</td>\n",
       "      <td>West</td>\n",
       "      <td>TEC-PH-10002275</td>\n",
       "      <td>Technology</td>\n",
       "      <td>Phones</td>\n",
       "      <td>Mitel 5320 IP Phone VoIP phone</td>\n",
       "      <td>907.152</td>\n",
       "      <td>6</td>\n",
       "      <td>0.2</td>\n",
       "      <td>90.7152</td>\n",
       "      <td>No</td>\n",
       "    </tr>\n",
       "    <tr>\n",
       "      <th>3</th>\n",
       "      <td>9</td>\n",
       "      <td>CA-2016-115812</td>\n",
       "      <td>2016-06-09</td>\n",
       "      <td>2016-06-14</td>\n",
       "      <td>Standard Class</td>\n",
       "      <td>BH-11710</td>\n",
       "      <td>Brosina Hoffman</td>\n",
       "      <td>Consumer</td>\n",
       "      <td>United States</td>\n",
       "      <td>Los Angeles</td>\n",
       "      <td>California</td>\n",
       "      <td>90032.0</td>\n",
       "      <td>West</td>\n",
       "      <td>OFF-BI-10003910</td>\n",
       "      <td>Office Supplies</td>\n",
       "      <td>Binders</td>\n",
       "      <td>DXL Angle-View Binders with Locking Rings by S...</td>\n",
       "      <td>18.504</td>\n",
       "      <td>3</td>\n",
       "      <td>0.2</td>\n",
       "      <td>5.7825</td>\n",
       "      <td>No</td>\n",
       "    </tr>\n",
       "    <tr>\n",
       "      <th>4</th>\n",
       "      <td>10</td>\n",
       "      <td>CA-2016-115812</td>\n",
       "      <td>2016-06-09</td>\n",
       "      <td>2016-06-14</td>\n",
       "      <td>Standard Class</td>\n",
       "      <td>BH-11710</td>\n",
       "      <td>Brosina Hoffman</td>\n",
       "      <td>Consumer</td>\n",
       "      <td>United States</td>\n",
       "      <td>Los Angeles</td>\n",
       "      <td>California</td>\n",
       "      <td>90032.0</td>\n",
       "      <td>West</td>\n",
       "      <td>OFF-AP-10002892</td>\n",
       "      <td>Office Supplies</td>\n",
       "      <td>Appliances</td>\n",
       "      <td>Belkin F5C206VTEL 6 Outlet Surge</td>\n",
       "      <td>114.900</td>\n",
       "      <td>5</td>\n",
       "      <td>0.0</td>\n",
       "      <td>34.4700</td>\n",
       "      <td>No</td>\n",
       "    </tr>\n",
       "  </tbody>\n",
       "</table>\n",
       "</div>"
      ],
      "text/plain": [
       "   Row ID        Order ID Order Date  Ship Date       Ship Mode Customer ID  \\\n",
       "0       6  CA-2016-115812 2016-06-09 2016-06-14  Standard Class    BH-11710   \n",
       "1       7  CA-2016-115812 2016-06-09 2016-06-14  Standard Class    BH-11710   \n",
       "2       8  CA-2016-115812 2016-06-09 2016-06-14  Standard Class    BH-11710   \n",
       "3       9  CA-2016-115812 2016-06-09 2016-06-14  Standard Class    BH-11710   \n",
       "4      10  CA-2016-115812 2016-06-09 2016-06-14  Standard Class    BH-11710   \n",
       "\n",
       "     Customer Name   Segment Country/Region         City       State  \\\n",
       "0  Brosina Hoffman  Consumer  United States  Los Angeles  California   \n",
       "1  Brosina Hoffman  Consumer  United States  Los Angeles  California   \n",
       "2  Brosina Hoffman  Consumer  United States  Los Angeles  California   \n",
       "3  Brosina Hoffman  Consumer  United States  Los Angeles  California   \n",
       "4  Brosina Hoffman  Consumer  United States  Los Angeles  California   \n",
       "\n",
       "   Postal Code Region       Product ID         Category Sub-Category  \\\n",
       "0      90032.0   West  FUR-FU-10001487        Furniture  Furnishings   \n",
       "1      90032.0   West  OFF-AR-10002833  Office Supplies          Art   \n",
       "2      90032.0   West  TEC-PH-10002275       Technology       Phones   \n",
       "3      90032.0   West  OFF-BI-10003910  Office Supplies      Binders   \n",
       "4      90032.0   West  OFF-AP-10002892  Office Supplies   Appliances   \n",
       "\n",
       "                                        Product Name    Sales  Quantity  \\\n",
       "0  Eldon Expressions Wood and Plastic Desk Access...   48.860         7   \n",
       "1                                         Newell 322    7.280         4   \n",
       "2                     Mitel 5320 IP Phone VoIP phone  907.152         6   \n",
       "3  DXL Angle-View Binders with Locking Rings by S...   18.504         3   \n",
       "4                   Belkin F5C206VTEL 6 Outlet Surge  114.900         5   \n",
       "\n",
       "   Discount   Profit Unnamed: 21  \n",
       "0       0.0  14.1694          No  \n",
       "1       0.0   1.9656          No  \n",
       "2       0.2  90.7152          No  \n",
       "3       0.2   5.7825          No  \n",
       "4       0.0  34.4700          No  "
      ]
     },
     "execution_count": 8,
     "metadata": {},
     "output_type": "execute_result"
    }
   ],
   "source": [
    "orders.head()"
   ]
  },
  {
   "cell_type": "code",
   "execution_count": 9,
   "id": "92eabac1",
   "metadata": {},
   "outputs": [],
   "source": [
    "returned_orders = returned_orders.drop([\"Unnamed: 21\",\"Row ID\"], axis=1)"
   ]
  },
  {
   "cell_type": "code",
   "execution_count": 10,
   "id": "7bd2341a",
   "metadata": {},
   "outputs": [],
   "source": [
    "manufactuers = pd.read_csv(\"Manufacturers.csv\")"
   ]
  },
  {
   "cell_type": "code",
   "execution_count": 11,
   "id": "e69731f5",
   "metadata": {},
   "outputs": [
    {
     "data": {
      "text/html": [
       "<div>\n",
       "<style scoped>\n",
       "    .dataframe tbody tr th:only-of-type {\n",
       "        vertical-align: middle;\n",
       "    }\n",
       "\n",
       "    .dataframe tbody tr th {\n",
       "        vertical-align: top;\n",
       "    }\n",
       "\n",
       "    .dataframe thead th {\n",
       "        text-align: right;\n",
       "    }\n",
       "</style>\n",
       "<table border=\"1\" class=\"dataframe\">\n",
       "  <thead>\n",
       "    <tr style=\"text-align: right;\">\n",
       "      <th></th>\n",
       "      <th>Manufacturer</th>\n",
       "      <th>Product Name</th>\n",
       "    </tr>\n",
       "  </thead>\n",
       "  <tbody>\n",
       "    <tr>\n",
       "      <th>0</th>\n",
       "      <td>Bush</td>\n",
       "      <td>Bush Somerset Collection Bookcase</td>\n",
       "    </tr>\n",
       "    <tr>\n",
       "      <th>1</th>\n",
       "      <td>Hon</td>\n",
       "      <td>Hon Deluxe Fabric Upholstered Stacking Chairs,...</td>\n",
       "    </tr>\n",
       "    <tr>\n",
       "      <th>2</th>\n",
       "      <td>Universal</td>\n",
       "      <td>Self-Adhesive Address Labels for Typewriters b...</td>\n",
       "    </tr>\n",
       "    <tr>\n",
       "      <th>3</th>\n",
       "      <td>Bretford</td>\n",
       "      <td>Bretford CR4500 Series Slim Rectangular Table</td>\n",
       "    </tr>\n",
       "    <tr>\n",
       "      <th>4</th>\n",
       "      <td>Eldon</td>\n",
       "      <td>Eldon Fold 'N Roll Cart System</td>\n",
       "    </tr>\n",
       "  </tbody>\n",
       "</table>\n",
       "</div>"
      ],
      "text/plain": [
       "  Manufacturer                                       Product Name\n",
       "0         Bush                  Bush Somerset Collection Bookcase\n",
       "1          Hon  Hon Deluxe Fabric Upholstered Stacking Chairs,...\n",
       "2    Universal  Self-Adhesive Address Labels for Typewriters b...\n",
       "3     Bretford      Bretford CR4500 Series Slim Rectangular Table\n",
       "4        Eldon                     Eldon Fold 'N Roll Cart System"
      ]
     },
     "execution_count": 11,
     "metadata": {},
     "output_type": "execute_result"
    }
   ],
   "source": [
    "manufactuers.head()"
   ]
  },
  {
   "cell_type": "code",
   "execution_count": 12,
   "id": "713c1bad",
   "metadata": {},
   "outputs": [
    {
     "data": {
      "text/plain": [
       "(1850, 2)"
      ]
     },
     "execution_count": 12,
     "metadata": {},
     "output_type": "execute_result"
    }
   ],
   "source": [
    "manufactuers.shape"
   ]
  },
  {
   "cell_type": "code",
   "execution_count": 13,
   "id": "999fcdc6",
   "metadata": {},
   "outputs": [],
   "source": [
    "orders.rename(columns={\"Unnamed: 21\":\"Returned\"}, inplace=True)"
   ]
  },
  {
   "cell_type": "code",
   "execution_count": 14,
   "id": "7f78338a",
   "metadata": {},
   "outputs": [],
   "source": [
    "orders = orders.merge(manufactuers, on=\"Product Name\", how=\"left\")"
   ]
  },
  {
   "cell_type": "code",
   "execution_count": 15,
   "id": "e000c795",
   "metadata": {},
   "outputs": [],
   "source": [
    "returned_orders = orders[orders[\"Returned\"]==\"Yes\"]"
   ]
  },
  {
   "cell_type": "code",
   "execution_count": 16,
   "id": "23e521d4",
   "metadata": {},
   "outputs": [
    {
     "data": {
      "text/plain": [
       "(950, 23)"
      ]
     },
     "execution_count": 16,
     "metadata": {},
     "output_type": "execute_result"
    }
   ],
   "source": [
    "returned_orders.shape"
   ]
  },
  {
   "cell_type": "code",
   "execution_count": 17,
   "id": "4af461fa",
   "metadata": {},
   "outputs": [
    {
     "name": "stdout",
     "output_type": "stream",
     "text": [
      "<class 'pandas.core.frame.DataFrame'>\n",
      "Int64Index: 11979 entries, 0 to 11978\n",
      "Data columns (total 23 columns):\n",
      " #   Column          Non-Null Count  Dtype         \n",
      "---  ------          --------------  -----         \n",
      " 0   Row ID          11979 non-null  int64         \n",
      " 1   Order ID        11979 non-null  object        \n",
      " 2   Order Date      11979 non-null  datetime64[ns]\n",
      " 3   Ship Date       11979 non-null  datetime64[ns]\n",
      " 4   Ship Mode       11979 non-null  object        \n",
      " 5   Customer ID     11979 non-null  object        \n",
      " 6   Customer Name   11979 non-null  object        \n",
      " 7   Segment         11979 non-null  object        \n",
      " 8   Country/Region  11979 non-null  object        \n",
      " 9   City            11979 non-null  object        \n",
      " 10  State           11979 non-null  object        \n",
      " 11  Postal Code     11968 non-null  float64       \n",
      " 12  Region          11979 non-null  object        \n",
      " 13  Product ID      11979 non-null  object        \n",
      " 14  Category        11979 non-null  object        \n",
      " 15  Sub-Category    11979 non-null  object        \n",
      " 16  Product Name    11979 non-null  object        \n",
      " 17  Sales           11979 non-null  float64       \n",
      " 18  Quantity        11979 non-null  int64         \n",
      " 19  Discount        11979 non-null  float64       \n",
      " 20  Profit          11979 non-null  float64       \n",
      " 21  Returned        11978 non-null  object        \n",
      " 22  Manufacturer    11979 non-null  object        \n",
      "dtypes: datetime64[ns](2), float64(4), int64(2), object(15)\n",
      "memory usage: 2.2+ MB\n"
     ]
    }
   ],
   "source": [
    "orders.info()"
   ]
  },
  {
   "cell_type": "code",
   "execution_count": 18,
   "id": "b76e7e7b",
   "metadata": {},
   "outputs": [
    {
     "data": {
      "text/html": [
       "<div>\n",
       "<style scoped>\n",
       "    .dataframe tbody tr th:only-of-type {\n",
       "        vertical-align: middle;\n",
       "    }\n",
       "\n",
       "    .dataframe tbody tr th {\n",
       "        vertical-align: top;\n",
       "    }\n",
       "\n",
       "    .dataframe thead th {\n",
       "        text-align: right;\n",
       "    }\n",
       "</style>\n",
       "<table border=\"1\" class=\"dataframe\">\n",
       "  <thead>\n",
       "    <tr style=\"text-align: right;\">\n",
       "      <th></th>\n",
       "      <th>Row ID</th>\n",
       "      <th>Postal Code</th>\n",
       "      <th>Sales</th>\n",
       "      <th>Quantity</th>\n",
       "      <th>Discount</th>\n",
       "      <th>Profit</th>\n",
       "    </tr>\n",
       "  </thead>\n",
       "  <tbody>\n",
       "    <tr>\n",
       "      <th>count</th>\n",
       "      <td>11979.000000</td>\n",
       "      <td>11968.000000</td>\n",
       "      <td>11979.000000</td>\n",
       "      <td>11979.000000</td>\n",
       "      <td>11979.000000</td>\n",
       "      <td>11979.000000</td>\n",
       "    </tr>\n",
       "    <tr>\n",
       "      <th>mean</th>\n",
       "      <td>4993.471659</td>\n",
       "      <td>55523.083974</td>\n",
       "      <td>232.052514</td>\n",
       "      <td>3.791719</td>\n",
       "      <td>0.156595</td>\n",
       "      <td>28.012171</td>\n",
       "    </tr>\n",
       "    <tr>\n",
       "      <th>std</th>\n",
       "      <td>2886.494336</td>\n",
       "      <td>32001.416127</td>\n",
       "      <td>647.015821</td>\n",
       "      <td>2.228014</td>\n",
       "      <td>0.206362</td>\n",
       "      <td>228.833674</td>\n",
       "    </tr>\n",
       "    <tr>\n",
       "      <th>min</th>\n",
       "      <td>1.000000</td>\n",
       "      <td>1040.000000</td>\n",
       "      <td>0.444000</td>\n",
       "      <td>1.000000</td>\n",
       "      <td>0.000000</td>\n",
       "      <td>-6599.978000</td>\n",
       "    </tr>\n",
       "    <tr>\n",
       "      <th>25%</th>\n",
       "      <td>2523.500000</td>\n",
       "      <td>23320.000000</td>\n",
       "      <td>17.088000</td>\n",
       "      <td>2.000000</td>\n",
       "      <td>0.000000</td>\n",
       "      <td>1.713700</td>\n",
       "    </tr>\n",
       "    <tr>\n",
       "      <th>50%</th>\n",
       "      <td>4981.000000</td>\n",
       "      <td>60072.000000</td>\n",
       "      <td>53.900000</td>\n",
       "      <td>3.000000</td>\n",
       "      <td>0.200000</td>\n",
       "      <td>8.537200</td>\n",
       "    </tr>\n",
       "    <tr>\n",
       "      <th>75%</th>\n",
       "      <td>7497.500000</td>\n",
       "      <td>90008.000000</td>\n",
       "      <td>210.910000</td>\n",
       "      <td>5.000000</td>\n",
       "      <td>0.200000</td>\n",
       "      <td>29.145600</td>\n",
       "    </tr>\n",
       "    <tr>\n",
       "      <th>max</th>\n",
       "      <td>9994.000000</td>\n",
       "      <td>99301.000000</td>\n",
       "      <td>22638.480000</td>\n",
       "      <td>14.000000</td>\n",
       "      <td>0.800000</td>\n",
       "      <td>8399.976000</td>\n",
       "    </tr>\n",
       "  </tbody>\n",
       "</table>\n",
       "</div>"
      ],
      "text/plain": [
       "             Row ID   Postal Code         Sales      Quantity      Discount  \\\n",
       "count  11979.000000  11968.000000  11979.000000  11979.000000  11979.000000   \n",
       "mean    4993.471659  55523.083974    232.052514      3.791719      0.156595   \n",
       "std     2886.494336  32001.416127    647.015821      2.228014      0.206362   \n",
       "min        1.000000   1040.000000      0.444000      1.000000      0.000000   \n",
       "25%     2523.500000  23320.000000     17.088000      2.000000      0.000000   \n",
       "50%     4981.000000  60072.000000     53.900000      3.000000      0.200000   \n",
       "75%     7497.500000  90008.000000    210.910000      5.000000      0.200000   \n",
       "max     9994.000000  99301.000000  22638.480000     14.000000      0.800000   \n",
       "\n",
       "             Profit  \n",
       "count  11979.000000  \n",
       "mean      28.012171  \n",
       "std      228.833674  \n",
       "min    -6599.978000  \n",
       "25%        1.713700  \n",
       "50%        8.537200  \n",
       "75%       29.145600  \n",
       "max     8399.976000  "
      ]
     },
     "execution_count": 18,
     "metadata": {},
     "output_type": "execute_result"
    }
   ],
   "source": [
    "orders.describe()"
   ]
  },
  {
   "cell_type": "code",
   "execution_count": 19,
   "id": "86ee36e7",
   "metadata": {},
   "outputs": [],
   "source": [
    "orders_all = orders.copy() #making a copy the datafram that contains all the order both the returned and the unreturned items"
   ]
  },
  {
   "cell_type": "code",
   "execution_count": 20,
   "id": "b5fc8d2d",
   "metadata": {},
   "outputs": [],
   "source": [
    "orders = orders[orders[\"Returned\"]==\"No\"] # Removing the returned orders"
   ]
  },
  {
   "cell_type": "markdown",
   "id": "043f377c",
   "metadata": {},
   "source": [
    "## WHICH REGION HAS THE HIGHEST SALES\n",
    "- The East region had the most sales after all the returned items had been substracted\n",
    "- The West region had the most sales if orders had not been returned"
   ]
  },
  {
   "cell_type": "code",
   "execution_count": 23,
   "id": "498c37fc",
   "metadata": {},
   "outputs": [
    {
     "data": {
      "text/plain": [
       "<AxesSubplot:xlabel='Region'>"
      ]
     },
     "execution_count": 23,
     "metadata": {},
     "output_type": "execute_result"
    },
    {
     "data": {
      "image/png": "[encoded data removed]",
      "text/plain": [
       "<Figure size 432x288 with 1 Axes>"
      ]
     },
     "metadata": {
      "needs_background": "light"
     },
     "output_type": "display_data"
    }
   ],
   "source": [
    "orders.groupby([\"Region\"]).agg({\"Sales\":\"sum\"}).sort_values(\"Sales\", ascending=False).plot(kind=\"bar\")"
   ]
  },
  {
   "cell_type": "markdown",
   "id": "e8762f7f",
   "metadata": {},
   "source": [
    "## WHICH CATEGORY HAS THE HIGHEST SALES\n",
    "- Technology had the most sales"
   ]
  },
  {
   "cell_type": "code",
   "execution_count": 25,
   "id": "18c68309",
   "metadata": {},
   "outputs": [
    {
     "data": {
      "text/plain": [
       "<AxesSubplot:xlabel='Category'>"
      ]
     },
     "execution_count": 25,
     "metadata": {},
     "output_type": "execute_result"
    },
    {
     "data": {
      "image/png": "[encoded data removed]",
      "text/plain": [
       "<Figure size 432x288 with 1 Axes>"
      ]
     },
     "metadata": {
      "needs_background": "light"
     },
     "output_type": "display_data"
    }
   ],
   "source": [
    "orders.groupby([\"Category\"]).agg({\"Sales\":\"sum\"}).sort_values(\"Sales\", ascending=False).plot(kind=\"bar\")"
   ]
  },
  {
   "cell_type": "markdown",
   "id": "57c4a818",
   "metadata": {},
   "source": [
    "## WHICH SUBCATGORY HAS THE HIGHEST SALES AND WHICH HAS THE LOWEST SALES\n",
    "- The top 5 categories based on sales (excluding the returned orders) are \n",
    "        - Chairs                   \n",
    "        - Phones\n",
    "        - Storage\n",
    "        - Machines and \n",
    "        - Tables\n",
    "       They contribute 61.9% of the Totals sales\n",
    "    INCLUDING THE RETURNED ORDERS, the top 5 categories are\n",
    "        - Phones\n",
    "        - Chairs\n",
    "        - Storage\n",
    "        - Tables and \n",
    "        - Machines\n",
    "- The bottom 5 categories based on sales (excluding or including the returned orders) are \n",
    "    - Fasteners\n",
    "    - Labels\n",
    "    - Envelopes\n",
    "    - Art\n",
    "    - Supplies"
   ]
  },
  {
   "cell_type": "code",
   "execution_count": 46,
   "id": "cee4c0e7",
   "metadata": {},
   "outputs": [
    {
     "data": {
      "text/plain": [
       "1590751.3384999998"
      ]
     },
     "execution_count": 46,
     "metadata": {},
     "output_type": "execute_result"
    }
   ],
   "source": [
    "# What is Total sales of the top 5 category\n",
    "pls = orders_all.groupby([\"Sub-Category\"]).agg({\"Sales\":\"sum\"}).sort_values(\"Sales\", ascending=False).reset_index()\n",
    "#pls.loc[[\"Chairs\", \"Phones\", \"Storage\", \"Machines\", \"Tables\"]][\"Sales\"].sum()\n",
    "pls.iloc[:5][\"Sales\"].sum() "
   ]
  },
  {
   "cell_type": "code",
   "execution_count": 49,
   "id": "7fbcd8b4",
   "metadata": {},
   "outputs": [
    {
     "data": {
      "text/plain": [
       "2570033.2445"
      ]
     },
     "execution_count": 49,
     "metadata": {},
     "output_type": "execute_result"
    }
   ],
   "source": [
    "# What is the total sales\n",
    "orders[\"Sales\"].sum()"
   ]
  },
  {
   "cell_type": "code",
   "execution_count": 50,
   "id": "6756e0c9",
   "metadata": {},
   "outputs": [
    {
     "data": {
      "text/plain": [
       "61.89613857736227"
      ]
     },
     "execution_count": 50,
     "metadata": {},
     "output_type": "execute_result"
    }
   ],
   "source": [
    "# What percentage of the total sales was contributed by the top 5 category\n",
    "(1590751.3384999998/2570033.2445) * 100"
   ]
  },
  {
   "cell_type": "code",
   "execution_count": 26,
   "id": "d5bd236d",
   "metadata": {},
   "outputs": [
    {
     "data": {
      "text/plain": [
       "<AxesSubplot:xlabel='Sub-Category'>"
      ]
     },
     "execution_count": 26,
     "metadata": {},
     "output_type": "execute_result"
    },
    {
     "data": {
      "image/png": "[encoded data removed]",
      "text/plain": [
       "<Figure size 432x288 with 1 Axes>"
      ]
     },
     "metadata": {
      "needs_background": "light"
     },
     "output_type": "display_data"
    }
   ],
   "source": [
    "orders_all.groupby([\"Sub-Category\"]).agg({\"Sales\":\"sum\"}).sort_values(\"Sales\", ascending=False).plot(kind=\"bar\")"
   ]
  },
  {
   "cell_type": "markdown",
   "id": "5cdf1484",
   "metadata": {},
   "source": [
    "## WHICH SEGMENT HAS THE HIGHEST SALES\n",
    "- The Consumer segment has the highest sales and contributes 50.8% of the total sales"
   ]
  },
  {
   "cell_type": "code",
   "execution_count": 38,
   "id": "2f15d8ca",
   "metadata": {},
   "outputs": [
    {
     "data": {
      "text/plain": [
       "1305645.8633"
      ]
     },
     "execution_count": 38,
     "metadata": {},
     "output_type": "execute_result"
    }
   ],
   "source": [
    "# What is the sales of The Top segments\n",
    "pls = orders.groupby([\"Segment\"]).agg({\"Sales\":\"sum\"}).sort_values(\"Sales\", ascending=False).reset_index()\n",
    "pls.iloc[0][\"Sales\"]"
   ]
  },
  {
   "cell_type": "code",
   "execution_count": 39,
   "id": "5a1110b0",
   "metadata": {},
   "outputs": [
    {
     "data": {
      "text/plain": [
       "2570033.2445"
      ]
     },
     "execution_count": 39,
     "metadata": {},
     "output_type": "execute_result"
    }
   ],
   "source": [
    "pls[\"Sales\"].sum()"
   ]
  },
  {
   "cell_type": "code",
   "execution_count": 41,
   "id": "e12e9bdf",
   "metadata": {},
   "outputs": [
    {
     "data": {
      "text/plain": [
       "50.80268382108082"
      ]
     },
     "execution_count": 41,
     "metadata": {},
     "output_type": "execute_result"
    }
   ],
   "source": [
    "(1305645.8633/2570033.2445)*100"
   ]
  },
  {
   "cell_type": "code",
   "execution_count": 42,
   "id": "6590fadc",
   "metadata": {},
   "outputs": [
    {
     "data": {
      "text/plain": [
       "<AxesSubplot:xlabel='Segment'>"
      ]
     },
     "execution_count": 42,
     "metadata": {},
     "output_type": "execute_result"
    },
    {
     "data": {
      "image/png": "[encoded data removed]",
      "text/plain": [
       "<Figure size 432x288 with 1 Axes>"
      ]
     },
     "metadata": {
      "needs_background": "light"
     },
     "output_type": "display_data"
    }
   ],
   "source": [
    "orders.groupby([\"Segment\"]).agg({\"Sales\":\"sum\"}).sort_values(\"Sales\", ascending=False).plot(kind=\"bar\")"
   ]
  },
  {
   "cell_type": "markdown",
   "id": "090cd175",
   "metadata": {},
   "source": [
    "## WHICH SHIPPING MODE HAS THE HIGHEST SALES\n",
    "- Standard Class has the highest sales and contributes 60.6% of the total sales"
   ]
  },
  {
   "cell_type": "code",
   "execution_count": 43,
   "id": "1797df3d",
   "metadata": {},
   "outputs": [
    {
     "data": {
      "text/plain": [
       "1558513.2967"
      ]
     },
     "execution_count": 43,
     "metadata": {},
     "output_type": "execute_result"
    }
   ],
   "source": [
    "# What is the sales of The Top Ship Mode\n",
    "pls = orders.groupby([\"Ship Mode\"]).agg({\"Sales\":\"sum\"}).sort_values(\"Sales\", ascending=False).reset_index()\n",
    "pls.iloc[0][\"Sales\"]"
   ]
  },
  {
   "cell_type": "code",
   "execution_count": 48,
   "id": "8970d13a",
   "metadata": {},
   "outputs": [
    {
     "data": {
      "text/plain": [
       "2570033.2445"
      ]
     },
     "execution_count": 48,
     "metadata": {},
     "output_type": "execute_result"
    }
   ],
   "source": [
    "# what is the total sales\n",
    "orders[\"Sales\"].sum()"
   ]
  },
  {
   "cell_type": "code",
   "execution_count": 52,
   "id": "9347168f",
   "metadata": {},
   "outputs": [
    {
     "data": {
      "text/plain": [
       "60.64175628993503"
      ]
     },
     "execution_count": 52,
     "metadata": {},
     "output_type": "execute_result"
    }
   ],
   "source": [
    "# What percentage of sales was contributed by the standard class\n",
    "(1558513.2967/2570033.2445)*100"
   ]
  },
  {
   "cell_type": "code",
   "execution_count": 53,
   "id": "20359915",
   "metadata": {},
   "outputs": [
    {
     "data": {
      "text/plain": [
       "<AxesSubplot:xlabel='Ship Mode'>"
      ]
     },
     "execution_count": 53,
     "metadata": {},
     "output_type": "execute_result"
    },
    {
     "data": {
      "image/png": "[encoded data removed]",
      "text/plain": [
       "<Figure size 432x288 with 1 Axes>"
      ]
     },
     "metadata": {
      "needs_background": "light"
     },
     "output_type": "display_data"
    }
   ],
   "source": [
    "orders.groupby([\"Ship Mode\"]).agg({\"Sales\":\"sum\"}).sort_values(\"Sales\", ascending=False).plot(kind=\"bar\")"
   ]
  },
  {
   "cell_type": "markdown",
   "id": "5c0d73b2",
   "metadata": {},
   "source": [
    "## WHICH MANUFACTURERS HAVE THE HIGHEST SALES AND THE LOWEST SALES\n",
    "- The top 5 manufacturers besides the Others are\n",
    "     - Hon\n",
    "     - Global\n",
    "     - GBC\n",
    "     - Canon \n",
    "     - Fellowes\n",
    "     they contribute 23.9% of the total sales\n",
    "     \n",
    "- The bottom 5 manufacturers are \n",
    "    - 3-ring stable pack\n",
    "    - hammemil\n",
    "    - Staple-on labels\n",
    "    - Stockwell\n",
    "    - Quartet"
   ]
  },
  {
   "cell_type": "code",
   "execution_count": 61,
   "id": "759420e9",
   "metadata": {},
   "outputs": [
    {
     "data": {
      "text/plain": [
       "613493.2307"
      ]
     },
     "execution_count": 61,
     "metadata": {},
     "output_type": "execute_result"
    }
   ],
   "source": [
    "# What is the sales of The Top 5 Manufacturers\n",
    "pls = orders.groupby([\"Manufacturer\"]).agg({\"Sales\":\"sum\"}).sort_values(\"Sales\", ascending=False).reset_index()\n",
    "pls.iloc[1:6][\"Sales\"].sum()"
   ]
  },
  {
   "cell_type": "code",
   "execution_count": 58,
   "id": "9d82910a",
   "metadata": {},
   "outputs": [
    {
     "data": {
      "text/plain": [
       "2570033.2445"
      ]
     },
     "execution_count": 58,
     "metadata": {},
     "output_type": "execute_result"
    }
   ],
   "source": [
    "# What is the total sales \n",
    "orders[\"Sales\"].sum()"
   ]
  },
  {
   "cell_type": "code",
   "execution_count": 62,
   "id": "ad6fd482",
   "metadata": {},
   "outputs": [
    {
     "data": {
      "text/plain": [
       "23.8710231477708"
      ]
     },
     "execution_count": 62,
     "metadata": {},
     "output_type": "execute_result"
    }
   ],
   "source": [
    "# What percentage of the sales was contributed by the top 5 manufacturers besides the \"Others\"\n",
    "(613493.2307/2570033.2445) * 100"
   ]
  },
  {
   "cell_type": "code",
   "execution_count": 376,
   "id": "d0086c81",
   "metadata": {},
   "outputs": [
    {
     "data": {
      "text/plain": [
       "<AxesSubplot:xlabel='Manufacturer'>"
      ]
     },
     "execution_count": 376,
     "metadata": {},
     "output_type": "execute_result"
    },
    {
     "data": {
      "image/png": "[encoded data removed]",
      "text/plain": [
       "<Figure size 432x288 with 1 Axes>"
      ]
     },
     "metadata": {
      "needs_background": "light"
     },
     "output_type": "display_data"
    }
   ],
   "source": [
    "orders.groupby([\"Manufacturer\"]).agg({\"Sales\":\"sum\"}).sort_values(\"Sales\", ascending=False).iloc[1:6].plot(kind=\"bar\")"
   ]
  },
  {
   "cell_type": "code",
   "execution_count": 377,
   "id": "ddc21647",
   "metadata": {},
   "outputs": [
    {
     "data": {
      "text/plain": [
       "<AxesSubplot:xlabel='Manufacturer'>"
      ]
     },
     "execution_count": 377,
     "metadata": {},
     "output_type": "execute_result"
    },
    {
     "data": {
      "image/png": "[encoded data removed]",
      "text/plain": [
       "<Figure size 432x288 with 1 Axes>"
      ]
     },
     "metadata": {
      "needs_background": "light"
     },
     "output_type": "display_data"
    }
   ],
   "source": [
    "orders.groupby([\"Manufacturer\"]).agg({\"Sales\":\"sum\"}).sort_values(\"Sales\", ascending=False).iloc[-5:].plot(kind=\"bar\")"
   ]
  },
  {
   "cell_type": "markdown",
   "id": "8a0b1eab",
   "metadata": {},
   "source": [
    "## WHAT CITY OR STATE HAD THE HIGHEST SALES OR LOWEST SALES\n",
    "- The Top 5 states based on sales are (exluding the returned orders)\n",
    "    - California\n",
    "    - New York\n",
    "    - Texas \n",
    "    - Washington\n",
    "    - Pennsylvania \n",
    "         \n",
    "         - And they contribute 50.9% of the total sales\n",
    "    \n",
    "- The Bottom 5 states based on sales (excluding the returned orders)\n",
    "    - North Dakota\n",
    "    - west virginia\n",
    "    - South dakota\n",
    "    - Wyoming\n",
    "    - Maine\n",
    "    \n",
    "- The Top 5 Cities based on sales (excluding returned orders) are\n",
    "    - New york city\n",
    "    - Los angeles\n",
    "    - San Francisco\n",
    "    - phiolladephia\n",
    "    - Seattle\n",
    "        \n",
    "        - And they contribute 32% of the total sales"
   ]
  },
  {
   "cell_type": "code",
   "execution_count": 63,
   "id": "7ebb6bea",
   "metadata": {},
   "outputs": [
    {
     "data": {
      "text/plain": [
       "50.910270199814136"
      ]
     },
     "execution_count": 63,
     "metadata": {},
     "output_type": "execute_result"
    }
   ],
   "source": [
    "# What is the sales of The Top 5 State\n",
    "pls = orders.groupby([\"State\"]).agg({\"Sales\":\"sum\"}).sort_values(\"Sales\", ascending=False).reset_index()\n",
    "A = pls.iloc[:5][\"Sales\"].sum()\n",
    "\n",
    "# What is the total sales \n",
    "B = orders[\"Sales\"].sum()\n",
    "\n",
    "# What percentage of the sales was contributed by the top 5 States\n",
    "(A/B) * 100"
   ]
  },
  {
   "cell_type": "code",
   "execution_count": 68,
   "id": "6dcb879e",
   "metadata": {},
   "outputs": [
    {
     "data": {
      "text/plain": [
       "32.042483448894544"
      ]
     },
     "execution_count": 68,
     "metadata": {},
     "output_type": "execute_result"
    }
   ],
   "source": [
    "# What is the sales of The Top 5 State\n",
    "pls = orders.groupby([\"City\"]).agg({\"Sales\":\"sum\"}).sort_values(\"Sales\", ascending=False).reset_index()\n",
    "A = pls.iloc[:5][\"Sales\"].sum()\n",
    "\n",
    "# What is the total sales \n",
    "B = orders[\"Sales\"].sum()\n",
    "\n",
    "# What percentage of the sales was contributed by the top 5 States\n",
    "(A/B) * 100"
   ]
  },
  {
   "cell_type": "code",
   "execution_count": 66,
   "id": "3d786c12",
   "metadata": {},
   "outputs": [
    {
     "data": {
      "text/plain": [
       "<AxesSubplot:xlabel='State'>"
      ]
     },
     "execution_count": 66,
     "metadata": {},
     "output_type": "execute_result"
    },
    {
     "data": {
      "image/png": "[encoded data removed]",
      "text/plain": [
       "<Figure size 432x288 with 1 Axes>"
      ]
     },
     "metadata": {
      "needs_background": "light"
     },
     "output_type": "display_data"
    }
   ],
   "source": [
    "orders.groupby([\"State\"]).agg({\"Sales\":\"sum\"}).sort_values(\"Sales\", ascending=False).iloc[:5].plot(kind=\"bar\")"
   ]
  },
  {
   "cell_type": "code",
   "execution_count": 67,
   "id": "14e12d07",
   "metadata": {},
   "outputs": [
    {
     "data": {
      "text/plain": [
       "<AxesSubplot:xlabel='State'>"
      ]
     },
     "execution_count": 67,
     "metadata": {},
     "output_type": "execute_result"
    },
    {
     "data": {
      "image/png": "[encoded data removed]",
      "text/plain": [
       "<Figure size 432x288 with 1 Axes>"
      ]
     },
     "metadata": {
      "needs_background": "light"
     },
     "output_type": "display_data"
    }
   ],
   "source": [
    "orders.groupby([\"State\"]).agg({\"Sales\":\"sum\"}).sort_values(\"Sales\", ascending=False).iloc[-5:].plot(kind=\"bar\")"
   ]
  },
  {
   "cell_type": "code",
   "execution_count": 380,
   "id": "e4005b11",
   "metadata": {},
   "outputs": [
    {
     "data": {
      "text/plain": [
       "<AxesSubplot:xlabel='City'>"
      ]
     },
     "execution_count": 380,
     "metadata": {},
     "output_type": "execute_result"
    },
    {
     "data": {
      "image/png": "[encoded data removed]",
      "text/plain": [
       "<Figure size 432x288 with 1 Axes>"
      ]
     },
     "metadata": {
      "needs_background": "light"
     },
     "output_type": "display_data"
    }
   ],
   "source": [
    "orders.groupby([\"City\"]).agg({\"Sales\":\"sum\"}).sort_values(\"Sales\", ascending=False).iloc[:5].plot(kind=\"bar\")"
   ]
  },
  {
   "cell_type": "code",
   "execution_count": 381,
   "id": "7003490b",
   "metadata": {},
   "outputs": [
    {
     "data": {
      "text/plain": [
       "<AxesSubplot:xlabel='City'>"
      ]
     },
     "execution_count": 381,
     "metadata": {},
     "output_type": "execute_result"
    },
    {
     "data": {
      "image/png": "[encoded data removed]",
      "text/plain": [
       "<Figure size 432x288 with 1 Axes>"
      ]
     },
     "metadata": {
      "needs_background": "light"
     },
     "output_type": "display_data"
    }
   ],
   "source": [
    "orders.groupby([\"City\"]).agg({\"Sales\":\"sum\"}).sort_values(\"Sales\", ascending=False).iloc[-5:].plot(kind=\"bar\")"
   ]
  },
  {
   "cell_type": "markdown",
   "id": "10fc096a",
   "metadata": {},
   "source": [
    "## WHICH STATE AND CITY HAD THE HIGHEST NET PROFIT AND MOST LOSSES\n",
    "- The top 5 states based on net profit (excluding the returned orders) are\n",
    "    - New York\n",
    "    - california\n",
    "    - washington\n",
    "    - Michigan\n",
    "    - Virginia\n",
    "    \n",
    "        - And they contribute 75.5% of the total net profit\n",
    "- The Bottom 5 states based on net profit (excluding the returned orders) are\n",
    "    - Texas\n",
    "    - Pennsylvania\n",
    "    - Ohio\n",
    "    - illinios\n",
    "    - North Carolina\n",
    "        - And the reduced by total net profit 26.6%\n",
    "\n",
    "- The Top 5 cities based on net profit (excluding the returned orders) are\n",
    "    - New York city\n",
    "    - Los Angelle\n",
    "    - Seattle\n",
    "    - san Francisco\n",
    "    - Detroit\n",
    "    \n",
    "        - They contribute 48.8% of the net profit"
   ]
  },
  {
   "cell_type": "code",
   "execution_count": 69,
   "id": "21801d78",
   "metadata": {},
   "outputs": [
    {
     "data": {
      "text/plain": [
       "75.53230019675915"
      ]
     },
     "execution_count": 69,
     "metadata": {},
     "output_type": "execute_result"
    }
   ],
   "source": [
    "# What is the profit of The Top 5 State\n",
    "pls = orders.groupby([\"State\"]).agg({\"Profit\":\"sum\"}).sort_values(\"Profit\", ascending=False).iloc[:5]\n",
    "A = pls[\"Profit\"].sum()\n",
    "# What is the total sales \n",
    "B = orders[\"Profit\"].sum()\n",
    "\n",
    "# What percentage of the profit was contributed by the top 5 States\n",
    "(A/B) * 100"
   ]
  },
  {
   "cell_type": "code",
   "execution_count": 71,
   "id": "3f92848e",
   "metadata": {},
   "outputs": [
    {
     "data": {
      "text/plain": [
       "48.79376100941806"
      ]
     },
     "execution_count": 71,
     "metadata": {},
     "output_type": "execute_result"
    }
   ],
   "source": [
    "# What is the profit of The Top 5 City\n",
    "pls = orders.groupby([\"City\"]).agg({\"Profit\":\"sum\"}).sort_values(\"Profit\", ascending=False).iloc[:5]\n",
    "A = pls[\"Profit\"].sum()\n",
    "# What is the total sales \n",
    "B = orders[\"Profit\"].sum()\n",
    "\n",
    "# What percentage of the profit was contributed by the top 5 States\n",
    "(A/B) * 100"
   ]
  },
  {
   "cell_type": "code",
   "execution_count": 70,
   "id": "04ea3160",
   "metadata": {},
   "outputs": [
    {
     "data": {
      "text/plain": [
       "-26.620310719129396"
      ]
     },
     "execution_count": 70,
     "metadata": {},
     "output_type": "execute_result"
    }
   ],
   "source": [
    "pls = orders.groupby([\"State\"]).agg({\"Profit\":\"sum\"}).sort_values(\"Profit\", ascending=False).iloc[-5:]\n",
    "A = pls[\"Profit\"].sum()\n",
    "# What is the total sales \n",
    "B = orders[\"Profit\"].sum()\n",
    "\n",
    "# What percentage of the profit was contributed by the bottom 5 States\n",
    "(A/B) * 100"
   ]
  },
  {
   "cell_type": "code",
   "execution_count": 72,
   "id": "eba3338b",
   "metadata": {},
   "outputs": [
    {
     "data": {
      "text/plain": [
       "-15.475752930085765"
      ]
     },
     "execution_count": 72,
     "metadata": {},
     "output_type": "execute_result"
    }
   ],
   "source": [
    "pls = orders.groupby([\"City\"]).agg({\"Profit\":\"sum\"}).sort_values(\"Profit\", ascending=False).iloc[-5:]\n",
    "A = pls[\"Profit\"].sum()\n",
    "# What is the total sales \n",
    "B = orders[\"Profit\"].sum()\n",
    "\n",
    "# What percentage of the profit was contributed by the bottom 5 States\n",
    "(A/B) * 100"
   ]
  },
  {
   "cell_type": "code",
   "execution_count": 73,
   "id": "0401553b",
   "metadata": {},
   "outputs": [
    {
     "data": {
      "text/plain": [
       "<AxesSubplot:xlabel='State'>"
      ]
     },
     "execution_count": 73,
     "metadata": {},
     "output_type": "execute_result"
    },
    {
     "data": {
      "image/png": "[encoded data removed]",
      "text/plain": [
       "<Figure size 432x288 with 1 Axes>"
      ]
     },
     "metadata": {
      "needs_background": "light"
     },
     "output_type": "display_data"
    }
   ],
   "source": [
    "orders.groupby([\"State\"]).agg({\"Profit\":\"sum\"}).sort_values(\"Profit\", ascending=False).iloc[:5].plot(kind=\"bar\", color=\"Green\")"
   ]
  },
  {
   "cell_type": "code",
   "execution_count": 74,
   "id": "69983eb0",
   "metadata": {},
   "outputs": [
    {
     "data": {
      "text/plain": [
       "<AxesSubplot:xlabel='State'>"
      ]
     },
     "execution_count": 74,
     "metadata": {},
     "output_type": "execute_result"
    },
    {
     "data": {
      "image/png": "[encoded data removed]",
      "text/plain": [
       "<Figure size 432x288 with 1 Axes>"
      ]
     },
     "metadata": {
      "needs_background": "light"
     },
     "output_type": "display_data"
    }
   ],
   "source": [
    "orders.groupby([\"State\"]).agg({\"Profit\":\"sum\"}).sort_values(\"Profit\", ascending=False).iloc[-5:].plot(kind=\"bar\",color=\"red\")"
   ]
  },
  {
   "cell_type": "code",
   "execution_count": 75,
   "id": "26939393",
   "metadata": {},
   "outputs": [
    {
     "data": {
      "text/plain": [
       "<AxesSubplot:xlabel='City'>"
      ]
     },
     "execution_count": 75,
     "metadata": {},
     "output_type": "execute_result"
    },
    {
     "data": {
      "image/png": "[encoded data removed]",
      "text/plain": [
       "<Figure size 432x288 with 1 Axes>"
      ]
     },
     "metadata": {
      "needs_background": "light"
     },
     "output_type": "display_data"
    }
   ],
   "source": [
    "orders.groupby([\"City\"]).agg({\"Profit\":\"sum\"}).sort_values(\"Profit\", ascending=False).iloc[:5].plot(kind=\"bar\",color=\"Green\")"
   ]
  },
  {
   "cell_type": "code",
   "execution_count": 76,
   "id": "b39826a5",
   "metadata": {},
   "outputs": [
    {
     "data": {
      "text/plain": [
       "<AxesSubplot:xlabel='City'>"
      ]
     },
     "execution_count": 76,
     "metadata": {},
     "output_type": "execute_result"
    },
    {
     "data": {
      "image/png": "[encoded data removed]",
      "text/plain": [
       "<Figure size 432x288 with 1 Axes>"
      ]
     },
     "metadata": {
      "needs_background": "light"
     },
     "output_type": "display_data"
    }
   ],
   "source": [
    "orders.groupby([\"City\"]).agg({\"Profit\":\"sum\"}).sort_values(\"Profit\", ascending=False).iloc[-5:].plot(kind=\"bar\", color=\"red\")"
   ]
  },
  {
   "cell_type": "markdown",
   "id": "889b94ce",
   "metadata": {},
   "source": [
    "## WHICH MANUFACTURER HAS THE HIGHEST NET PROFIT AND MOST LOSSES\n",
    "- The top 5 manufacturers based on net profit (excluding the returned orders) are\n",
    "    - canon\n",
    "    - xenox\n",
    "    - Hewlett-Packard\n",
    "    - Fellowes\n",
    "    - Longitech\n",
    "        - they contribute 46.5% of the total net profit\n",
    "    \n",
    "- The bottom 5 manufacturers based on Net profit are \n",
    "    - Cubify\n",
    "    - \n",
    "    - O'sullivan\n",
    "    - Bevis\n",
    "    - Balt"
   ]
  },
  {
   "cell_type": "code",
   "execution_count": 77,
   "id": "b096f352",
   "metadata": {},
   "outputs": [
    {
     "data": {
      "text/plain": [
       "46.509576855254444"
      ]
     },
     "execution_count": 77,
     "metadata": {},
     "output_type": "execute_result"
    }
   ],
   "source": [
    "# What is the profit of The Top 5 Manufacturers\n",
    "pls = orders.groupby([\"Manufacturer\"]).agg({\"Profit\":\"sum\"}).sort_values(\"Profit\", ascending=False).iloc[:5]\n",
    "A = pls[\"Profit\"].sum()\n",
    "# What is the Profit \n",
    "B = orders[\"Profit\"].sum()\n",
    "\n",
    "# What percentage of the profit was contributed by the top 5 Manufacturers\n",
    "(A/B) * 100"
   ]
  },
  {
   "cell_type": "code",
   "execution_count": 79,
   "id": "f17843db",
   "metadata": {},
   "outputs": [
    {
     "data": {
      "text/plain": [
       "-8.358164489632953"
      ]
     },
     "execution_count": 79,
     "metadata": {},
     "output_type": "execute_result"
    }
   ],
   "source": [
    "# What is the profit of The Bottom 5 Manufacturers\n",
    "pls = orders.groupby([\"Manufacturer\"]).agg({\"Profit\":\"sum\"}).sort_values(\"Profit\", ascending=False).iloc[-5:]\n",
    "A = pls[\"Profit\"].sum()\n",
    "# What is the Profit \n",
    "B = orders[\"Profit\"].sum()\n",
    "\n",
    "# What percentage of the profit was contributed by the Bottom 5 Manufacturers\n",
    "(A/B) * 100"
   ]
  },
  {
   "cell_type": "code",
   "execution_count": 80,
   "id": "fd18b1e1",
   "metadata": {},
   "outputs": [
    {
     "data": {
      "text/plain": [
       "<AxesSubplot:xlabel='Manufacturer'>"
      ]
     },
     "execution_count": 80,
     "metadata": {},
     "output_type": "execute_result"
    },
    {
     "data": {
      "image/png": "[encoded data removed]",
      "text/plain": [
       "<Figure size 432x288 with 1 Axes>"
      ]
     },
     "metadata": {
      "needs_background": "light"
     },
     "output_type": "display_data"
    }
   ],
   "source": [
    "orders.groupby([\"Manufacturer\"]).agg({\"Profit\":\"sum\"}).sort_values(\"Profit\", ascending=False).iloc[1:6].plot(kind=\"bar\",color=\"Green\")"
   ]
  },
  {
   "cell_type": "code",
   "execution_count": 81,
   "id": "b0dcf5c8",
   "metadata": {},
   "outputs": [
    {
     "data": {
      "text/plain": [
       "<AxesSubplot:xlabel='Manufacturer'>"
      ]
     },
     "execution_count": 81,
     "metadata": {},
     "output_type": "execute_result"
    },
    {
     "data": {
      "image/png": "[encoded data removed]",
      "text/plain": [
       "<Figure size 432x288 with 1 Axes>"
      ]
     },
     "metadata": {
      "needs_background": "light"
     },
     "output_type": "display_data"
    }
   ],
   "source": [
    "orders.groupby([\"Manufacturer\"]).agg({\"Profit\":\"sum\"}).sort_values(\"Profit\", ascending=False).iloc[-5:].plot(kind=\"bar\",color=\"red\")"
   ]
  },
  {
   "cell_type": "code",
   "execution_count": 83,
   "id": "c9876740",
   "metadata": {},
   "outputs": [],
   "source": [
    "orders[\"Unit Price\"] = orders[\"Sales\"]/orders[\"Quantity\"] # Determining the Unit price of each product\n",
    "orders[\"Cost Price\"] = orders[\"Sales\"] - orders[\"Profit\"] # Determining the Cost price of each product in an order"
   ]
  },
  {
   "cell_type": "markdown",
   "id": "0c883b68",
   "metadata": {},
   "source": [
    "## WHAT WAS THE PERCENTAGE NET PROFIT OR LOSS\n",
    "- The Percentage of net profit is 13.8% (Excluding the returned otherwise)"
   ]
  },
  {
   "cell_type": "code",
   "execution_count": 85,
   "id": "7d59685e",
   "metadata": {},
   "outputs": [
    {
     "data": {
      "text/plain": [
       "13.810013538073337"
      ]
     },
     "execution_count": 85,
     "metadata": {},
     "output_type": "execute_result"
    }
   ],
   "source": [
    "(orders[\"Profit\"].sum()/orders[\"Cost Price\"].sum())*100"
   ]
  },
  {
   "cell_type": "markdown",
   "id": "b10650c4",
   "metadata": {},
   "source": [
    "# LOOKING INTO PROFIT WITHOUT TAKING INTO ACCOUNT THE LOSSES INCURRED"
   ]
  },
  {
   "cell_type": "code",
   "execution_count": 87,
   "id": "30d214d3",
   "metadata": {},
   "outputs": [],
   "source": [
    "Profits = orders[orders[\"Profit\"]>0]   # Filtering the orders that had a profit\n",
    "Losses = orders[orders[\"Profit\"]<0]    # Filtering the orders that had a loss"
   ]
  },
  {
   "cell_type": "markdown",
   "id": "f95b5869",
   "metadata": {},
   "source": [
    "### WHICH SUBCATEGORY HAS THE HIGHEST PROFIT"
   ]
  },
  {
   "cell_type": "code",
   "execution_count": 88,
   "id": "f0622bb6",
   "metadata": {},
   "outputs": [
    {
     "data": {
      "text/plain": [
       "<AxesSubplot:xlabel='Sub-Category'>"
      ]
     },
     "execution_count": 88,
     "metadata": {},
     "output_type": "execute_result"
    },
    {
     "data": {
      "image/png": "[encoded data removed]",
      "text/plain": [
       "<Figure size 432x288 with 1 Axes>"
      ]
     },
     "metadata": {
      "needs_background": "light"
     },
     "output_type": "display_data"
    }
   ],
   "source": [
    "Profits.groupby([\"Sub-Category\"]).agg({\"Profit\":\"sum\"}).sort_values(\"Profit\", ascending=False).iloc[1:6].plot(kind=\"bar\",color=\"Green\")"
   ]
  },
  {
   "cell_type": "markdown",
   "id": "1cb4084f",
   "metadata": {},
   "source": [
    "### WHICH SUBCATGORY HAS THE MOST LOSSES"
   ]
  },
  {
   "cell_type": "code",
   "execution_count": 89,
   "id": "aa38e94e",
   "metadata": {},
   "outputs": [
    {
     "data": {
      "text/plain": [
       "<AxesSubplot:xlabel='Sub-Category'>"
      ]
     },
     "execution_count": 89,
     "metadata": {},
     "output_type": "execute_result"
    },
    {
     "data": {
      "image/png": "[encoded data removed]",
      "text/plain": [
       "<Figure size 432x288 with 1 Axes>"
      ]
     },
     "metadata": {
      "needs_background": "light"
     },
     "output_type": "display_data"
    }
   ],
   "source": [
    "Losses.groupby([\"Sub-Category\"]).agg({\"Profit\":\"sum\"}).sort_values(\"Profit\", ascending=False).iloc[-5:].plot(kind=\"bar\",color=\"red\")"
   ]
  },
  {
   "cell_type": "markdown",
   "id": "a516076f",
   "metadata": {},
   "source": [
    "### WHICH MANUFACTURER HAS THE HIGHEST PROFIT"
   ]
  },
  {
   "cell_type": "code",
   "execution_count": 90,
   "id": "72fd506a",
   "metadata": {},
   "outputs": [
    {
     "data": {
      "text/plain": [
       "<AxesSubplot:xlabel='Manufacturer'>"
      ]
     },
     "execution_count": 90,
     "metadata": {},
     "output_type": "execute_result"
    },
    {
     "data": {
      "image/png": "[encoded data removed]",
      "text/plain": [
       "<Figure size 432x288 with 1 Axes>"
      ]
     },
     "metadata": {
      "needs_background": "light"
     },
     "output_type": "display_data"
    }
   ],
   "source": [
    "Profits.groupby([\"Manufacturer\"]).agg({\"Profit\":\"sum\"}).sort_values(\"Profit\", ascending=False).iloc[1:6].plot(kind=\"bar\",color=\"Green\")"
   ]
  },
  {
   "cell_type": "markdown",
   "id": "69d7cbd6",
   "metadata": {},
   "source": [
    "### WHICH MANUFACTURER HAS THE MOST LOSSES"
   ]
  },
  {
   "cell_type": "code",
   "execution_count": 91,
   "id": "29ab28be",
   "metadata": {},
   "outputs": [
    {
     "data": {
      "text/plain": [
       "<AxesSubplot:xlabel='Manufacturer'>"
      ]
     },
     "execution_count": 91,
     "metadata": {},
     "output_type": "execute_result"
    },
    {
     "data": {
      "image/png": "[encoded data removed]",
      "text/plain": [
       "<Figure size 432x288 with 1 Axes>"
      ]
     },
     "metadata": {
      "needs_background": "light"
     },
     "output_type": "display_data"
    }
   ],
   "source": [
    "Losses.groupby([\"Manufacturer\"]).agg({\"Profit\":\"sum\"}).sort_values(\"Profit\", ascending=False).iloc[-5:].plot(kind=\"bar\",color=\"red\")"
   ]
  },
  {
   "cell_type": "markdown",
   "id": "1d2f6fe3",
   "metadata": {},
   "source": [
    "## WHAT ARE THE FACTORS THAT AFFECT SALES\n",
    "- DISCOUNT SEEMS LIKE THE MAJOR CAUSE OF THE LOSSES INCURED"
   ]
  },
  {
   "cell_type": "code",
   "execution_count": 92,
   "id": "bcb7759f",
   "metadata": {},
   "outputs": [
    {
     "data": {
      "text/html": [
       "<div>\n",
       "<style scoped>\n",
       "    .dataframe tbody tr th:only-of-type {\n",
       "        vertical-align: middle;\n",
       "    }\n",
       "\n",
       "    .dataframe tbody tr th {\n",
       "        vertical-align: top;\n",
       "    }\n",
       "\n",
       "    .dataframe thead th {\n",
       "        text-align: right;\n",
       "    }\n",
       "</style>\n",
       "<table border=\"1\" class=\"dataframe\">\n",
       "  <thead>\n",
       "    <tr style=\"text-align: right;\">\n",
       "      <th></th>\n",
       "      <th>Sales</th>\n",
       "      <th>Cost Price</th>\n",
       "      <th>Profit</th>\n",
       "    </tr>\n",
       "  </thead>\n",
       "  <tbody>\n",
       "    <tr>\n",
       "      <th>0</th>\n",
       "      <td>48.860</td>\n",
       "      <td>34.6906</td>\n",
       "      <td>14.1694</td>\n",
       "    </tr>\n",
       "    <tr>\n",
       "      <th>1</th>\n",
       "      <td>7.280</td>\n",
       "      <td>5.3144</td>\n",
       "      <td>1.9656</td>\n",
       "    </tr>\n",
       "    <tr>\n",
       "      <th>2</th>\n",
       "      <td>907.152</td>\n",
       "      <td>816.4368</td>\n",
       "      <td>90.7152</td>\n",
       "    </tr>\n",
       "    <tr>\n",
       "      <th>3</th>\n",
       "      <td>18.504</td>\n",
       "      <td>12.7215</td>\n",
       "      <td>5.7825</td>\n",
       "    </tr>\n",
       "    <tr>\n",
       "      <th>4</th>\n",
       "      <td>114.900</td>\n",
       "      <td>80.4300</td>\n",
       "      <td>34.4700</td>\n",
       "    </tr>\n",
       "    <tr>\n",
       "      <th>...</th>\n",
       "      <td>...</td>\n",
       "      <td>...</td>\n",
       "      <td>...</td>\n",
       "    </tr>\n",
       "    <tr>\n",
       "      <th>11972</th>\n",
       "      <td>209.300</td>\n",
       "      <td>152.7890</td>\n",
       "      <td>56.5110</td>\n",
       "    </tr>\n",
       "    <tr>\n",
       "      <th>11973</th>\n",
       "      <td>323.136</td>\n",
       "      <td>311.0184</td>\n",
       "      <td>12.1176</td>\n",
       "    </tr>\n",
       "    <tr>\n",
       "      <th>11974</th>\n",
       "      <td>90.930</td>\n",
       "      <td>88.2021</td>\n",
       "      <td>2.7279</td>\n",
       "    </tr>\n",
       "    <tr>\n",
       "      <th>11975</th>\n",
       "      <td>52.776</td>\n",
       "      <td>32.9850</td>\n",
       "      <td>19.7910</td>\n",
       "    </tr>\n",
       "    <tr>\n",
       "      <th>11978</th>\n",
       "      <td>3.024</td>\n",
       "      <td>3.6288</td>\n",
       "      <td>-0.6048</td>\n",
       "    </tr>\n",
       "  </tbody>\n",
       "</table>\n",
       "<p>11028 rows × 3 columns</p>\n",
       "</div>"
      ],
      "text/plain": [
       "         Sales  Cost Price   Profit\n",
       "0       48.860     34.6906  14.1694\n",
       "1        7.280      5.3144   1.9656\n",
       "2      907.152    816.4368  90.7152\n",
       "3       18.504     12.7215   5.7825\n",
       "4      114.900     80.4300  34.4700\n",
       "...        ...         ...      ...\n",
       "11972  209.300    152.7890  56.5110\n",
       "11973  323.136    311.0184  12.1176\n",
       "11974   90.930     88.2021   2.7279\n",
       "11975   52.776     32.9850  19.7910\n",
       "11978    3.024      3.6288  -0.6048\n",
       "\n",
       "[11028 rows x 3 columns]"
      ]
     },
     "execution_count": 92,
     "metadata": {},
     "output_type": "execute_result"
    }
   ],
   "source": [
    "orders[[\"Sales\", \"Cost Price\",\"Profit\"]]"
   ]
  },
  {
   "cell_type": "code",
   "execution_count": 94,
   "id": "5d0d30d4",
   "metadata": {},
   "outputs": [],
   "source": [
    "orders[\"Percentage Loss or Profit\"] = (orders[\"Profit\"]/orders[\"Cost Price\"])*100 # The determimg the Percentage profit or loss of each transaction\n",
    "df_profit = orders[orders[\"Percentage Loss or Profit\"] >0]\n",
    "df_loss = orders[orders[\"Percentage Loss or Profit\"] <0]"
   ]
  },
  {
   "cell_type": "markdown",
   "id": "aded3a62",
   "metadata": {},
   "source": [
    "## WHAT IS THE RELATIONSHIP BETWEN DISCOUNT AND PERCENTAGE LOSS\n",
    "- The higher the discount the higher percentage loss"
   ]
  },
  {
   "cell_type": "code",
   "execution_count": 95,
   "id": "800a54b4",
   "metadata": {},
   "outputs": [
    {
     "data": {
      "text/plain": [
       "<AxesSubplot:xlabel='Discount', ylabel='Percentage Loss or Profit'>"
      ]
     },
     "execution_count": 95,
     "metadata": {},
     "output_type": "execute_result"
    },
    {
     "data": {
      "image/png": "[encoded data removed]",
      "text/plain": [
       "<Figure size 432x288 with 1 Axes>"
      ]
     },
     "metadata": {
      "needs_background": "light"
     },
     "output_type": "display_data"
    }
   ],
   "source": [
    "df_loss.plot(kind=\"scatter\", x=\"Discount\", y=\"Percentage Loss or Profit\")"
   ]
  },
  {
   "cell_type": "markdown",
   "id": "239b4620",
   "metadata": {},
   "source": [
    "## WHAT IS THE RELATIONSHIP BETWEN DISCOUNT AND PERCENTAGE PROFIT\n",
    "- The maximum percentage at whicjh there was a profit was 40%"
   ]
  },
  {
   "cell_type": "code",
   "execution_count": 96,
   "id": "24c6a367",
   "metadata": {},
   "outputs": [
    {
     "data": {
      "text/plain": [
       "<AxesSubplot:xlabel='Discount', ylabel='Percentage Loss or Profit'>"
      ]
     },
     "execution_count": 96,
     "metadata": {},
     "output_type": "execute_result"
    },
    {
     "data": {
      "image/png": "[encoded data removed]",
      "text/plain": [
       "<Figure size 432x288 with 1 Axes>"
      ]
     },
     "metadata": {
      "needs_background": "light"
     },
     "output_type": "display_data"
    }
   ],
   "source": [
    "df_profit.plot(kind=\"scatter\", x=\"Discount\", y=\"Percentage Loss or Profit\")"
   ]
  },
  {
   "cell_type": "markdown",
   "id": "ccb042bd",
   "metadata": {},
   "source": [
    "## WHAT IS THE DISCOUNTED AMOUNT\n",
    "- The discounted amount is $645178.55"
   ]
  },
  {
   "cell_type": "code",
   "execution_count": 97,
   "id": "0f2989fb",
   "metadata": {},
   "outputs": [
    {
     "data": {
      "text/html": [
       "<div>\n",
       "<style scoped>\n",
       "    .dataframe tbody tr th:only-of-type {\n",
       "        vertical-align: middle;\n",
       "    }\n",
       "\n",
       "    .dataframe tbody tr th {\n",
       "        vertical-align: top;\n",
       "    }\n",
       "\n",
       "    .dataframe thead th {\n",
       "        text-align: right;\n",
       "    }\n",
       "</style>\n",
       "<table border=\"1\" class=\"dataframe\">\n",
       "  <thead>\n",
       "    <tr style=\"text-align: right;\">\n",
       "      <th></th>\n",
       "      <th>Row ID</th>\n",
       "      <th>Order ID</th>\n",
       "      <th>Order Date</th>\n",
       "      <th>Ship Date</th>\n",
       "      <th>Ship Mode</th>\n",
       "      <th>Customer ID</th>\n",
       "      <th>Customer Name</th>\n",
       "      <th>Segment</th>\n",
       "      <th>Country/Region</th>\n",
       "      <th>City</th>\n",
       "      <th>State</th>\n",
       "      <th>Postal Code</th>\n",
       "      <th>Region</th>\n",
       "      <th>Product ID</th>\n",
       "      <th>Category</th>\n",
       "      <th>Sub-Category</th>\n",
       "      <th>Product Name</th>\n",
       "      <th>Sales</th>\n",
       "      <th>Quantity</th>\n",
       "      <th>Discount</th>\n",
       "      <th>Profit</th>\n",
       "      <th>Returned</th>\n",
       "      <th>Manufacturer</th>\n",
       "      <th>Unit Price</th>\n",
       "      <th>Cost Price</th>\n",
       "      <th>Percentage Loss or Profit</th>\n",
       "    </tr>\n",
       "  </thead>\n",
       "  <tbody>\n",
       "    <tr>\n",
       "      <th>0</th>\n",
       "      <td>6</td>\n",
       "      <td>CA-2016-115812</td>\n",
       "      <td>2016-06-09</td>\n",
       "      <td>2016-06-14</td>\n",
       "      <td>Standard Class</td>\n",
       "      <td>BH-11710</td>\n",
       "      <td>Brosina Hoffman</td>\n",
       "      <td>Consumer</td>\n",
       "      <td>United States</td>\n",
       "      <td>Los Angeles</td>\n",
       "      <td>California</td>\n",
       "      <td>90032.0</td>\n",
       "      <td>West</td>\n",
       "      <td>FUR-FU-10001487</td>\n",
       "      <td>Furniture</td>\n",
       "      <td>Furnishings</td>\n",
       "      <td>Eldon Expressions Wood and Plastic Desk Access...</td>\n",
       "      <td>48.860</td>\n",
       "      <td>7</td>\n",
       "      <td>0.0</td>\n",
       "      <td>14.1694</td>\n",
       "      <td>No</td>\n",
       "      <td>Eldon</td>\n",
       "      <td>6.980</td>\n",
       "      <td>34.6906</td>\n",
       "      <td>40.845070</td>\n",
       "    </tr>\n",
       "    <tr>\n",
       "      <th>1</th>\n",
       "      <td>7</td>\n",
       "      <td>CA-2016-115812</td>\n",
       "      <td>2016-06-09</td>\n",
       "      <td>2016-06-14</td>\n",
       "      <td>Standard Class</td>\n",
       "      <td>BH-11710</td>\n",
       "      <td>Brosina Hoffman</td>\n",
       "      <td>Consumer</td>\n",
       "      <td>United States</td>\n",
       "      <td>Los Angeles</td>\n",
       "      <td>California</td>\n",
       "      <td>90032.0</td>\n",
       "      <td>West</td>\n",
       "      <td>OFF-AR-10002833</td>\n",
       "      <td>Office Supplies</td>\n",
       "      <td>Art</td>\n",
       "      <td>Newell 322</td>\n",
       "      <td>7.280</td>\n",
       "      <td>4</td>\n",
       "      <td>0.0</td>\n",
       "      <td>1.9656</td>\n",
       "      <td>No</td>\n",
       "      <td>Newell</td>\n",
       "      <td>1.820</td>\n",
       "      <td>5.3144</td>\n",
       "      <td>36.986301</td>\n",
       "    </tr>\n",
       "    <tr>\n",
       "      <th>2</th>\n",
       "      <td>8</td>\n",
       "      <td>CA-2016-115812</td>\n",
       "      <td>2016-06-09</td>\n",
       "      <td>2016-06-14</td>\n",
       "      <td>Standard Class</td>\n",
       "      <td>BH-11710</td>\n",
       "      <td>Brosina Hoffman</td>\n",
       "      <td>Consumer</td>\n",
       "      <td>United States</td>\n",
       "      <td>Los Angeles</td>\n",
       "      <td>California</td>\n",
       "      <td>90032.0</td>\n",
       "      <td>West</td>\n",
       "      <td>TEC-PH-10002275</td>\n",
       "      <td>Technology</td>\n",
       "      <td>Phones</td>\n",
       "      <td>Mitel 5320 IP Phone VoIP phone</td>\n",
       "      <td>907.152</td>\n",
       "      <td>6</td>\n",
       "      <td>0.2</td>\n",
       "      <td>90.7152</td>\n",
       "      <td>No</td>\n",
       "      <td>Mitel</td>\n",
       "      <td>151.192</td>\n",
       "      <td>816.4368</td>\n",
       "      <td>11.111111</td>\n",
       "    </tr>\n",
       "    <tr>\n",
       "      <th>3</th>\n",
       "      <td>9</td>\n",
       "      <td>CA-2016-115812</td>\n",
       "      <td>2016-06-09</td>\n",
       "      <td>2016-06-14</td>\n",
       "      <td>Standard Class</td>\n",
       "      <td>BH-11710</td>\n",
       "      <td>Brosina Hoffman</td>\n",
       "      <td>Consumer</td>\n",
       "      <td>United States</td>\n",
       "      <td>Los Angeles</td>\n",
       "      <td>California</td>\n",
       "      <td>90032.0</td>\n",
       "      <td>West</td>\n",
       "      <td>OFF-BI-10003910</td>\n",
       "      <td>Office Supplies</td>\n",
       "      <td>Binders</td>\n",
       "      <td>DXL Angle-View Binders with Locking Rings by S...</td>\n",
       "      <td>18.504</td>\n",
       "      <td>3</td>\n",
       "      <td>0.2</td>\n",
       "      <td>5.7825</td>\n",
       "      <td>No</td>\n",
       "      <td>DXL</td>\n",
       "      <td>6.168</td>\n",
       "      <td>12.7215</td>\n",
       "      <td>45.454545</td>\n",
       "    </tr>\n",
       "    <tr>\n",
       "      <th>4</th>\n",
       "      <td>10</td>\n",
       "      <td>CA-2016-115812</td>\n",
       "      <td>2016-06-09</td>\n",
       "      <td>2016-06-14</td>\n",
       "      <td>Standard Class</td>\n",
       "      <td>BH-11710</td>\n",
       "      <td>Brosina Hoffman</td>\n",
       "      <td>Consumer</td>\n",
       "      <td>United States</td>\n",
       "      <td>Los Angeles</td>\n",
       "      <td>California</td>\n",
       "      <td>90032.0</td>\n",
       "      <td>West</td>\n",
       "      <td>OFF-AP-10002892</td>\n",
       "      <td>Office Supplies</td>\n",
       "      <td>Appliances</td>\n",
       "      <td>Belkin F5C206VTEL 6 Outlet Surge</td>\n",
       "      <td>114.900</td>\n",
       "      <td>5</td>\n",
       "      <td>0.0</td>\n",
       "      <td>34.4700</td>\n",
       "      <td>No</td>\n",
       "      <td>Belkin</td>\n",
       "      <td>22.980</td>\n",
       "      <td>80.4300</td>\n",
       "      <td>42.857143</td>\n",
       "    </tr>\n",
       "  </tbody>\n",
       "</table>\n",
       "</div>"
      ],
      "text/plain": [
       "   Row ID        Order ID Order Date  Ship Date       Ship Mode Customer ID  \\\n",
       "0       6  CA-2016-115812 2016-06-09 2016-06-14  Standard Class    BH-11710   \n",
       "1       7  CA-2016-115812 2016-06-09 2016-06-14  Standard Class    BH-11710   \n",
       "2       8  CA-2016-115812 2016-06-09 2016-06-14  Standard Class    BH-11710   \n",
       "3       9  CA-2016-115812 2016-06-09 2016-06-14  Standard Class    BH-11710   \n",
       "4      10  CA-2016-115812 2016-06-09 2016-06-14  Standard Class    BH-11710   \n",
       "\n",
       "     Customer Name   Segment Country/Region         City       State  \\\n",
       "0  Brosina Hoffman  Consumer  United States  Los Angeles  California   \n",
       "1  Brosina Hoffman  Consumer  United States  Los Angeles  California   \n",
       "2  Brosina Hoffman  Consumer  United States  Los Angeles  California   \n",
       "3  Brosina Hoffman  Consumer  United States  Los Angeles  California   \n",
       "4  Brosina Hoffman  Consumer  United States  Los Angeles  California   \n",
       "\n",
       "   Postal Code Region       Product ID         Category Sub-Category  \\\n",
       "0      90032.0   West  FUR-FU-10001487        Furniture  Furnishings   \n",
       "1      90032.0   West  OFF-AR-10002833  Office Supplies          Art   \n",
       "2      90032.0   West  TEC-PH-10002275       Technology       Phones   \n",
       "3      90032.0   West  OFF-BI-10003910  Office Supplies      Binders   \n",
       "4      90032.0   West  OFF-AP-10002892  Office Supplies   Appliances   \n",
       "\n",
       "                                        Product Name    Sales  Quantity  \\\n",
       "0  Eldon Expressions Wood and Plastic Desk Access...   48.860         7   \n",
       "1                                         Newell 322    7.280         4   \n",
       "2                     Mitel 5320 IP Phone VoIP phone  907.152         6   \n",
       "3  DXL Angle-View Binders with Locking Rings by S...   18.504         3   \n",
       "4                   Belkin F5C206VTEL 6 Outlet Surge  114.900         5   \n",
       "\n",
       "   Discount   Profit Returned Manufacturer  Unit Price  Cost Price  \\\n",
       "0       0.0  14.1694       No        Eldon       6.980     34.6906   \n",
       "1       0.0   1.9656       No       Newell       1.820      5.3144   \n",
       "2       0.2  90.7152       No        Mitel     151.192    816.4368   \n",
       "3       0.2   5.7825       No          DXL       6.168     12.7215   \n",
       "4       0.0  34.4700       No       Belkin      22.980     80.4300   \n",
       "\n",
       "   Percentage Loss or Profit  \n",
       "0                  40.845070  \n",
       "1                  36.986301  \n",
       "2                  11.111111  \n",
       "3                  45.454545  \n",
       "4                  42.857143  "
      ]
     },
     "execution_count": 97,
     "metadata": {},
     "output_type": "execute_result"
    }
   ],
   "source": [
    "orders.head()"
   ]
  },
  {
   "cell_type": "code",
   "execution_count": 98,
   "id": "bd9a853f",
   "metadata": {},
   "outputs": [],
   "source": [
    "def sales_without_discount(df): # Defining a function tha determines the percentage of sales that was paid\n",
    "    if df==0:\n",
    "        return 1\n",
    "    else:\n",
    "        return 1-df\n",
    "\n",
    "    \n",
    "    \n",
    "orders[\"Discount_1\"] = orders[\"Discount\"].apply(sales_without_discount) # Determimg what percent of the sales was paid\n",
    "orders[\"Sales without discount\"] = orders[\"Sales\"] /orders[\"Discount_1\"] # Determing the sales without discount\n",
    "orders[\"Unit Price Without Discount\"] = orders[\"Sales without discount\"]/orders[\"Quantity\"] # determing the unit price without discount\n",
    "orders[\"Profit without discount\"] = orders[\"Profit\"] + orders[\"Sales without discount\"]-orders[\"Sales\"] # determing the profit of each sales without discount"
   ]
  },
  {
   "cell_type": "code",
   "execution_count": 100,
   "id": "c45c9d47",
   "metadata": {},
   "outputs": [
    {
     "data": {
      "text/plain": [
       "645178.5455"
      ]
     },
     "execution_count": 100,
     "metadata": {},
     "output_type": "execute_result"
    }
   ],
   "source": [
    "orders[\"Discounted Amount\"] = orders[\"Discount\"] * orders[\"Sales without discount\"] # Determining the discounted amount\n",
    "orders[\"Discounted Amount\"].sum()"
   ]
  },
  {
   "cell_type": "code",
   "execution_count": 103,
   "id": "da49fda2",
   "metadata": {},
   "outputs": [],
   "source": [
    "# Defining a function that determines the net discount of a category\n",
    "def category_discount(category):\n",
    "    category_discount = orders.groupby([category]).agg({\"Discounted Amount\":\"sum\",\n",
    "                            \"Sales without discount\":\"sum\"})\n",
    "    #category_discount[\"Discount\"] = category_discount[\"Discounted Amount\"]/category[\"Sales without discount\"]\n",
    "    return category_discount\n",
    "\n",
    "def category_discount2(category):\n",
    "    Brand_discount = category_discount(category)\n",
    "    Brand_discount[\"Discount\"] = Brand_discount[\"Discounted Amount\"]/Brand_discount[\"Sales without discount\"]\n",
    "    Brand_discount.sort_values(\"Discount\", ascending=False, inplace=True)\n",
    "    return Brand_discount"
   ]
  },
  {
   "cell_type": "markdown",
   "id": "94d677a7",
   "metadata": {},
   "source": [
    "## WHICH STATE HAD THE MOST DISCOUNT\n",
    " - The States that had the most discounts are \n",
    "     - tennesse\n",
    "     - Ohio\n",
    "     - Florida\n",
    "     - Illinois \n",
    "     - North carolina. \n",
    "           - These states also had the most losses"
   ]
  },
  {
   "cell_type": "code",
   "execution_count": 104,
   "id": "f567cc8a",
   "metadata": {},
   "outputs": [
    {
     "data": {
      "text/html": [
       "<div>\n",
       "<style scoped>\n",
       "    .dataframe tbody tr th:only-of-type {\n",
       "        vertical-align: middle;\n",
       "    }\n",
       "\n",
       "    .dataframe tbody tr th {\n",
       "        vertical-align: top;\n",
       "    }\n",
       "\n",
       "    .dataframe thead th {\n",
       "        text-align: right;\n",
       "    }\n",
       "</style>\n",
       "<table border=\"1\" class=\"dataframe\">\n",
       "  <thead>\n",
       "    <tr style=\"text-align: right;\">\n",
       "      <th></th>\n",
       "      <th>Discounted Amount</th>\n",
       "      <th>Sales without discount</th>\n",
       "      <th>Discount</th>\n",
       "    </tr>\n",
       "    <tr>\n",
       "      <th>State</th>\n",
       "      <th></th>\n",
       "      <th></th>\n",
       "      <th></th>\n",
       "    </tr>\n",
       "  </thead>\n",
       "  <tbody>\n",
       "    <tr>\n",
       "      <th>Tennessee</th>\n",
       "      <td>21079.9070</td>\n",
       "      <td>50491.41</td>\n",
       "      <td>0.417495</td>\n",
       "    </tr>\n",
       "    <tr>\n",
       "      <th>Ohio</th>\n",
       "      <td>55333.6430</td>\n",
       "      <td>138081.14</td>\n",
       "      <td>0.400733</td>\n",
       "    </tr>\n",
       "    <tr>\n",
       "      <th>Florida</th>\n",
       "      <td>79364.9475</td>\n",
       "      <td>200612.64</td>\n",
       "      <td>0.395613</td>\n",
       "    </tr>\n",
       "    <tr>\n",
       "      <th>Illinois</th>\n",
       "      <td>61281.1970</td>\n",
       "      <td>155338.15</td>\n",
       "      <td>0.394502</td>\n",
       "    </tr>\n",
       "    <tr>\n",
       "      <th>North Carolina</th>\n",
       "      <td>37504.6000</td>\n",
       "      <td>99176.96</td>\n",
       "      <td>0.378158</td>\n",
       "    </tr>\n",
       "    <tr>\n",
       "      <th>Pennsylvania</th>\n",
       "      <td>80479.1290</td>\n",
       "      <td>213234.35</td>\n",
       "      <td>0.377421</td>\n",
       "    </tr>\n",
       "    <tr>\n",
       "      <th>Texas</th>\n",
       "      <td>125595.3400</td>\n",
       "      <td>333855.02</td>\n",
       "      <td>0.376197</td>\n",
       "    </tr>\n",
       "    <tr>\n",
       "      <th>Arizona</th>\n",
       "      <td>22586.6670</td>\n",
       "      <td>60148.13</td>\n",
       "      <td>0.375517</td>\n",
       "    </tr>\n",
       "    <tr>\n",
       "      <th>Colorado</th>\n",
       "      <td>19022.5640</td>\n",
       "      <td>51429.04</td>\n",
       "      <td>0.369880</td>\n",
       "    </tr>\n",
       "    <tr>\n",
       "      <th>Oregon</th>\n",
       "      <td>7640.3710</td>\n",
       "      <td>28177.18</td>\n",
       "      <td>0.271155</td>\n",
       "    </tr>\n",
       "    <tr>\n",
       "      <th>Wyoming</th>\n",
       "      <td>400.7840</td>\n",
       "      <td>2003.92</td>\n",
       "      <td>0.200000</td>\n",
       "    </tr>\n",
       "    <tr>\n",
       "      <th>West Virginia</th>\n",
       "      <td>288.5760</td>\n",
       "      <td>1498.40</td>\n",
       "      <td>0.192589</td>\n",
       "    </tr>\n",
       "    <tr>\n",
       "      <th>Nevada</th>\n",
       "      <td>3135.3180</td>\n",
       "      <td>22425.63</td>\n",
       "      <td>0.139810</td>\n",
       "    </tr>\n",
       "    <tr>\n",
       "      <th>California</th>\n",
       "      <td>72935.4240</td>\n",
       "      <td>550610.93</td>\n",
       "      <td>0.132463</td>\n",
       "    </tr>\n",
       "    <tr>\n",
       "      <th>Washington</th>\n",
       "      <td>15166.1560</td>\n",
       "      <td>156223.46</td>\n",
       "      <td>0.097080</td>\n",
       "    </tr>\n",
       "    <tr>\n",
       "      <th>New York</th>\n",
       "      <td>37346.6720</td>\n",
       "      <td>386009.83</td>\n",
       "      <td>0.096751</td>\n",
       "    </tr>\n",
       "    <tr>\n",
       "      <th>New Mexico</th>\n",
       "      <td>513.0880</td>\n",
       "      <td>5344.24</td>\n",
       "      <td>0.096008</td>\n",
       "    </tr>\n",
       "    <tr>\n",
       "      <th>Idaho</th>\n",
       "      <td>300.1740</td>\n",
       "      <td>4146.68</td>\n",
       "      <td>0.072389</td>\n",
       "    </tr>\n",
       "    <tr>\n",
       "      <th>New Hampshire</th>\n",
       "      <td>451.3560</td>\n",
       "      <td>7523.81</td>\n",
       "      <td>0.059990</td>\n",
       "    </tr>\n",
       "    <tr>\n",
       "      <th>Massachusetts</th>\n",
       "      <td>1978.1550</td>\n",
       "      <td>34032.07</td>\n",
       "      <td>0.058126</td>\n",
       "    </tr>\n",
       "    <tr>\n",
       "      <th>Montana</th>\n",
       "      <td>266.9700</td>\n",
       "      <td>6237.15</td>\n",
       "      <td>0.042803</td>\n",
       "    </tr>\n",
       "    <tr>\n",
       "      <th>Rhode Island</th>\n",
       "      <td>707.1480</td>\n",
       "      <td>27750.89</td>\n",
       "      <td>0.025482</td>\n",
       "    </tr>\n",
       "    <tr>\n",
       "      <th>Utah</th>\n",
       "      <td>182.4700</td>\n",
       "      <td>9498.78</td>\n",
       "      <td>0.019210</td>\n",
       "    </tr>\n",
       "    <tr>\n",
       "      <th>Maryland</th>\n",
       "      <td>338.4870</td>\n",
       "      <td>23813.78</td>\n",
       "      <td>0.014214</td>\n",
       "    </tr>\n",
       "    <tr>\n",
       "      <th>Michigan</th>\n",
       "      <td>876.0970</td>\n",
       "      <td>81237.83</td>\n",
       "      <td>0.010784</td>\n",
       "    </tr>\n",
       "    <tr>\n",
       "      <th>Connecticut</th>\n",
       "      <td>138.3930</td>\n",
       "      <td>16316.77</td>\n",
       "      <td>0.008482</td>\n",
       "    </tr>\n",
       "    <tr>\n",
       "      <th>New Jersey</th>\n",
       "      <td>179.2680</td>\n",
       "      <td>39899.89</td>\n",
       "      <td>0.004493</td>\n",
       "    </tr>\n",
       "    <tr>\n",
       "      <th>Delaware</th>\n",
       "      <td>85.6440</td>\n",
       "      <td>29983.02</td>\n",
       "      <td>0.002856</td>\n",
       "    </tr>\n",
       "    <tr>\n",
       "      <th>Minnesota</th>\n",
       "      <td>0.0000</td>\n",
       "      <td>45703.48</td>\n",
       "      <td>0.000000</td>\n",
       "    </tr>\n",
       "    <tr>\n",
       "      <th>Wisconsin</th>\n",
       "      <td>0.0000</td>\n",
       "      <td>36628.17</td>\n",
       "      <td>0.000000</td>\n",
       "    </tr>\n",
       "    <tr>\n",
       "      <th>Arkansas</th>\n",
       "      <td>0.0000</td>\n",
       "      <td>17980.82</td>\n",
       "      <td>0.000000</td>\n",
       "    </tr>\n",
       "    <tr>\n",
       "      <th>Virginia</th>\n",
       "      <td>0.0000</td>\n",
       "      <td>90843.07</td>\n",
       "      <td>0.000000</td>\n",
       "    </tr>\n",
       "    <tr>\n",
       "      <th>Vermont</th>\n",
       "      <td>0.0000</td>\n",
       "      <td>8929.37</td>\n",
       "      <td>0.000000</td>\n",
       "    </tr>\n",
       "    <tr>\n",
       "      <th>District of Columbia</th>\n",
       "      <td>0.0000</td>\n",
       "      <td>2865.02</td>\n",
       "      <td>0.000000</td>\n",
       "    </tr>\n",
       "    <tr>\n",
       "      <th>South Dakota</th>\n",
       "      <td>0.0000</td>\n",
       "      <td>1477.71</td>\n",
       "      <td>0.000000</td>\n",
       "    </tr>\n",
       "    <tr>\n",
       "      <th>South Carolina</th>\n",
       "      <td>0.0000</td>\n",
       "      <td>10752.57</td>\n",
       "      <td>0.000000</td>\n",
       "    </tr>\n",
       "    <tr>\n",
       "      <th>Indiana</th>\n",
       "      <td>0.0000</td>\n",
       "      <td>55827.96</td>\n",
       "      <td>0.000000</td>\n",
       "    </tr>\n",
       "    <tr>\n",
       "      <th>Georgia</th>\n",
       "      <td>0.0000</td>\n",
       "      <td>50869.32</td>\n",
       "      <td>0.000000</td>\n",
       "    </tr>\n",
       "    <tr>\n",
       "      <th>Mississippi</th>\n",
       "      <td>0.0000</td>\n",
       "      <td>12573.82</td>\n",
       "      <td>0.000000</td>\n",
       "    </tr>\n",
       "    <tr>\n",
       "      <th>Oklahoma</th>\n",
       "      <td>0.0000</td>\n",
       "      <td>22142.07</td>\n",
       "      <td>0.000000</td>\n",
       "    </tr>\n",
       "    <tr>\n",
       "      <th>Iowa</th>\n",
       "      <td>0.0000</td>\n",
       "      <td>5770.60</td>\n",
       "      <td>0.000000</td>\n",
       "    </tr>\n",
       "    <tr>\n",
       "      <th>North Dakota</th>\n",
       "      <td>0.0000</td>\n",
       "      <td>919.91</td>\n",
       "      <td>0.000000</td>\n",
       "    </tr>\n",
       "    <tr>\n",
       "      <th>Kansas</th>\n",
       "      <td>0.0000</td>\n",
       "      <td>4234.10</td>\n",
       "      <td>0.000000</td>\n",
       "    </tr>\n",
       "    <tr>\n",
       "      <th>Kentucky</th>\n",
       "      <td>0.0000</td>\n",
       "      <td>43889.06</td>\n",
       "      <td>0.000000</td>\n",
       "    </tr>\n",
       "    <tr>\n",
       "      <th>Louisiana</th>\n",
       "      <td>0.0000</td>\n",
       "      <td>10086.33</td>\n",
       "      <td>0.000000</td>\n",
       "    </tr>\n",
       "    <tr>\n",
       "      <th>Maine</th>\n",
       "      <td>0.0000</td>\n",
       "      <td>1887.65</td>\n",
       "      <td>0.000000</td>\n",
       "    </tr>\n",
       "    <tr>\n",
       "      <th>Nebraska</th>\n",
       "      <td>0.0000</td>\n",
       "      <td>7640.45</td>\n",
       "      <td>0.000000</td>\n",
       "    </tr>\n",
       "    <tr>\n",
       "      <th>Missouri</th>\n",
       "      <td>0.0000</td>\n",
       "      <td>23801.34</td>\n",
       "      <td>0.000000</td>\n",
       "    </tr>\n",
       "    <tr>\n",
       "      <th>Alabama</th>\n",
       "      <td>0.0000</td>\n",
       "      <td>25287.87</td>\n",
       "      <td>0.000000</td>\n",
       "    </tr>\n",
       "  </tbody>\n",
       "</table>\n",
       "</div>"
      ],
      "text/plain": [
       "                      Discounted Amount  Sales without discount  Discount\n",
       "State                                                                    \n",
       "Tennessee                    21079.9070                50491.41  0.417495\n",
       "Ohio                         55333.6430               138081.14  0.400733\n",
       "Florida                      79364.9475               200612.64  0.395613\n",
       "Illinois                     61281.1970               155338.15  0.394502\n",
       "North Carolina               37504.6000                99176.96  0.378158\n",
       "Pennsylvania                 80479.1290               213234.35  0.377421\n",
       "Texas                       125595.3400               333855.02  0.376197\n",
       "Arizona                      22586.6670                60148.13  0.375517\n",
       "Colorado                     19022.5640                51429.04  0.369880\n",
       "Oregon                        7640.3710                28177.18  0.271155\n",
       "Wyoming                        400.7840                 2003.92  0.200000\n",
       "West Virginia                  288.5760                 1498.40  0.192589\n",
       "Nevada                        3135.3180                22425.63  0.139810\n",
       "California                   72935.4240               550610.93  0.132463\n",
       "Washington                   15166.1560               156223.46  0.097080\n",
       "New York                     37346.6720               386009.83  0.096751\n",
       "New Mexico                     513.0880                 5344.24  0.096008\n",
       "Idaho                          300.1740                 4146.68  0.072389\n",
       "New Hampshire                  451.3560                 7523.81  0.059990\n",
       "Massachusetts                 1978.1550                34032.07  0.058126\n",
       "Montana                        266.9700                 6237.15  0.042803\n",
       "Rhode Island                   707.1480                27750.89  0.025482\n",
       "Utah                           182.4700                 9498.78  0.019210\n",
       "Maryland                       338.4870                23813.78  0.014214\n",
       "Michigan                       876.0970                81237.83  0.010784\n",
       "Connecticut                    138.3930                16316.77  0.008482\n",
       "New Jersey                     179.2680                39899.89  0.004493\n",
       "Delaware                        85.6440                29983.02  0.002856\n",
       "Minnesota                        0.0000                45703.48  0.000000\n",
       "Wisconsin                        0.0000                36628.17  0.000000\n",
       "Arkansas                         0.0000                17980.82  0.000000\n",
       "Virginia                         0.0000                90843.07  0.000000\n",
       "Vermont                          0.0000                 8929.37  0.000000\n",
       "District of Columbia             0.0000                 2865.02  0.000000\n",
       "South Dakota                     0.0000                 1477.71  0.000000\n",
       "South Carolina                   0.0000                10752.57  0.000000\n",
       "Indiana                          0.0000                55827.96  0.000000\n",
       "Georgia                          0.0000                50869.32  0.000000\n",
       "Mississippi                      0.0000                12573.82  0.000000\n",
       "Oklahoma                         0.0000                22142.07  0.000000\n",
       "Iowa                             0.0000                 5770.60  0.000000\n",
       "North Dakota                     0.0000                  919.91  0.000000\n",
       "Kansas                           0.0000                 4234.10  0.000000\n",
       "Kentucky                         0.0000                43889.06  0.000000\n",
       "Louisiana                        0.0000                10086.33  0.000000\n",
       "Maine                            0.0000                 1887.65  0.000000\n",
       "Nebraska                         0.0000                 7640.45  0.000000\n",
       "Missouri                         0.0000                23801.34  0.000000\n",
       "Alabama                          0.0000                25287.87  0.000000"
      ]
     },
     "execution_count": 104,
     "metadata": {},
     "output_type": "execute_result"
    }
   ],
   "source": [
    "State_discount = category_discount2(\"State\")\n",
    "State_discount"
   ]
  },
  {
   "cell_type": "markdown",
   "id": "b9b70f2b",
   "metadata": {},
   "source": [
    "## WHICH CITY HAD THE MOST DISCOUNT"
   ]
  },
  {
   "cell_type": "code",
   "execution_count": 105,
   "id": "39f06383",
   "metadata": {},
   "outputs": [
    {
     "data": {
      "text/html": [
       "<div>\n",
       "<style scoped>\n",
       "    .dataframe tbody tr th:only-of-type {\n",
       "        vertical-align: middle;\n",
       "    }\n",
       "\n",
       "    .dataframe tbody tr th {\n",
       "        vertical-align: top;\n",
       "    }\n",
       "\n",
       "    .dataframe thead th {\n",
       "        text-align: right;\n",
       "    }\n",
       "</style>\n",
       "<table border=\"1\" class=\"dataframe\">\n",
       "  <thead>\n",
       "    <tr style=\"text-align: right;\">\n",
       "      <th></th>\n",
       "      <th>Discounted Amount</th>\n",
       "      <th>Sales without discount</th>\n",
       "      <th>Discount</th>\n",
       "    </tr>\n",
       "    <tr>\n",
       "      <th>City</th>\n",
       "      <th></th>\n",
       "      <th></th>\n",
       "      <th></th>\n",
       "    </tr>\n",
       "  </thead>\n",
       "  <tbody>\n",
       "    <tr>\n",
       "      <th>Abilene</th>\n",
       "      <td>5.568</td>\n",
       "      <td>6.96</td>\n",
       "      <td>0.800000</td>\n",
       "    </tr>\n",
       "    <tr>\n",
       "      <th>Romeoville</th>\n",
       "      <td>71.616</td>\n",
       "      <td>89.52</td>\n",
       "      <td>0.800000</td>\n",
       "    </tr>\n",
       "    <tr>\n",
       "      <th>Deer Park</th>\n",
       "      <td>27.696</td>\n",
       "      <td>34.62</td>\n",
       "      <td>0.800000</td>\n",
       "    </tr>\n",
       "    <tr>\n",
       "      <th>Missouri City</th>\n",
       "      <td>25.480</td>\n",
       "      <td>31.85</td>\n",
       "      <td>0.800000</td>\n",
       "    </tr>\n",
       "    <tr>\n",
       "      <th>Oswego</th>\n",
       "      <td>2477.124</td>\n",
       "      <td>3121.08</td>\n",
       "      <td>0.793675</td>\n",
       "    </tr>\n",
       "    <tr>\n",
       "      <th>...</th>\n",
       "      <td>...</td>\n",
       "      <td>...</td>\n",
       "      <td>...</td>\n",
       "    </tr>\n",
       "    <tr>\n",
       "      <th>Revere</th>\n",
       "      <td>0.000</td>\n",
       "      <td>906.46</td>\n",
       "      <td>0.000000</td>\n",
       "    </tr>\n",
       "    <tr>\n",
       "      <th>Montebello</th>\n",
       "      <td>0.000</td>\n",
       "      <td>27.88</td>\n",
       "      <td>0.000000</td>\n",
       "    </tr>\n",
       "    <tr>\n",
       "      <th>Richmond</th>\n",
       "      <td>0.000</td>\n",
       "      <td>20811.81</td>\n",
       "      <td>0.000000</td>\n",
       "    </tr>\n",
       "    <tr>\n",
       "      <th>Dearborn Heights</th>\n",
       "      <td>0.000</td>\n",
       "      <td>1822.18</td>\n",
       "      <td>0.000000</td>\n",
       "    </tr>\n",
       "    <tr>\n",
       "      <th>Aberdeen</th>\n",
       "      <td>0.000</td>\n",
       "      <td>25.50</td>\n",
       "      <td>0.000000</td>\n",
       "    </tr>\n",
       "  </tbody>\n",
       "</table>\n",
       "<p>523 rows × 3 columns</p>\n",
       "</div>"
      ],
      "text/plain": [
       "                  Discounted Amount  Sales without discount  Discount\n",
       "City                                                                 \n",
       "Abilene                       5.568                    6.96  0.800000\n",
       "Romeoville                   71.616                   89.52  0.800000\n",
       "Deer Park                    27.696                   34.62  0.800000\n",
       "Missouri City                25.480                   31.85  0.800000\n",
       "Oswego                     2477.124                 3121.08  0.793675\n",
       "...                             ...                     ...       ...\n",
       "Revere                        0.000                  906.46  0.000000\n",
       "Montebello                    0.000                   27.88  0.000000\n",
       "Richmond                      0.000                20811.81  0.000000\n",
       "Dearborn Heights              0.000                 1822.18  0.000000\n",
       "Aberdeen                      0.000                   25.50  0.000000\n",
       "\n",
       "[523 rows x 3 columns]"
      ]
     },
     "execution_count": 105,
     "metadata": {},
     "output_type": "execute_result"
    }
   ],
   "source": [
    "City_discount = category_discount2(\"City\")\n",
    "City_discount"
   ]
  },
  {
   "cell_type": "markdown",
   "id": "c1f427aa",
   "metadata": {},
   "source": [
    "## WHICH SUBCATEGORY HAD THE MOST DISCOUNT"
   ]
  },
  {
   "cell_type": "code",
   "execution_count": 106,
   "id": "05a562bd",
   "metadata": {},
   "outputs": [
    {
     "data": {
      "text/html": [
       "<div>\n",
       "<style scoped>\n",
       "    .dataframe tbody tr th:only-of-type {\n",
       "        vertical-align: middle;\n",
       "    }\n",
       "\n",
       "    .dataframe tbody tr th {\n",
       "        vertical-align: top;\n",
       "    }\n",
       "\n",
       "    .dataframe thead th {\n",
       "        text-align: right;\n",
       "    }\n",
       "</style>\n",
       "<table border=\"1\" class=\"dataframe\">\n",
       "  <thead>\n",
       "    <tr style=\"text-align: right;\">\n",
       "      <th></th>\n",
       "      <th>Discounted Amount</th>\n",
       "      <th>Sales without discount</th>\n",
       "      <th>Discount</th>\n",
       "    </tr>\n",
       "    <tr>\n",
       "      <th>Sub-Category</th>\n",
       "      <th></th>\n",
       "      <th></th>\n",
       "      <th></th>\n",
       "    </tr>\n",
       "  </thead>\n",
       "  <tbody>\n",
       "    <tr>\n",
       "      <th>Binders</th>\n",
       "      <td>136799.0090</td>\n",
       "      <td>370769.91</td>\n",
       "      <td>0.368959</td>\n",
       "    </tr>\n",
       "    <tr>\n",
       "      <th>Machines</th>\n",
       "      <td>130818.7120</td>\n",
       "      <td>365252.42</td>\n",
       "      <td>0.358160</td>\n",
       "    </tr>\n",
       "    <tr>\n",
       "      <th>Tables</th>\n",
       "      <td>77708.2805</td>\n",
       "      <td>309233.58</td>\n",
       "      <td>0.251293</td>\n",
       "    </tr>\n",
       "    <tr>\n",
       "      <th>Bookcases</th>\n",
       "      <td>36536.0630</td>\n",
       "      <td>162156.16</td>\n",
       "      <td>0.225314</td>\n",
       "    </tr>\n",
       "    <tr>\n",
       "      <th>Appliances</th>\n",
       "      <td>21995.6080</td>\n",
       "      <td>132469.99</td>\n",
       "      <td>0.166042</td>\n",
       "    </tr>\n",
       "    <tr>\n",
       "      <th>Chairs</th>\n",
       "      <td>74764.9830</td>\n",
       "      <td>453320.17</td>\n",
       "      <td>0.164928</td>\n",
       "    </tr>\n",
       "    <tr>\n",
       "      <th>Copiers</th>\n",
       "      <td>27619.5880</td>\n",
       "      <td>168797.56</td>\n",
       "      <td>0.163626</td>\n",
       "    </tr>\n",
       "    <tr>\n",
       "      <th>Phones</th>\n",
       "      <td>71916.7100</td>\n",
       "      <td>446942.41</td>\n",
       "      <td>0.160908</td>\n",
       "    </tr>\n",
       "    <tr>\n",
       "      <th>Furnishings</th>\n",
       "      <td>17727.6520</td>\n",
       "      <td>112735.89</td>\n",
       "      <td>0.157249</td>\n",
       "    </tr>\n",
       "    <tr>\n",
       "      <th>Fasteners</th>\n",
       "      <td>381.4580</td>\n",
       "      <td>3822.42</td>\n",
       "      <td>0.099795</td>\n",
       "    </tr>\n",
       "    <tr>\n",
       "      <th>Envelopes</th>\n",
       "      <td>2055.0460</td>\n",
       "      <td>21324.64</td>\n",
       "      <td>0.096370</td>\n",
       "    </tr>\n",
       "    <tr>\n",
       "      <th>Art</th>\n",
       "      <td>2812.9920</td>\n",
       "      <td>34233.06</td>\n",
       "      <td>0.082172</td>\n",
       "    </tr>\n",
       "    <tr>\n",
       "      <th>Paper</th>\n",
       "      <td>7272.7360</td>\n",
       "      <td>91454.52</td>\n",
       "      <td>0.079523</td>\n",
       "    </tr>\n",
       "    <tr>\n",
       "      <th>Accessories</th>\n",
       "      <td>13154.5320</td>\n",
       "      <td>190711.74</td>\n",
       "      <td>0.068976</td>\n",
       "    </tr>\n",
       "    <tr>\n",
       "      <th>Storage</th>\n",
       "      <td>18888.5260</td>\n",
       "      <td>275480.07</td>\n",
       "      <td>0.068566</td>\n",
       "    </tr>\n",
       "    <tr>\n",
       "      <th>Supplies</th>\n",
       "      <td>3815.4040</td>\n",
       "      <td>61645.09</td>\n",
       "      <td>0.061893</td>\n",
       "    </tr>\n",
       "    <tr>\n",
       "      <th>Labels</th>\n",
       "      <td>911.2460</td>\n",
       "      <td>14862.16</td>\n",
       "      <td>0.061313</td>\n",
       "    </tr>\n",
       "  </tbody>\n",
       "</table>\n",
       "</div>"
      ],
      "text/plain": [
       "              Discounted Amount  Sales without discount  Discount\n",
       "Sub-Category                                                     \n",
       "Binders             136799.0090               370769.91  0.368959\n",
       "Machines            130818.7120               365252.42  0.358160\n",
       "Tables               77708.2805               309233.58  0.251293\n",
       "Bookcases            36536.0630               162156.16  0.225314\n",
       "Appliances           21995.6080               132469.99  0.166042\n",
       "Chairs               74764.9830               453320.17  0.164928\n",
       "Copiers              27619.5880               168797.56  0.163626\n",
       "Phones               71916.7100               446942.41  0.160908\n",
       "Furnishings          17727.6520               112735.89  0.157249\n",
       "Fasteners              381.4580                 3822.42  0.099795\n",
       "Envelopes             2055.0460                21324.64  0.096370\n",
       "Art                   2812.9920                34233.06  0.082172\n",
       "Paper                 7272.7360                91454.52  0.079523\n",
       "Accessories          13154.5320               190711.74  0.068976\n",
       "Storage              18888.5260               275480.07  0.068566\n",
       "Supplies              3815.4040                61645.09  0.061893\n",
       "Labels                 911.2460                14862.16  0.061313"
      ]
     },
     "execution_count": 106,
     "metadata": {},
     "output_type": "execute_result"
    }
   ],
   "source": [
    "Subcategory_discount = category_discount2(\"Sub-Category\")\n",
    "Subcategory_discount"
   ]
  },
  {
   "cell_type": "markdown",
   "id": "1b1dac75",
   "metadata": {},
   "source": [
    "## WHICH CATEGORY HAD THE MOST DISCOUNT"
   ]
  },
  {
   "cell_type": "code",
   "execution_count": 107,
   "id": "00474422",
   "metadata": {},
   "outputs": [
    {
     "data": {
      "text/html": [
       "<div>\n",
       "<style scoped>\n",
       "    .dataframe tbody tr th:only-of-type {\n",
       "        vertical-align: middle;\n",
       "    }\n",
       "\n",
       "    .dataframe tbody tr th {\n",
       "        vertical-align: top;\n",
       "    }\n",
       "\n",
       "    .dataframe thead th {\n",
       "        text-align: right;\n",
       "    }\n",
       "</style>\n",
       "<table border=\"1\" class=\"dataframe\">\n",
       "  <thead>\n",
       "    <tr style=\"text-align: right;\">\n",
       "      <th></th>\n",
       "      <th>Discounted Amount</th>\n",
       "      <th>Sales without discount</th>\n",
       "      <th>Discount</th>\n",
       "    </tr>\n",
       "    <tr>\n",
       "      <th>Category</th>\n",
       "      <th></th>\n",
       "      <th></th>\n",
       "      <th></th>\n",
       "    </tr>\n",
       "  </thead>\n",
       "  <tbody>\n",
       "    <tr>\n",
       "      <th>Technology</th>\n",
       "      <td>243509.5420</td>\n",
       "      <td>1171704.13</td>\n",
       "      <td>0.207825</td>\n",
       "    </tr>\n",
       "    <tr>\n",
       "      <th>Furniture</th>\n",
       "      <td>206736.9785</td>\n",
       "      <td>1037445.80</td>\n",
       "      <td>0.199275</td>\n",
       "    </tr>\n",
       "    <tr>\n",
       "      <th>Office Supplies</th>\n",
       "      <td>194932.0250</td>\n",
       "      <td>1006061.86</td>\n",
       "      <td>0.193757</td>\n",
       "    </tr>\n",
       "  </tbody>\n",
       "</table>\n",
       "</div>"
      ],
      "text/plain": [
       "                 Discounted Amount  Sales without discount  Discount\n",
       "Category                                                            \n",
       "Technology             243509.5420              1171704.13  0.207825\n",
       "Furniture              206736.9785              1037445.80  0.199275\n",
       "Office Supplies        194932.0250              1006061.86  0.193757"
      ]
     },
     "execution_count": 107,
     "metadata": {},
     "output_type": "execute_result"
    }
   ],
   "source": [
    "Category_discount = category_discount2(\"Category\")\n",
    "Category_discount"
   ]
  },
  {
   "cell_type": "markdown",
   "id": "1a23640a",
   "metadata": {},
   "source": [
    "## WHICH SEGMENT HAD THE MOST DISCOUNT"
   ]
  },
  {
   "cell_type": "code",
   "execution_count": 108,
   "id": "060d6672",
   "metadata": {},
   "outputs": [
    {
     "data": {
      "text/html": [
       "<div>\n",
       "<style scoped>\n",
       "    .dataframe tbody tr th:only-of-type {\n",
       "        vertical-align: middle;\n",
       "    }\n",
       "\n",
       "    .dataframe tbody tr th {\n",
       "        vertical-align: top;\n",
       "    }\n",
       "\n",
       "    .dataframe thead th {\n",
       "        text-align: right;\n",
       "    }\n",
       "</style>\n",
       "<table border=\"1\" class=\"dataframe\">\n",
       "  <thead>\n",
       "    <tr style=\"text-align: right;\">\n",
       "      <th></th>\n",
       "      <th>Discounted Amount</th>\n",
       "      <th>Sales without discount</th>\n",
       "      <th>Discount</th>\n",
       "    </tr>\n",
       "    <tr>\n",
       "      <th>Segment</th>\n",
       "      <th></th>\n",
       "      <th></th>\n",
       "      <th></th>\n",
       "    </tr>\n",
       "  </thead>\n",
       "  <tbody>\n",
       "    <tr>\n",
       "      <th>Home Office</th>\n",
       "      <td>139007.5017</td>\n",
       "      <td>632564.56</td>\n",
       "      <td>0.219752</td>\n",
       "    </tr>\n",
       "    <tr>\n",
       "      <th>Consumer</th>\n",
       "      <td>333992.1367</td>\n",
       "      <td>1639638.00</td>\n",
       "      <td>0.203699</td>\n",
       "    </tr>\n",
       "    <tr>\n",
       "      <th>Corporate</th>\n",
       "      <td>172178.9071</td>\n",
       "      <td>943009.23</td>\n",
       "      <td>0.182585</td>\n",
       "    </tr>\n",
       "  </tbody>\n",
       "</table>\n",
       "</div>"
      ],
      "text/plain": [
       "             Discounted Amount  Sales without discount  Discount\n",
       "Segment                                                         \n",
       "Home Office        139007.5017               632564.56  0.219752\n",
       "Consumer           333992.1367              1639638.00  0.203699\n",
       "Corporate          172178.9071               943009.23  0.182585"
      ]
     },
     "execution_count": 108,
     "metadata": {},
     "output_type": "execute_result"
    }
   ],
   "source": [
    "Segment_discount = category_discount2(\"Segment\")\n",
    "Segment_discount"
   ]
  },
  {
   "cell_type": "markdown",
   "id": "c103d746",
   "metadata": {},
   "source": [
    "## WHICH SHIPPING MODE HAD THE HIGHEST DISCOUNT"
   ]
  },
  {
   "cell_type": "code",
   "execution_count": 109,
   "id": "86f848d3",
   "metadata": {},
   "outputs": [
    {
     "data": {
      "text/html": [
       "<div>\n",
       "<style scoped>\n",
       "    .dataframe tbody tr th:only-of-type {\n",
       "        vertical-align: middle;\n",
       "    }\n",
       "\n",
       "    .dataframe tbody tr th {\n",
       "        vertical-align: top;\n",
       "    }\n",
       "\n",
       "    .dataframe thead th {\n",
       "        text-align: right;\n",
       "    }\n",
       "</style>\n",
       "<table border=\"1\" class=\"dataframe\">\n",
       "  <thead>\n",
       "    <tr style=\"text-align: right;\">\n",
       "      <th></th>\n",
       "      <th>Discounted Amount</th>\n",
       "      <th>Sales without discount</th>\n",
       "      <th>Discount</th>\n",
       "    </tr>\n",
       "    <tr>\n",
       "      <th>Ship Mode</th>\n",
       "      <th></th>\n",
       "      <th></th>\n",
       "      <th></th>\n",
       "    </tr>\n",
       "  </thead>\n",
       "  <tbody>\n",
       "    <tr>\n",
       "      <th>Standard Class</th>\n",
       "      <td>414634.9233</td>\n",
       "      <td>1973148.22</td>\n",
       "      <td>0.210139</td>\n",
       "    </tr>\n",
       "    <tr>\n",
       "      <th>Same Day</th>\n",
       "      <td>32159.1100</td>\n",
       "      <td>155604.72</td>\n",
       "      <td>0.206672</td>\n",
       "    </tr>\n",
       "    <tr>\n",
       "      <th>First Class</th>\n",
       "      <td>95189.3016</td>\n",
       "      <td>463233.24</td>\n",
       "      <td>0.205489</td>\n",
       "    </tr>\n",
       "    <tr>\n",
       "      <th>Second Class</th>\n",
       "      <td>103195.2106</td>\n",
       "      <td>623225.61</td>\n",
       "      <td>0.165582</td>\n",
       "    </tr>\n",
       "  </tbody>\n",
       "</table>\n",
       "</div>"
      ],
      "text/plain": [
       "                Discounted Amount  Sales without discount  Discount\n",
       "Ship Mode                                                          \n",
       "Standard Class        414634.9233              1973148.22  0.210139\n",
       "Same Day               32159.1100               155604.72  0.206672\n",
       "First Class            95189.3016               463233.24  0.205489\n",
       "Second Class          103195.2106               623225.61  0.165582"
      ]
     },
     "execution_count": 109,
     "metadata": {},
     "output_type": "execute_result"
    }
   ],
   "source": [
    "Shipmode_discount = category_discount2(\"Ship Mode\")\n",
    "Shipmode_discount"
   ]
  },
  {
   "cell_type": "markdown",
   "id": "2aa47b12",
   "metadata": {},
   "source": [
    "## WHAT IS THE PERCENTAGE PROFIT OR LOSS OF EACH EACH CATEGORY WITH RESPECT TO THIER COST PRICE. WHICH IS THE MOST PROFITABLE"
   ]
  },
  {
   "cell_type": "code",
   "execution_count": 110,
   "id": "6c57bf08",
   "metadata": {},
   "outputs": [],
   "source": [
    "def percentage_loss_profit(category,df):\n",
    "    asdf = df.groupby([category]).agg({\"Cost Price\": \"sum\", \"Profit\":\"sum\"})\n",
    "    asdf[\"percentage loss or profit\"] = asdf[\"Profit\"]/asdf[\"Cost Price\"]\n",
    "    return asdf.sort_values(\"percentage loss or profit\")"
   ]
  },
  {
   "cell_type": "markdown",
   "id": "faef7ee7",
   "metadata": {},
   "source": [
    "#### WHICH SEGMENT HAS THE HIGHEST PROFIT PERCENTAGE"
   ]
  },
  {
   "cell_type": "code",
   "execution_count": 111,
   "id": "dd146016",
   "metadata": {},
   "outputs": [
    {
     "data": {
      "text/html": [
       "<div>\n",
       "<style scoped>\n",
       "    .dataframe tbody tr th:only-of-type {\n",
       "        vertical-align: middle;\n",
       "    }\n",
       "\n",
       "    .dataframe tbody tr th {\n",
       "        vertical-align: top;\n",
       "    }\n",
       "\n",
       "    .dataframe thead th {\n",
       "        text-align: right;\n",
       "    }\n",
       "</style>\n",
       "<table border=\"1\" class=\"dataframe\">\n",
       "  <thead>\n",
       "    <tr style=\"text-align: right;\">\n",
       "      <th></th>\n",
       "      <th>Cost Price</th>\n",
       "      <th>Profit</th>\n",
       "      <th>percentage loss or profit</th>\n",
       "    </tr>\n",
       "    <tr>\n",
       "      <th>Segment</th>\n",
       "      <th></th>\n",
       "      <th></th>\n",
       "      <th></th>\n",
       "    </tr>\n",
       "  </thead>\n",
       "  <tbody>\n",
       "    <tr>\n",
       "      <th>Consumer</th>\n",
       "      <td>1.162989e+06</td>\n",
       "      <td>142656.5750</td>\n",
       "      <td>0.122664</td>\n",
       "    </tr>\n",
       "    <tr>\n",
       "      <th>Corporate</th>\n",
       "      <td>6.725029e+05</td>\n",
       "      <td>98327.3974</td>\n",
       "      <td>0.146211</td>\n",
       "    </tr>\n",
       "    <tr>\n",
       "      <th>Home Office</th>\n",
       "      <td>4.226863e+05</td>\n",
       "      <td>70870.7827</td>\n",
       "      <td>0.167668</td>\n",
       "    </tr>\n",
       "  </tbody>\n",
       "</table>\n",
       "</div>"
      ],
      "text/plain": [
       "               Cost Price       Profit  percentage loss or profit\n",
       "Segment                                                          \n",
       "Consumer     1.162989e+06  142656.5750                   0.122664\n",
       "Corporate    6.725029e+05   98327.3974                   0.146211\n",
       "Home Office  4.226863e+05   70870.7827                   0.167668"
      ]
     },
     "execution_count": 111,
     "metadata": {},
     "output_type": "execute_result"
    }
   ],
   "source": [
    "Segment_percent = percentage_loss_profit(\"Segment\", orders)\n",
    "Segment_percent"
   ]
  },
  {
   "cell_type": "markdown",
   "id": "5c7679d6",
   "metadata": {},
   "source": [
    "#### WHICH MANUFACTURER HAS THE HIGHEST PROFIT PERCENTAGE\n",
    "- The most profitable manufacturers based of their profit percentage with respect to their cost price are\n",
    "    - strathmore\n",
    "    - Array\n",
    "    - hammermil\n",
    "    - adams \n",
    "    - stable Envelope"
   ]
  },
  {
   "cell_type": "code",
   "execution_count": 113,
   "id": "6dc12453",
   "metadata": {},
   "outputs": [
    {
     "data": {
      "text/html": [
       "<div>\n",
       "<style scoped>\n",
       "    .dataframe tbody tr th:only-of-type {\n",
       "        vertical-align: middle;\n",
       "    }\n",
       "\n",
       "    .dataframe tbody tr th {\n",
       "        vertical-align: top;\n",
       "    }\n",
       "\n",
       "    .dataframe thead th {\n",
       "        text-align: right;\n",
       "    }\n",
       "</style>\n",
       "<table border=\"1\" class=\"dataframe\">\n",
       "  <thead>\n",
       "    <tr style=\"text-align: right;\">\n",
       "      <th></th>\n",
       "      <th>Cost Price</th>\n",
       "      <th>Profit</th>\n",
       "      <th>percentage loss or profit</th>\n",
       "    </tr>\n",
       "    <tr>\n",
       "      <th>Manufacturer</th>\n",
       "      <th></th>\n",
       "      <th></th>\n",
       "      <th></th>\n",
       "    </tr>\n",
       "  </thead>\n",
       "  <tbody>\n",
       "    <tr>\n",
       "      <th>Cubify</th>\n",
       "      <td>31819.9038</td>\n",
       "      <td>-12719.9608</td>\n",
       "      <td>-0.399749</td>\n",
       "    </tr>\n",
       "    <tr>\n",
       "      <th>Epson</th>\n",
       "      <td>4029.0369</td>\n",
       "      <td>-1282.7199</td>\n",
       "      <td>-0.318369</td>\n",
       "    </tr>\n",
       "    <tr>\n",
       "      <th>Bestar</th>\n",
       "      <td>3401.6598</td>\n",
       "      <td>-830.9169</td>\n",
       "      <td>-0.244268</td>\n",
       "    </tr>\n",
       "    <tr>\n",
       "      <th>Balt</th>\n",
       "      <td>12655.5597</td>\n",
       "      <td>-2495.1997</td>\n",
       "      <td>-0.197162</td>\n",
       "    </tr>\n",
       "    <tr>\n",
       "      <th>iOttie</th>\n",
       "      <td>559.1203</td>\n",
       "      <td>-79.3603</td>\n",
       "      <td>-0.141938</td>\n",
       "    </tr>\n",
       "    <tr>\n",
       "      <th>...</th>\n",
       "      <td>...</td>\n",
       "      <td>...</td>\n",
       "      <td>...</td>\n",
       "    </tr>\n",
       "    <tr>\n",
       "      <th>Staple envelope</th>\n",
       "      <td>1133.7018</td>\n",
       "      <td>919.1022</td>\n",
       "      <td>0.810709</td>\n",
       "    </tr>\n",
       "    <tr>\n",
       "      <th>Adams</th>\n",
       "      <td>620.9012</td>\n",
       "      <td>510.2268</td>\n",
       "      <td>0.821752</td>\n",
       "    </tr>\n",
       "    <tr>\n",
       "      <th>Hammermil</th>\n",
       "      <td>39.3417</td>\n",
       "      <td>33.4563</td>\n",
       "      <td>0.850403</td>\n",
       "    </tr>\n",
       "    <tr>\n",
       "      <th>Array</th>\n",
       "      <td>127.4854</td>\n",
       "      <td>110.8786</td>\n",
       "      <td>0.869736</td>\n",
       "    </tr>\n",
       "    <tr>\n",
       "      <th>Strathmore</th>\n",
       "      <td>613.4103</td>\n",
       "      <td>554.2557</td>\n",
       "      <td>0.903564</td>\n",
       "    </tr>\n",
       "  </tbody>\n",
       "</table>\n",
       "<p>183 rows × 3 columns</p>\n",
       "</div>"
      ],
      "text/plain": [
       "                 Cost Price      Profit  percentage loss or profit\n",
       "Manufacturer                                                      \n",
       "Cubify           31819.9038 -12719.9608                  -0.399749\n",
       "Epson             4029.0369  -1282.7199                  -0.318369\n",
       "Bestar            3401.6598   -830.9169                  -0.244268\n",
       "Balt             12655.5597  -2495.1997                  -0.197162\n",
       "iOttie             559.1203    -79.3603                  -0.141938\n",
       "...                     ...         ...                        ...\n",
       "Staple envelope   1133.7018    919.1022                   0.810709\n",
       "Adams              620.9012    510.2268                   0.821752\n",
       "Hammermil           39.3417     33.4563                   0.850403\n",
       "Array              127.4854    110.8786                   0.869736\n",
       "Strathmore         613.4103    554.2557                   0.903564\n",
       "\n",
       "[183 rows x 3 columns]"
      ]
     },
     "execution_count": 113,
     "metadata": {},
     "output_type": "execute_result"
    }
   ],
   "source": [
    "manufacturer_pecent = percentage_loss_profit(\"Manufacturer\",orders)\n",
    "manufacturer_pecent"
   ]
  },
  {
   "cell_type": "markdown",
   "id": "fd2bfb90",
   "metadata": {},
   "source": [
    "#### WHICH CATEGORY HAS THE HIGHEST PROFIT PERCENTAGE"
   ]
  },
  {
   "cell_type": "code",
   "execution_count": 114,
   "id": "fbd2b6f3",
   "metadata": {},
   "outputs": [
    {
     "data": {
      "text/html": [
       "<div>\n",
       "<style scoped>\n",
       "    .dataframe tbody tr th:only-of-type {\n",
       "        vertical-align: middle;\n",
       "    }\n",
       "\n",
       "    .dataframe tbody tr th {\n",
       "        vertical-align: top;\n",
       "    }\n",
       "\n",
       "    .dataframe thead th {\n",
       "        text-align: right;\n",
       "    }\n",
       "</style>\n",
       "<table border=\"1\" class=\"dataframe\">\n",
       "  <thead>\n",
       "    <tr style=\"text-align: right;\">\n",
       "      <th></th>\n",
       "      <th>Cost Price</th>\n",
       "      <th>Profit</th>\n",
       "      <th>percentage loss or profit</th>\n",
       "    </tr>\n",
       "    <tr>\n",
       "      <th>Category</th>\n",
       "      <th></th>\n",
       "      <th></th>\n",
       "      <th></th>\n",
       "    </tr>\n",
       "  </thead>\n",
       "  <tbody>\n",
       "    <tr>\n",
       "      <th>Furniture</th>\n",
       "      <td>808923.4075</td>\n",
       "      <td>21785.4140</td>\n",
       "      <td>0.026931</td>\n",
       "    </tr>\n",
       "    <tr>\n",
       "      <th>Technology</th>\n",
       "      <td>777467.5783</td>\n",
       "      <td>150727.0097</td>\n",
       "      <td>0.193869</td>\n",
       "    </tr>\n",
       "    <tr>\n",
       "      <th>Office Supplies</th>\n",
       "      <td>671787.5036</td>\n",
       "      <td>139342.3314</td>\n",
       "      <td>0.207420</td>\n",
       "    </tr>\n",
       "  </tbody>\n",
       "</table>\n",
       "</div>"
      ],
      "text/plain": [
       "                  Cost Price       Profit  percentage loss or profit\n",
       "Category                                                            \n",
       "Furniture        808923.4075   21785.4140                   0.026931\n",
       "Technology       777467.5783  150727.0097                   0.193869\n",
       "Office Supplies  671787.5036  139342.3314                   0.207420"
      ]
     },
     "execution_count": 114,
     "metadata": {},
     "output_type": "execute_result"
    }
   ],
   "source": [
    "category_percent = percentage_loss_profit(\"Category\",orders)\n",
    "category_percent"
   ]
  },
  {
   "cell_type": "markdown",
   "id": "50f2d5b6",
   "metadata": {},
   "source": [
    "#### WHICH SUBCATEGORY HAS THE HIGHEST PROFIT PERCENTAGE"
   ]
  },
  {
   "cell_type": "code",
   "execution_count": 115,
   "id": "e4d9cd59",
   "metadata": {},
   "outputs": [
    {
     "data": {
      "text/html": [
       "<div>\n",
       "<style scoped>\n",
       "    .dataframe tbody tr th:only-of-type {\n",
       "        vertical-align: middle;\n",
       "    }\n",
       "\n",
       "    .dataframe tbody tr th {\n",
       "        vertical-align: top;\n",
       "    }\n",
       "\n",
       "    .dataframe thead th {\n",
       "        text-align: right;\n",
       "    }\n",
       "</style>\n",
       "<table border=\"1\" class=\"dataframe\">\n",
       "  <thead>\n",
       "    <tr style=\"text-align: right;\">\n",
       "      <th></th>\n",
       "      <th>Cost Price</th>\n",
       "      <th>Profit</th>\n",
       "      <th>percentage loss or profit</th>\n",
       "    </tr>\n",
       "    <tr>\n",
       "      <th>Sub-Category</th>\n",
       "      <th></th>\n",
       "      <th></th>\n",
       "      <th></th>\n",
       "    </tr>\n",
       "  </thead>\n",
       "  <tbody>\n",
       "    <tr>\n",
       "      <th>Tables</th>\n",
       "      <td>250617.0573</td>\n",
       "      <td>-19091.7578</td>\n",
       "      <td>-0.076179</td>\n",
       "    </tr>\n",
       "    <tr>\n",
       "      <th>Bookcases</th>\n",
       "      <td>129687.2654</td>\n",
       "      <td>-4067.1684</td>\n",
       "      <td>-0.031361</td>\n",
       "    </tr>\n",
       "    <tr>\n",
       "      <th>Supplies</th>\n",
       "      <td>58661.1529</td>\n",
       "      <td>-831.4669</td>\n",
       "      <td>-0.014174</td>\n",
       "    </tr>\n",
       "    <tr>\n",
       "      <th>Machines</th>\n",
       "      <td>232005.6205</td>\n",
       "      <td>2428.0875</td>\n",
       "      <td>0.010466</td>\n",
       "    </tr>\n",
       "    <tr>\n",
       "      <th>Chairs</th>\n",
       "      <td>346304.4227</td>\n",
       "      <td>32250.7643</td>\n",
       "      <td>0.093128</td>\n",
       "    </tr>\n",
       "    <tr>\n",
       "      <th>Storage</th>\n",
       "      <td>233143.7367</td>\n",
       "      <td>23447.8073</td>\n",
       "      <td>0.100572</td>\n",
       "    </tr>\n",
       "    <tr>\n",
       "      <th>Furnishings</th>\n",
       "      <td>82314.6621</td>\n",
       "      <td>12693.5759</td>\n",
       "      <td>0.154208</td>\n",
       "    </tr>\n",
       "    <tr>\n",
       "      <th>Phones</th>\n",
       "      <td>321808.6200</td>\n",
       "      <td>53217.0800</td>\n",
       "      <td>0.165369</td>\n",
       "    </tr>\n",
       "    <tr>\n",
       "      <th>Appliances</th>\n",
       "      <td>93062.8808</td>\n",
       "      <td>17411.5012</td>\n",
       "      <td>0.187094</td>\n",
       "    </tr>\n",
       "    <tr>\n",
       "      <th>Binders</th>\n",
       "      <td>193595.9399</td>\n",
       "      <td>40374.9611</td>\n",
       "      <td>0.208553</td>\n",
       "    </tr>\n",
       "    <tr>\n",
       "      <th>Art</th>\n",
       "      <td>23928.7883</td>\n",
       "      <td>7491.2797</td>\n",
       "      <td>0.313066</td>\n",
       "    </tr>\n",
       "    <tr>\n",
       "      <th>Accessories</th>\n",
       "      <td>132395.1963</td>\n",
       "      <td>45162.0117</td>\n",
       "      <td>0.341115</td>\n",
       "    </tr>\n",
       "    <tr>\n",
       "      <th>Fasteners</th>\n",
       "      <td>2418.5623</td>\n",
       "      <td>1022.3997</td>\n",
       "      <td>0.422730</td>\n",
       "    </tr>\n",
       "    <tr>\n",
       "      <th>Copiers</th>\n",
       "      <td>91258.1415</td>\n",
       "      <td>49919.8305</td>\n",
       "      <td>0.547018</td>\n",
       "    </tr>\n",
       "    <tr>\n",
       "      <th>Envelopes</th>\n",
       "      <td>11284.5096</td>\n",
       "      <td>7985.0844</td>\n",
       "      <td>0.707615</td>\n",
       "    </tr>\n",
       "    <tr>\n",
       "      <th>Paper</th>\n",
       "      <td>47937.4504</td>\n",
       "      <td>36244.3336</td>\n",
       "      <td>0.756076</td>\n",
       "    </tr>\n",
       "    <tr>\n",
       "      <th>Labels</th>\n",
       "      <td>7754.4827</td>\n",
       "      <td>6196.4313</td>\n",
       "      <td>0.799077</td>\n",
       "    </tr>\n",
       "  </tbody>\n",
       "</table>\n",
       "</div>"
      ],
      "text/plain": [
       "               Cost Price      Profit  percentage loss or profit\n",
       "Sub-Category                                                    \n",
       "Tables        250617.0573 -19091.7578                  -0.076179\n",
       "Bookcases     129687.2654  -4067.1684                  -0.031361\n",
       "Supplies       58661.1529   -831.4669                  -0.014174\n",
       "Machines      232005.6205   2428.0875                   0.010466\n",
       "Chairs        346304.4227  32250.7643                   0.093128\n",
       "Storage       233143.7367  23447.8073                   0.100572\n",
       "Furnishings    82314.6621  12693.5759                   0.154208\n",
       "Phones        321808.6200  53217.0800                   0.165369\n",
       "Appliances     93062.8808  17411.5012                   0.187094\n",
       "Binders       193595.9399  40374.9611                   0.208553\n",
       "Art            23928.7883   7491.2797                   0.313066\n",
       "Accessories   132395.1963  45162.0117                   0.341115\n",
       "Fasteners       2418.5623   1022.3997                   0.422730\n",
       "Copiers        91258.1415  49919.8305                   0.547018\n",
       "Envelopes      11284.5096   7985.0844                   0.707615\n",
       "Paper          47937.4504  36244.3336                   0.756076\n",
       "Labels          7754.4827   6196.4313                   0.799077"
      ]
     },
     "execution_count": 115,
     "metadata": {},
     "output_type": "execute_result"
    }
   ],
   "source": [
    "Subcategory_percent = percentage_loss_profit(\"Sub-Category\",orders)\n",
    "Subcategory_percent"
   ]
  },
  {
   "cell_type": "markdown",
   "id": "dde2bc9b",
   "metadata": {},
   "source": [
    "## WHAT WOULD HAVE BEEN THE SALES, COST PRICE AND PROFIT WITHOUT DISCOUNT WITHOUT DISCOUNT \n",
    "- Without Discount, the Total sales (excluding returned products) is $3215211.79 which is 20.06% higher than the Total sales"
   ]
  },
  {
   "cell_type": "markdown",
   "id": "c118e4d7",
   "metadata": {},
   "source": [
    "### WHAT IS THE TOTAL SALES WITHOUT DISCOUNT"
   ]
  },
  {
   "cell_type": "code",
   "execution_count": 116,
   "id": "37637644",
   "metadata": {},
   "outputs": [
    {
     "data": {
      "text/plain": [
       "3215211.79"
      ]
     },
     "execution_count": 116,
     "metadata": {},
     "output_type": "execute_result"
    }
   ],
   "source": [
    "orders[\"Sales without discount\"].sum()"
   ]
  },
  {
   "cell_type": "markdown",
   "id": "489eaaea",
   "metadata": {},
   "source": [
    "###  WHAT IS THE NET PROFT WITHOUT DISCOUNT"
   ]
  },
  {
   "cell_type": "code",
   "execution_count": 117,
   "id": "247e740c",
   "metadata": {},
   "outputs": [
    {
     "data": {
      "text/plain": [
       "957033.3005999998"
      ]
     },
     "execution_count": 117,
     "metadata": {},
     "output_type": "execute_result"
    }
   ],
   "source": [
    "orders[\"Profit without discount\"].sum()"
   ]
  },
  {
   "cell_type": "markdown",
   "id": "e99d8b03",
   "metadata": {},
   "source": [
    "### HOW MUCH DID DISCOUNT COST THE SUPERMARKET"
   ]
  },
  {
   "cell_type": "code",
   "execution_count": 118,
   "id": "7b293737",
   "metadata": {},
   "outputs": [
    {
     "data": {
      "text/plain": [
       "645178.5455"
      ]
     },
     "execution_count": 118,
     "metadata": {},
     "output_type": "execute_result"
    }
   ],
   "source": [
    "orders[\"Sales without discount\"].sum() - orders[\"Sales\"].sum()"
   ]
  },
  {
   "cell_type": "code",
   "execution_count": 119,
   "id": "53df0685",
   "metadata": {},
   "outputs": [
    {
     "data": {
      "text/plain": [
       "20.066440024468807"
      ]
     },
     "execution_count": 119,
     "metadata": {},
     "output_type": "execute_result"
    }
   ],
   "source": [
    "((orders[\"Sales without discount\"].sum() - orders[\"Sales\"].sum())/orders[\"Sales without discount\"].sum())*100"
   ]
  },
  {
   "cell_type": "markdown",
   "id": "af93d6a4",
   "metadata": {},
   "source": [
    "# WITHOUT DISCOUNT "
   ]
  },
  {
   "cell_type": "markdown",
   "id": "24678d47",
   "metadata": {},
   "source": [
    "### WHICH REGION HAD THE HIGHEST SALES\n",
    "- without discount the east region had the most sales, followed by the West, with the south hving the least sales. "
   ]
  },
  {
   "cell_type": "code",
   "execution_count": 120,
   "id": "75e90a56",
   "metadata": {},
   "outputs": [
    {
     "data": {
      "text/plain": [
       "<AxesSubplot:xlabel='Region'>"
      ]
     },
     "execution_count": 120,
     "metadata": {},
     "output_type": "execute_result"
    },
    {
     "data": {
      "image/png": "[encoded data removed]",
      "text/plain": [
       "<Figure size 432x288 with 1 Axes>"
      ]
     },
     "metadata": {
      "needs_background": "light"
     },
     "output_type": "display_data"
    }
   ],
   "source": [
    "orders.groupby([\"Region\"]).agg({\"Sales without discount\":\"sum\"}).sort_values(\"Sales without discount\", ascending=False).plot(kind=\"bar\")"
   ]
  },
  {
   "cell_type": "markdown",
   "id": "5a57a87c",
   "metadata": {},
   "source": [
    "### WHICH SEGMENT HAD THE HIGHEST SALES"
   ]
  },
  {
   "cell_type": "code",
   "execution_count": 121,
   "id": "4b4cad8b",
   "metadata": {},
   "outputs": [
    {
     "data": {
      "text/plain": [
       "<AxesSubplot:xlabel='Segment'>"
      ]
     },
     "execution_count": 121,
     "metadata": {},
     "output_type": "execute_result"
    },
    {
     "data": {
      "image/png": "[encoded data removed]",
      "text/plain": [
       "<Figure size 432x288 with 1 Axes>"
      ]
     },
     "metadata": {
      "needs_background": "light"
     },
     "output_type": "display_data"
    }
   ],
   "source": [
    "orders.groupby([\"Segment\"]).agg({\"Sales without discount\":\"sum\"}).sort_values(\"Sales without discount\", ascending=False).plot(kind=\"bar\")"
   ]
  },
  {
   "cell_type": "markdown",
   "id": "70642f4c",
   "metadata": {},
   "source": [
    "### WHICH SUBCATEGORY HAD THE HIGHEST SALES"
   ]
  },
  {
   "cell_type": "code",
   "execution_count": 122,
   "id": "f8ec5ee7",
   "metadata": {},
   "outputs": [
    {
     "data": {
      "text/plain": [
       "<AxesSubplot:xlabel='Sub-Category'>"
      ]
     },
     "execution_count": 122,
     "metadata": {},
     "output_type": "execute_result"
    },
    {
     "data": {
      "image/png": "[encoded data removed]",
      "text/plain": [
       "<Figure size 432x288 with 1 Axes>"
      ]
     },
     "metadata": {
      "needs_background": "light"
     },
     "output_type": "display_data"
    }
   ],
   "source": [
    "orders.groupby([\"Sub-Category\"]).agg({\"Sales without discount\":\"sum\"}).sort_values(\"Sales without discount\", ascending=False).iloc[:5].plot(kind=\"bar\")"
   ]
  },
  {
   "cell_type": "markdown",
   "id": "0cdcc2b3",
   "metadata": {},
   "source": [
    "### WHICH SUBCATEGORY HAD THE LEAST SALES"
   ]
  },
  {
   "cell_type": "code",
   "execution_count": 123,
   "id": "bff64924",
   "metadata": {},
   "outputs": [
    {
     "data": {
      "text/plain": [
       "<AxesSubplot:xlabel='Sub-Category'>"
      ]
     },
     "execution_count": 123,
     "metadata": {},
     "output_type": "execute_result"
    },
    {
     "data": {
      "image/png": "[encoded data removed]",
      "text/plain": [
       "<Figure size 432x288 with 1 Axes>"
      ]
     },
     "metadata": {
      "needs_background": "light"
     },
     "output_type": "display_data"
    }
   ],
   "source": [
    "orders.groupby([\"Sub-Category\"]).agg({\"Sales without discount\":\"sum\"}).sort_values(\"Sales without discount\", ascending=False).iloc[-5:].plot(kind=\"bar\")"
   ]
  },
  {
   "cell_type": "markdown",
   "id": "5c0b5e2a",
   "metadata": {},
   "source": [
    "### WHICH CATEGORY HAS THE HIGHEST SALES"
   ]
  },
  {
   "cell_type": "code",
   "execution_count": 124,
   "id": "82d3360c",
   "metadata": {},
   "outputs": [
    {
     "data": {
      "text/plain": [
       "<AxesSubplot:xlabel='Category'>"
      ]
     },
     "execution_count": 124,
     "metadata": {},
     "output_type": "execute_result"
    },
    {
     "data": {
      "image/png": "[encoded data removed]",
      "text/plain": [
       "<Figure size 432x288 with 1 Axes>"
      ]
     },
     "metadata": {
      "needs_background": "light"
     },
     "output_type": "display_data"
    }
   ],
   "source": [
    "orders.groupby([\"Category\"]).agg({\"Sales without discount\":\"sum\"}).sort_values(\"Sales without discount\", ascending=False).plot(kind=\"bar\")"
   ]
  },
  {
   "cell_type": "markdown",
   "id": "abe5cd86",
   "metadata": {},
   "source": [
    "### WHCIH SHIP MODE HAS THE HIGHEST SALES"
   ]
  },
  {
   "cell_type": "code",
   "execution_count": 125,
   "id": "004fda87",
   "metadata": {},
   "outputs": [
    {
     "data": {
      "text/plain": [
       "<AxesSubplot:xlabel='Ship Mode'>"
      ]
     },
     "execution_count": 125,
     "metadata": {},
     "output_type": "execute_result"
    },
    {
     "data": {
      "image/png": "[encoded data removed]",
      "text/plain": [
       "<Figure size 432x288 with 1 Axes>"
      ]
     },
     "metadata": {
      "needs_background": "light"
     },
     "output_type": "display_data"
    }
   ],
   "source": [
    "orders.groupby([\"Ship Mode\"]).agg({\"Sales without discount\":\"sum\"}).sort_values(\"Sales without discount\", ascending=False).plot(kind=\"bar\")"
   ]
  },
  {
   "cell_type": "markdown",
   "id": "630ba866",
   "metadata": {},
   "source": [
    "### WHICH MANUFACTURERS HAS THE HIGHEST SALES"
   ]
  },
  {
   "cell_type": "code",
   "execution_count": 126,
   "id": "0a081054",
   "metadata": {},
   "outputs": [
    {
     "data": {
      "text/plain": [
       "<AxesSubplot:xlabel='Manufacturer'>"
      ]
     },
     "execution_count": 126,
     "metadata": {},
     "output_type": "execute_result"
    },
    {
     "data": {
      "image/png": "[encoded data removed]",
      "text/plain": [
       "<Figure size 432x288 with 1 Axes>"
      ]
     },
     "metadata": {
      "needs_background": "light"
     },
     "output_type": "display_data"
    }
   ],
   "source": [
    "orders.groupby([\"Manufacturer\"]).agg({\"Sales without discount\":\"sum\"}).sort_values(\"Sales without discount\", ascending=False).iloc[1:6].plot(kind=\"bar\")"
   ]
  },
  {
   "cell_type": "markdown",
   "id": "568bf0a0",
   "metadata": {},
   "source": [
    "### WHICH MANUFACTURERS HAD THE LEAST SALES"
   ]
  },
  {
   "cell_type": "code",
   "execution_count": 127,
   "id": "52dd7513",
   "metadata": {},
   "outputs": [
    {
     "data": {
      "text/plain": [
       "<AxesSubplot:xlabel='Manufacturer'>"
      ]
     },
     "execution_count": 127,
     "metadata": {},
     "output_type": "execute_result"
    },
    {
     "data": {
      "image/png": "[encoded data removed]",
      "text/plain": [
       "<Figure size 432x288 with 1 Axes>"
      ]
     },
     "metadata": {
      "needs_background": "light"
     },
     "output_type": "display_data"
    }
   ],
   "source": [
    "orders.groupby([\"Manufacturer\"]).agg({\"Sales without discount\":\"sum\"}).sort_values(\"Sales without discount\", ascending=False).iloc[-5:].plot(kind=\"bar\")"
   ]
  },
  {
   "cell_type": "markdown",
   "id": "a4db17bd",
   "metadata": {},
   "source": [
    "### WHICH SUBCATEGORY, SEGMENT, MANUFACTURER HAD THE HIGHEST PROFIT"
   ]
  },
  {
   "cell_type": "code",
   "execution_count": 128,
   "id": "e3969dc7",
   "metadata": {},
   "outputs": [
    {
     "data": {
      "text/plain": [
       "<AxesSubplot:xlabel='Region'>"
      ]
     },
     "execution_count": 128,
     "metadata": {},
     "output_type": "execute_result"
    },
    {
     "data": {
      "image/png": "[encoded data removed]",
      "text/plain": [
       "<Figure size 432x288 with 1 Axes>"
      ]
     },
     "metadata": {
      "needs_background": "light"
     },
     "output_type": "display_data"
    }
   ],
   "source": [
    "#orders.groupby([\"Ship Mode\"]).agg({\"Sales without discount\":\"sum\"}).sort_values(\"Sales without discount\", ascending=False).plot(kind=\"bar\")\n",
    "orders.groupby([\"Region\"]).agg({\"Profit without discount\":\"sum\"}).sort_values(\"Profit without discount\", ascending= False).plot(kind=\"bar\",color=\"Green\")"
   ]
  },
  {
   "cell_type": "code",
   "execution_count": 129,
   "id": "748c40a7",
   "metadata": {},
   "outputs": [
    {
     "data": {
      "text/plain": [
       "<AxesSubplot:xlabel='Category'>"
      ]
     },
     "execution_count": 129,
     "metadata": {},
     "output_type": "execute_result"
    },
    {
     "data": {
      "image/png": "[encoded data removed]",
      "text/plain": [
       "<Figure size 432x288 with 1 Axes>"
      ]
     },
     "metadata": {
      "needs_background": "light"
     },
     "output_type": "display_data"
    }
   ],
   "source": [
    "orders.groupby([\"Category\"]).agg({\"Profit without discount\":\"sum\"}).sort_values(\"Profit without discount\", ascending= False).plot(kind=\"bar\",color=\"Green\")"
   ]
  },
  {
   "cell_type": "code",
   "execution_count": 130,
   "id": "28a81ae1",
   "metadata": {},
   "outputs": [
    {
     "data": {
      "text/plain": [
       "<AxesSubplot:xlabel='Sub-Category'>"
      ]
     },
     "execution_count": 130,
     "metadata": {},
     "output_type": "execute_result"
    },
    {
     "data": {
      "image/png": "[encoded data removed]",
      "text/plain": [
       "<Figure size 432x288 with 1 Axes>"
      ]
     },
     "metadata": {
      "needs_background": "light"
     },
     "output_type": "display_data"
    }
   ],
   "source": [
    "orders.groupby([\"Sub-Category\"]).agg({\"Profit without discount\":\"sum\"}).sort_values(\"Profit without discount\", ascending= False).plot(kind=\"bar\",color=\"Green\")"
   ]
  },
  {
   "cell_type": "code",
   "execution_count": 131,
   "id": "3f6be04f",
   "metadata": {},
   "outputs": [
    {
     "data": {
      "text/plain": [
       "<AxesSubplot:xlabel='Sub-Category'>"
      ]
     },
     "execution_count": 131,
     "metadata": {},
     "output_type": "execute_result"
    },
    {
     "data": {
      "image/png": "[encoded data removed]",
      "text/plain": [
       "<Figure size 432x288 with 1 Axes>"
      ]
     },
     "metadata": {
      "needs_background": "light"
     },
     "output_type": "display_data"
    }
   ],
   "source": [
    "orders.groupby([\"Sub-Category\"]).agg({\"Profit without discount\":\"sum\"}).sort_values(\"Profit without discount\", ascending= False).iloc[:5].plot(kind=\"bar\",color=\"Green\")"
   ]
  },
  {
   "cell_type": "code",
   "execution_count": 132,
   "id": "2a2f6350",
   "metadata": {},
   "outputs": [
    {
     "data": {
      "text/plain": [
       "<AxesSubplot:xlabel='Sub-Category'>"
      ]
     },
     "execution_count": 132,
     "metadata": {},
     "output_type": "execute_result"
    },
    {
     "data": {
      "image/png": "[encoded data removed]",
      "text/plain": [
       "<Figure size 432x288 with 1 Axes>"
      ]
     },
     "metadata": {
      "needs_background": "light"
     },
     "output_type": "display_data"
    }
   ],
   "source": [
    "orders.groupby([\"Sub-Category\"]).agg({\"Profit without discount\":\"sum\"}).sort_values(\"Profit without discount\", ascending= False).iloc[-5:].plot(kind=\"bar\",color=\"Green\")"
   ]
  },
  {
   "cell_type": "code",
   "execution_count": 133,
   "id": "74cae9ef",
   "metadata": {},
   "outputs": [
    {
     "data": {
      "text/plain": [
       "<AxesSubplot:xlabel='Manufacturer'>"
      ]
     },
     "execution_count": 133,
     "metadata": {},
     "output_type": "execute_result"
    },
    {
     "data": {
      "image/png": "[encoded data removed]",
      "text/plain": [
       "<Figure size 432x288 with 1 Axes>"
      ]
     },
     "metadata": {
      "needs_background": "light"
     },
     "output_type": "display_data"
    }
   ],
   "source": [
    "orders.groupby([\"Manufacturer\"]).agg({\"Profit without discount\":\"sum\"}).sort_values(\"Profit without discount\", ascending= False).iloc[1:6].plot(kind=\"bar\",color=\"Green\")"
   ]
  },
  {
   "cell_type": "code",
   "execution_count": 134,
   "id": "fc22e654",
   "metadata": {},
   "outputs": [
    {
     "data": {
      "text/plain": [
       "<AxesSubplot:xlabel='Manufacturer'>"
      ]
     },
     "execution_count": 134,
     "metadata": {},
     "output_type": "execute_result"
    },
    {
     "data": {
      "image/png": "[encoded data removed]",
      "text/plain": [
       "<Figure size 432x288 with 1 Axes>"
      ]
     },
     "metadata": {
      "needs_background": "light"
     },
     "output_type": "display_data"
    }
   ],
   "source": [
    "orders.groupby([\"Manufacturer\"]).agg({\"Profit without discount\":\"sum\"}).sort_values(\"Profit without discount\", ascending= False).iloc[-5:].plot(kind=\"bar\",color=\"Green\")"
   ]
  },
  {
   "cell_type": "markdown",
   "id": "393d809a",
   "metadata": {},
   "source": [
    "### WITHOUT DISCOUNT WERE LOSSES INCURRED\n",
    "- Without discounts the losses incurred is 0. which proves that discount is the sole factor responsible for the losses incurred"
   ]
  },
  {
   "cell_type": "code",
   "execution_count": 138,
   "id": "a6310d01",
   "metadata": {},
   "outputs": [],
   "source": [
    "losses2 = orders[orders[\"Profit without discount\"]<0]"
   ]
  },
  {
   "cell_type": "code",
   "execution_count": 139,
   "id": "3ad9d052",
   "metadata": {},
   "outputs": [
    {
     "data": {
      "text/plain": [
       "-5.577760475716786e-13"
      ]
     },
     "execution_count": 139,
     "metadata": {},
     "output_type": "execute_result"
    }
   ],
   "source": [
    "losses2[\"Profit without discount\"].sum()"
   ]
  },
  {
   "cell_type": "markdown",
   "id": "281cf7b1",
   "metadata": {},
   "source": [
    "## WHAT PERCENTAGE OF NUMBER OF TRANSACTIONS WAS A LOSS AND WHAT %LOSS WERE INCURED BY THESE TRANSACTIONS\n",
    "- 36% of the discounted transaction had a loss. they had a total loss of 12% with respect to their total cost price\n",
    "- The other transactions had a total profit of Only 9.5%"
   ]
  },
  {
   "cell_type": "code",
   "execution_count": 140,
   "id": "05358e98",
   "metadata": {},
   "outputs": [],
   "source": [
    "\" NUMBER OF TRANSACTIONS THAT HAD A DISCOUNT 'ndis' \"\n",
    "Discounted_orders = orders[orders[\"Discount\"]>0]\n",
    "ndis = Discounted_orders.shape[0]"
   ]
  },
  {
   "cell_type": "code",
   "execution_count": 150,
   "id": "ee8da86a",
   "metadata": {},
   "outputs": [],
   "source": [
    "\" NUMBER OF TRANSACTION THAT HAD A DISCOUNT AND INCURED A LOSS 'ndis_loss' \"\n",
    "#orders[(orders[\"Discount\"]>0) & (orders[\"Profit\"]<0)].shape[0]\n",
    "ndis_loss = Discounted_orders[Discounted_orders[\"Profit\"]<0].shape[0]"
   ]
  },
  {
   "cell_type": "code",
   "execution_count": 151,
   "id": "a728d995",
   "metadata": {},
   "outputs": [
    {
     "data": {
      "text/plain": [
       "36.03665917343939"
      ]
     },
     "execution_count": 151,
     "metadata": {},
     "output_type": "execute_result"
    }
   ],
   "source": [
    "\" Percentage of discounted transactions that had a loss\"\n",
    "(ndis_loss/ndis)*100"
   ]
  },
  {
   "cell_type": "code",
   "execution_count": 143,
   "id": "f612eeba",
   "metadata": {},
   "outputs": [
    {
     "data": {
      "text/plain": [
       "-12.12156000674732"
      ]
     },
     "execution_count": 143,
     "metadata": {},
     "output_type": "execute_result"
    }
   ],
   "source": [
    "\"THE PERCENTAGE OF LOSS INCURED BY DISCOUNTED TRANSACTIONS THAT HAD A LOSS\"\n",
    "Loss_dis = Discounted_orders[Discounted_orders[\"Profit\"]<0][\"Profit\"].sum()\n",
    "total_cost_price_discounted_orders = Discounted_orders[\"Cost Price\"].sum()\n",
    "(Loss_dis/total_cost_price_discounted_orders)*100"
   ]
  },
  {
   "cell_type": "code",
   "execution_count": 144,
   "id": "917c0870",
   "metadata": {},
   "outputs": [
    {
     "data": {
      "text/plain": [
       "-169918.27410000004"
      ]
     },
     "execution_count": 144,
     "metadata": {},
     "output_type": "execute_result"
    }
   ],
   "source": [
    "Loss_dis"
   ]
  },
  {
   "cell_type": "code",
   "execution_count": 145,
   "id": "5417c301",
   "metadata": {},
   "outputs": [
    {
     "data": {
      "text/plain": [
       "9.451426522155637"
      ]
     },
     "execution_count": 145,
     "metadata": {},
     "output_type": "execute_result"
    }
   ],
   "source": [
    "\"THE PERCENTAGE OF PROFIT INCURED BY DISCOUNTED TRANSACTIONS THAT HAD A PROFIT\"\n",
    "Profit_dis = Discounted_orders[Discounted_orders[\"Profit\"]>0][\"Profit\"].sum()\n",
    "total_cost_price_discounted_orders = Discounted_orders[\"Cost Price\"].sum()\n",
    "(Profit_dis/total_cost_price_discounted_orders)*100"
   ]
  },
  {
   "cell_type": "code",
   "execution_count": 146,
   "id": "99e0e39e",
   "metadata": {},
   "outputs": [
    {
     "data": {
      "text/plain": [
       "132488.72929999998"
      ]
     },
     "execution_count": 146,
     "metadata": {},
     "output_type": "execute_result"
    }
   ],
   "source": [
    "Profit_dis"
   ]
  },
  {
   "cell_type": "markdown",
   "id": "c61f3dc7",
   "metadata": {},
   "source": [
    "### HOW CAN LOSSES INCURED BY DISCOUNTS BE REDUCED OR MITIGATED\n",
    "- The maximum discount at which there was a profit was 40% transactions discounted above 40% had a loss. \n",
    "- at a maximum allowable discount of 25-35% the percentage loss incurred reduced to 2.6-5.2%"
   ]
  },
  {
   "cell_type": "code",
   "execution_count": 152,
   "id": "2e43643e",
   "metadata": {},
   "outputs": [],
   "source": [
    "Discounted_order_Profit = Discounted_orders[Discounted_orders[\"Profit\"]>0]\n",
    "Discounted_order_Loss = Discounted_orders[Discounted_orders[\"Profit\"]< 0]"
   ]
  },
  {
   "cell_type": "code",
   "execution_count": 153,
   "id": "1366c3a9",
   "metadata": {},
   "outputs": [
    {
     "data": {
      "text/plain": [
       "array([0.2 , 0.1 , 0.4 , 0.15, 0.3 ])"
      ]
     },
     "execution_count": 153,
     "metadata": {},
     "output_type": "execute_result"
    }
   ],
   "source": [
    "Discounted_order_Profit[\"Discount\"].unique()"
   ]
  },
  {
   "cell_type": "code",
   "execution_count": 154,
   "id": "482ea48e",
   "metadata": {},
   "outputs": [
    {
     "data": {
      "text/plain": [
       "array([0.6 , 0.3 , 0.5 , 0.4 , 0.2 , 0.8 , 0.7 , 0.45, 0.15, 0.32, 0.1 ])"
      ]
     },
     "execution_count": 154,
     "metadata": {},
     "output_type": "execute_result"
    }
   ],
   "source": [
    "Discounted_order_Loss[\"Discount\"].unique()"
   ]
  },
  {
   "cell_type": "code",
   "execution_count": 156,
   "id": "b7bafd7c",
   "metadata": {},
   "outputs": [],
   "source": [
    "\"\"\"\n",
    "Defining a functioon the limits the maximum allowable discount, calculates the new discounted amount \n",
    "Profit and the sale price and returns the percentage loss and the loss incurred at the limit\n",
    "\"\"\"\n",
    "def discounted_data(df,percent):\n",
    "    df_40 = df.copy()\n",
    "    def fourty_percent_cap(discount):\n",
    "        if discount <= percent:\n",
    "            return discount\n",
    "        else:\n",
    "            return percent\n",
    "    df_40[\"new_discount\"] = df_40[\"Discount\"].apply(fourty_percent_cap)\n",
    "    df_40[\"Discounted Amount\"] = df_40[\"new_discount\"] * df_40[\"Sales without discount\"]\n",
    "    df_40[\"Sales\"] =  df_40[\"Sales without discount\"] - df_40[\"Discounted Amount\"]\n",
    "    df_40[\"Profit\"] =  df_40[\"Sales\"] - df_40[\"Cost Price\"]\n",
    "    #df_40[\"Profit_or_Loss\"] = df_40[\"Profit\"].apply(Profit_or_loss)\n",
    "    #loss = df_40[(df_40[\"Discount\"]>0) & (df_40[\"Profit_or_Loss\"]==\"Loss\")].shape[0]\n",
    "    loss = df_40[df_40[\"Profit\"]<0][\"Profit\"].sum()\n",
    "    total = df_40[\"Cost Price\"].sum()\n",
    "    percentage_loss = (loss/total)*100\n",
    "    return percentage_loss, loss\n",
    " \n"
   ]
  },
  {
   "cell_type": "markdown",
   "id": "4abab742",
   "metadata": {},
   "source": [
    "#### PLACING A LIMIT ON THE ALLOWABLE DISCOUNT"
   ]
  },
  {
   "cell_type": "code",
   "execution_count": 157,
   "id": "d9cde6d8",
   "metadata": {},
   "outputs": [
    {
     "data": {
      "text/plain": [
       "(-5.182754621263588, -72651.1043)"
      ]
     },
     "execution_count": 157,
     "metadata": {},
     "output_type": "execute_result"
    }
   ],
   "source": [
    "discounted_data(Discounted_orders,0.35)"
   ]
  },
  {
   "cell_type": "code",
   "execution_count": 158,
   "id": "ff5cd9e7",
   "metadata": {},
   "outputs": [
    {
     "data": {
      "text/plain": [
       "(-2.6421287298132485, -37036.97820000001)"
      ]
     },
     "execution_count": 158,
     "metadata": {},
     "output_type": "execute_result"
    }
   ],
   "source": [
    "discounted_data(Discounted_orders,0.25)"
   ]
  },
  {
   "cell_type": "markdown",
   "id": "e3af50f0",
   "metadata": {},
   "source": [
    "### WHAT OTHER MEASURE CAN BE USED TO INCRAESE THE PROFIT OF DISCOUNTED ORDERS\n",
    "- at a maximum allowable discounted amount of 500-1000 and a maximum allowable discount of 25-35%, the percentage loss reduced to 2.4-4.5%"
   ]
  },
  {
   "cell_type": "code",
   "execution_count": 159,
   "id": "2320c22f",
   "metadata": {},
   "outputs": [],
   "source": [
    "def discounted_dataframe(df,percent):\n",
    "    df_40 = df.copy()\n",
    "    def fourty_percent_cap(discount):\n",
    "        if discount <= percent:\n",
    "            return discount\n",
    "        else:\n",
    "            return percent\n",
    "    df_40[\"new_discount\"] = df_40[\"Discount\"].apply(fourty_percent_cap)\n",
    "    df_40[\"Discounted Amount\"] = df_40[\"new_discount\"] * df_40[\"Sales without discount\"]\n",
    "    df_40[\"Sales\"] =  df_40[\"Sales without discount\"] - df_40[\"Discounted Amount\"]\n",
    "    df_40[\"Profit\"] =  df_40[\"Sales\"] - df_40[\"Cost Price\"]\n",
    "    #df_40[\"Profit_or_Loss\"] = df_40[\"Profit\"].apply(Profit_or_loss)\n",
    "    #loss = df_40[(df_40[\"Discount\"]>0) & (df_40[\"Profit_or_Loss\"]==\"Loss\")].shape[0]\n",
    "    loss = df_40[df_40[\"Profit\"]<0][\"Profit\"].sum()\n",
    "    total = df_40[\"Cost Price\"].sum()\n",
    "    percentage_loss = (loss/total)*100\n",
    "    return df_40\n",
    " \n"
   ]
  },
  {
   "cell_type": "code",
   "execution_count": 160,
   "id": "06dfea54",
   "metadata": {},
   "outputs": [],
   "source": [
    "Z = discounted_dataframe(Discounted_order_Loss,0.25)"
   ]
  },
  {
   "cell_type": "code",
   "execution_count": 161,
   "id": "7b757131",
   "metadata": {},
   "outputs": [
    {
     "data": {
      "text/plain": [
       "11319.24"
      ]
     },
     "execution_count": 161,
     "metadata": {},
     "output_type": "execute_result"
    }
   ],
   "source": [
    "Z[\"Discounted Amount\"].max()"
   ]
  },
  {
   "cell_type": "code",
   "execution_count": 162,
   "id": "5b9c5bbf",
   "metadata": {},
   "outputs": [
    {
     "data": {
      "text/plain": [
       "<AxesSubplot:>"
      ]
     },
     "execution_count": 162,
     "metadata": {},
     "output_type": "execute_result"
    },
    {
     "data": {
      "image/png": "[encoded data removed]",
      "text/plain": [
       "<Figure size 432x288 with 1 Axes>"
      ]
     },
     "metadata": {
      "needs_background": "light"
     },
     "output_type": "display_data"
    }
   ],
   "source": [
    "Z[[\"Discounted Amount\"]].boxplot()"
   ]
  },
  {
   "cell_type": "code",
   "execution_count": 163,
   "id": "d2efbf9a",
   "metadata": {},
   "outputs": [],
   "source": [
    "def discounted_data2(df,percent,max_discount_amount):\n",
    "    df_40 = df.copy()\n",
    "    def fourty_percent_cap(discount):\n",
    "        if discount <= percent:\n",
    "            return discount\n",
    "        else:\n",
    "            return percent\n",
    "    def max_discount(discount_amount):\n",
    "        if discount_amount > max_discount_amount:\n",
    "            discount_amount = max_discount_amount\n",
    "            return discount_amount\n",
    "        else: \n",
    "            discount_amount = discount_amount\n",
    "            return discount_amount\n",
    "        \n",
    "    df_40[\"new_discount\"] = df_40[\"Discount\"].apply(fourty_percent_cap)\n",
    "    df_40[\"Discounted Amount\"] = df_40[\"new_discount\"] * df_40[\"Sales without discount\"]\n",
    "    df_40[\"Discounted Amount\"] = df_40[\"Discounted Amount\"].apply(max_discount)\n",
    "    df_40[\"Sales\"] =  df_40[\"Sales without discount\"] - df_40[\"Discounted Amount\"]\n",
    "    df_40[\"Profit\"] =  df_40[\"Sales\"] - df_40[\"Cost Price\"]\n",
    "    #df_40[\"Profit_or_Loss\"] = df_40[\"Profit\"].apply(Profit_or_loss)\n",
    "    #loss = df_40[(df_40[\"Discount\"]>0) & (df_40[\"Profit_or_Loss\"]==\"Loss\")].shape[0]\n",
    "    loss = df_40[df_40[\"Profit\"]<0][\"Profit\"].sum()\n",
    "    total = df_40[\"Cost Price\"].sum()\n",
    "    percentage_loss = (loss/total)*100\n",
    "    return percentage_loss,loss\n",
    " \n"
   ]
  },
  {
   "cell_type": "code",
   "execution_count": 172,
   "id": "978c78e0",
   "metadata": {},
   "outputs": [
    {
     "data": {
      "text/plain": [
       "(-2.3709950349249915, -33236.265300000014)"
      ]
     },
     "execution_count": 172,
     "metadata": {},
     "output_type": "execute_result"
    }
   ],
   "source": [
    "discounted_data2(Discounted_orders,0.25,500)"
   ]
  },
  {
   "cell_type": "code",
   "execution_count": null,
   "id": "0db39534",
   "metadata": {},
   "outputs": [],
   "source": []
  },
  {
   "cell_type": "markdown",
   "id": "5c628a01",
   "metadata": {},
   "source": [
    "### APPLYING A MAXIMUM ALLOWABLE DISCOUNT OF 2.5% AND MAXIMUM ALLOWABLE DISCOUNT AMOUNT OF $1000 WHAT WOULD BE THE EFFECT ON THE NET PROFIT \n",
    "\n",
    "- The Net Profit increases by 81.4%"
   ]
  },
  {
   "cell_type": "code",
   "execution_count": 190,
   "id": "102ff51c",
   "metadata": {},
   "outputs": [],
   "source": [
    "def discounted_data3(df,percent,max_discount_amount):\n",
    "    df_40 = df.copy()\n",
    "    def fourty_percent_cap(discount):\n",
    "        if discount <= percent:\n",
    "            return discount\n",
    "        else:\n",
    "            return percent\n",
    "    def max_discount(discount_amount):\n",
    "        if discount_amount > max_discount_amount:\n",
    "            discount_amount = max_discount_amount\n",
    "            return discount_amount\n",
    "        else: \n",
    "            discount_amount = discount_amount\n",
    "            return discount_amount\n",
    "        \n",
    "    df_40[\"new_discount\"] = df_40[\"Discount\"].apply(fourty_percent_cap)\n",
    "    df_40[\"Discounted Amount\"] = df_40[\"new_discount\"] * df_40[\"Sales without discount\"]\n",
    "    df_40[\"Discounted Amount\"] = df_40[\"Discounted Amount\"].apply(max_discount)\n",
    "    df_40[\"Sales\"] =  df_40[\"Sales without discount\"] - df_40[\"Discounted Amount\"]\n",
    "    df_40[\"Profit\"] =  df_40[\"Sales\"] - df_40[\"Cost Price\"]\n",
    "    Netprofit = df_40[\"Profit\"].sum()\n",
    "    total = df_40[\"Cost Price\"].sum()\n",
    "    percentage_profit = (Netprofit/total)*100\n",
    "    return df_40\n",
    " \n"
   ]
  },
  {
   "cell_type": "code",
   "execution_count": 212,
   "id": "f45e2f0d",
   "metadata": {},
   "outputs": [],
   "source": [
    "new_profit = discounted_data3(orders,0.35,1000)[\"Profit\"].sum()"
   ]
  },
  {
   "cell_type": "code",
   "execution_count": 213,
   "id": "c8212c7a",
   "metadata": {},
   "outputs": [],
   "source": [
    "old_profit = orders[\"Profit\"].sum()"
   ]
  },
  {
   "cell_type": "code",
   "execution_count": 214,
   "id": "3e163cf1",
   "metadata": {},
   "outputs": [
    {
     "data": {
      "text/plain": [
       "66.57906621735522"
      ]
     },
     "execution_count": 214,
     "metadata": {},
     "output_type": "execute_result"
    }
   ],
   "source": [
    "# percentage increase in profit\n",
    "((new_profit-old_profit)/old_profit)*100"
   ]
  },
  {
   "cell_type": "markdown",
   "id": "54f52549",
   "metadata": {},
   "source": [
    "# RETURNED GOODS"
   ]
  },
  {
   "cell_type": "markdown",
   "id": "d6cf1f49",
   "metadata": {},
   "source": [
    "### HOW MANY ORDERS WERE RETURNED"
   ]
  },
  {
   "cell_type": "code",
   "execution_count": 194,
   "id": "97e74795",
   "metadata": {},
   "outputs": [
    {
     "data": {
      "text/plain": [
       "950"
      ]
     },
     "execution_count": 194,
     "metadata": {},
     "output_type": "execute_result"
    }
   ],
   "source": [
    "Number_of_returend_orders = returned_orders.shape[0]\n",
    "Number_of_returend_orders"
   ]
  },
  {
   "cell_type": "markdown",
   "id": "56c95ea2",
   "metadata": {},
   "source": [
    "### WHAT PERCENTAGE OF ORDERS WERE RETURNED"
   ]
  },
  {
   "cell_type": "code",
   "execution_count": 195,
   "id": "c84379dd",
   "metadata": {},
   "outputs": [
    {
     "data": {
      "text/plain": [
       "7.930545120627765"
      ]
     },
     "execution_count": 195,
     "metadata": {},
     "output_type": "execute_result"
    }
   ],
   "source": [
    "Total_number_of_orders = orders_all.shape[0]\n",
    "(Number_of_returend_orders/Total_number_of_orders)*100"
   ]
  },
  {
   "cell_type": "markdown",
   "id": "6e1f7ffa",
   "metadata": {},
   "source": [
    "### WHAT IS TOTAL AMOUNT OF ORDERS RETURNED"
   ]
  },
  {
   "cell_type": "code",
   "execution_count": 196,
   "id": "e1ee1eb2",
   "metadata": {},
   "outputs": [
    {
     "data": {
      "text/plain": [
       "209704.4659"
      ]
     },
     "execution_count": 196,
     "metadata": {},
     "output_type": "execute_result"
    }
   ],
   "source": [
    "returned_orders.Sales.sum()"
   ]
  },
  {
   "cell_type": "markdown",
   "id": "a4b48100",
   "metadata": {},
   "source": [
    "### HOW MUCH PROFIT WAS LOST DUE TO RETURNED ORDERS"
   ]
  },
  {
   "cell_type": "code",
   "execution_count": 197,
   "id": "25d38f08",
   "metadata": {},
   "outputs": [
    {
     "data": {
      "text/plain": [
       "23693.745799999993"
      ]
     },
     "execution_count": 197,
     "metadata": {},
     "output_type": "execute_result"
    }
   ],
   "source": [
    "returned_orders.Profit.sum()"
   ]
  },
  {
   "cell_type": "markdown",
   "id": "da71f004",
   "metadata": {},
   "source": [
    "### WHICH REGIONS HAD THE HIGHEST RETURNEDS"
   ]
  },
  {
   "cell_type": "code",
   "execution_count": 198,
   "id": "4e5dfdf7",
   "metadata": {},
   "outputs": [
    {
     "data": {
      "text/html": [
       "<div>\n",
       "<style scoped>\n",
       "    .dataframe tbody tr th:only-of-type {\n",
       "        vertical-align: middle;\n",
       "    }\n",
       "\n",
       "    .dataframe tbody tr th {\n",
       "        vertical-align: top;\n",
       "    }\n",
       "\n",
       "    .dataframe thead th {\n",
       "        text-align: right;\n",
       "    }\n",
       "</style>\n",
       "<table border=\"1\" class=\"dataframe\">\n",
       "  <thead>\n",
       "    <tr style=\"text-align: right;\">\n",
       "      <th></th>\n",
       "      <th>Order ID</th>\n",
       "      <th>Sales</th>\n",
       "      <th>Profit</th>\n",
       "    </tr>\n",
       "    <tr>\n",
       "      <th>Region</th>\n",
       "      <th></th>\n",
       "      <th></th>\n",
       "      <th></th>\n",
       "    </tr>\n",
       "  </thead>\n",
       "  <tbody>\n",
       "    <tr>\n",
       "      <th>Central</th>\n",
       "      <td>118</td>\n",
       "      <td>18253.8994</td>\n",
       "      <td>-7359.6558</td>\n",
       "    </tr>\n",
       "    <tr>\n",
       "      <th>East</th>\n",
       "      <td>178</td>\n",
       "      <td>52087.3060</td>\n",
       "      <td>6316.6534</td>\n",
       "    </tr>\n",
       "    <tr>\n",
       "      <th>South</th>\n",
       "      <td>83</td>\n",
       "      <td>20239.2530</td>\n",
       "      <td>2835.5329</td>\n",
       "    </tr>\n",
       "    <tr>\n",
       "      <th>West</th>\n",
       "      <td>571</td>\n",
       "      <td>119124.0075</td>\n",
       "      <td>21901.2153</td>\n",
       "    </tr>\n",
       "  </tbody>\n",
       "</table>\n",
       "</div>"
      ],
      "text/plain": [
       "         Order ID        Sales      Profit\n",
       "Region                                    \n",
       "Central       118   18253.8994  -7359.6558\n",
       "East          178   52087.3060   6316.6534\n",
       "South          83   20239.2530   2835.5329\n",
       "West          571  119124.0075  21901.2153"
      ]
     },
     "execution_count": 198,
     "metadata": {},
     "output_type": "execute_result"
    }
   ],
   "source": [
    "returned_orders.groupby(\"Region\").agg({\"Order ID\":\"count\", \"Sales\":\"sum\", \"Profit\":\"sum\"})"
   ]
  },
  {
   "cell_type": "markdown",
   "id": "b73e8179",
   "metadata": {},
   "source": [
    "### WHICH CITY HAD THE HIGHEST RETURN"
   ]
  },
  {
   "cell_type": "code",
   "execution_count": 199,
   "id": "514dbb96",
   "metadata": {},
   "outputs": [
    {
     "data": {
      "text/html": [
       "<div>\n",
       "<style scoped>\n",
       "    .dataframe tbody tr th:only-of-type {\n",
       "        vertical-align: middle;\n",
       "    }\n",
       "\n",
       "    .dataframe tbody tr th {\n",
       "        vertical-align: top;\n",
       "    }\n",
       "\n",
       "    .dataframe thead th {\n",
       "        text-align: right;\n",
       "    }\n",
       "</style>\n",
       "<table border=\"1\" class=\"dataframe\">\n",
       "  <thead>\n",
       "    <tr style=\"text-align: right;\">\n",
       "      <th></th>\n",
       "      <th>Order ID</th>\n",
       "      <th>Sales</th>\n",
       "      <th>Profit</th>\n",
       "    </tr>\n",
       "    <tr>\n",
       "      <th>State</th>\n",
       "      <th></th>\n",
       "      <th></th>\n",
       "      <th></th>\n",
       "    </tr>\n",
       "  </thead>\n",
       "  <tbody>\n",
       "    <tr>\n",
       "      <th>California</th>\n",
       "      <td>383</td>\n",
       "      <td>71296.2965</td>\n",
       "      <td>12454.9207</td>\n",
       "    </tr>\n",
       "    <tr>\n",
       "      <th>Washington</th>\n",
       "      <td>90</td>\n",
       "      <td>27455.5420</td>\n",
       "      <td>9723.7184</td>\n",
       "    </tr>\n",
       "    <tr>\n",
       "      <th>New York</th>\n",
       "      <td>74</td>\n",
       "      <td>26952.4800</td>\n",
       "      <td>7762.3250</td>\n",
       "    </tr>\n",
       "    <tr>\n",
       "      <th>Texas</th>\n",
       "      <td>56</td>\n",
       "      <td>12553.5424</td>\n",
       "      <td>-8184.4592</td>\n",
       "    </tr>\n",
       "    <tr>\n",
       "      <th>Ohio</th>\n",
       "      <td>39</td>\n",
       "      <td>9364.1170</td>\n",
       "      <td>-3721.1861</td>\n",
       "    </tr>\n",
       "  </tbody>\n",
       "</table>\n",
       "</div>"
      ],
      "text/plain": [
       "            Order ID       Sales      Profit\n",
       "State                                       \n",
       "California       383  71296.2965  12454.9207\n",
       "Washington        90  27455.5420   9723.7184\n",
       "New York          74  26952.4800   7762.3250\n",
       "Texas             56  12553.5424  -8184.4592\n",
       "Ohio              39   9364.1170  -3721.1861"
      ]
     },
     "execution_count": 199,
     "metadata": {},
     "output_type": "execute_result"
    }
   ],
   "source": [
    "returned_orders.groupby(\"State\").agg({\"Order ID\":\"count\", \"Sales\":\"sum\", \"Profit\":\"sum\"}).sort_values(\"Order ID\", ascending=False).head()"
   ]
  },
  {
   "cell_type": "markdown",
   "id": "c1c3fb5e",
   "metadata": {},
   "source": [
    "### WHICH MANUFACTURERS HAD THE HIGHEST RETURN"
   ]
  },
  {
   "cell_type": "code",
   "execution_count": 200,
   "id": "dd848890",
   "metadata": {},
   "outputs": [
    {
     "data": {
      "text/html": [
       "<div>\n",
       "<style scoped>\n",
       "    .dataframe tbody tr th:only-of-type {\n",
       "        vertical-align: middle;\n",
       "    }\n",
       "\n",
       "    .dataframe tbody tr th {\n",
       "        vertical-align: top;\n",
       "    }\n",
       "\n",
       "    .dataframe thead th {\n",
       "        text-align: right;\n",
       "    }\n",
       "</style>\n",
       "<table border=\"1\" class=\"dataframe\">\n",
       "  <thead>\n",
       "    <tr style=\"text-align: right;\">\n",
       "      <th></th>\n",
       "      <th>Order ID</th>\n",
       "      <th>Sales</th>\n",
       "      <th>Profit</th>\n",
       "    </tr>\n",
       "    <tr>\n",
       "      <th>Manufacturer</th>\n",
       "      <th></th>\n",
       "      <th></th>\n",
       "      <th></th>\n",
       "    </tr>\n",
       "  </thead>\n",
       "  <tbody>\n",
       "    <tr>\n",
       "      <th>Other</th>\n",
       "      <td>166</td>\n",
       "      <td>22580.628</td>\n",
       "      <td>3080.0948</td>\n",
       "    </tr>\n",
       "    <tr>\n",
       "      <th>Xerox</th>\n",
       "      <td>104</td>\n",
       "      <td>7459.556</td>\n",
       "      <td>3405.4028</td>\n",
       "    </tr>\n",
       "    <tr>\n",
       "      <th>Avery</th>\n",
       "      <td>41</td>\n",
       "      <td>1843.176</td>\n",
       "      <td>695.7793</td>\n",
       "    </tr>\n",
       "    <tr>\n",
       "      <th>GBC</th>\n",
       "      <td>37</td>\n",
       "      <td>7871.201</td>\n",
       "      <td>-6404.4976</td>\n",
       "    </tr>\n",
       "    <tr>\n",
       "      <th>Global</th>\n",
       "      <td>30</td>\n",
       "      <td>11976.783</td>\n",
       "      <td>868.6481</td>\n",
       "    </tr>\n",
       "  </tbody>\n",
       "</table>\n",
       "</div>"
      ],
      "text/plain": [
       "              Order ID      Sales     Profit\n",
       "Manufacturer                                \n",
       "Other              166  22580.628  3080.0948\n",
       "Xerox              104   7459.556  3405.4028\n",
       "Avery               41   1843.176   695.7793\n",
       "GBC                 37   7871.201 -6404.4976\n",
       "Global              30  11976.783   868.6481"
      ]
     },
     "execution_count": 200,
     "metadata": {},
     "output_type": "execute_result"
    }
   ],
   "source": [
    "returned_orders.groupby(\"Manufacturer\").agg({\"Order ID\":\"count\", \"Sales\":\"sum\", \"Profit\":\"sum\"}).sort_values(\"Order ID\", ascending=False).head()"
   ]
  },
  {
   "cell_type": "code",
   "execution_count": 201,
   "id": "1b270c0b",
   "metadata": {},
   "outputs": [
    {
     "data": {
      "text/html": [
       "<div>\n",
       "<style scoped>\n",
       "    .dataframe tbody tr th:only-of-type {\n",
       "        vertical-align: middle;\n",
       "    }\n",
       "\n",
       "    .dataframe tbody tr th {\n",
       "        vertical-align: top;\n",
       "    }\n",
       "\n",
       "    .dataframe thead th {\n",
       "        text-align: right;\n",
       "    }\n",
       "</style>\n",
       "<table border=\"1\" class=\"dataframe\">\n",
       "  <thead>\n",
       "    <tr style=\"text-align: right;\">\n",
       "      <th></th>\n",
       "      <th>Order ID</th>\n",
       "      <th>Sales</th>\n",
       "      <th>Profit</th>\n",
       "    </tr>\n",
       "    <tr>\n",
       "      <th>Manufacturer</th>\n",
       "      <th></th>\n",
       "      <th></th>\n",
       "      <th></th>\n",
       "    </tr>\n",
       "  </thead>\n",
       "  <tbody>\n",
       "    <tr>\n",
       "      <th>Other</th>\n",
       "      <td>2085</td>\n",
       "      <td>361019.9867</td>\n",
       "      <td>44414.0439</td>\n",
       "    </tr>\n",
       "    <tr>\n",
       "      <th>Xerox</th>\n",
       "      <td>925</td>\n",
       "      <td>63137.0860</td>\n",
       "      <td>24409.2532</td>\n",
       "    </tr>\n",
       "    <tr>\n",
       "      <th>Avery</th>\n",
       "      <td>633</td>\n",
       "      <td>14515.8410</td>\n",
       "      <td>4116.8439</td>\n",
       "    </tr>\n",
       "    <tr>\n",
       "      <th>GBC</th>\n",
       "      <td>357</td>\n",
       "      <td>104636.3220</td>\n",
       "      <td>10590.1776</td>\n",
       "    </tr>\n",
       "    <tr>\n",
       "      <th>Global</th>\n",
       "      <td>315</td>\n",
       "      <td>144909.6000</td>\n",
       "      <td>11557.8532</td>\n",
       "    </tr>\n",
       "  </tbody>\n",
       "</table>\n",
       "</div>"
      ],
      "text/plain": [
       "              Order ID        Sales      Profit\n",
       "Manufacturer                                   \n",
       "Other             2085  361019.9867  44414.0439\n",
       "Xerox              925   63137.0860  24409.2532\n",
       "Avery              633   14515.8410   4116.8439\n",
       "GBC                357  104636.3220  10590.1776\n",
       "Global             315  144909.6000  11557.8532"
      ]
     },
     "execution_count": 201,
     "metadata": {},
     "output_type": "execute_result"
    }
   ],
   "source": [
    "orders.groupby(\"Manufacturer\").agg({\"Order ID\":\"count\", \"Sales\":\"sum\", \"Profit\":\"sum\"}).sort_values(\"Order ID\", ascending=False).head()"
   ]
  },
  {
   "cell_type": "markdown",
   "id": "7c5c82f6",
   "metadata": {},
   "source": [
    "### WHICH CATEGORY HAD THE HIGHEST RETURNED ORDERS"
   ]
  },
  {
   "cell_type": "code",
   "execution_count": 202,
   "id": "004fed9d",
   "metadata": {},
   "outputs": [
    {
     "data": {
      "text/html": [
       "<div>\n",
       "<style scoped>\n",
       "    .dataframe tbody tr th:only-of-type {\n",
       "        vertical-align: middle;\n",
       "    }\n",
       "\n",
       "    .dataframe tbody tr th {\n",
       "        vertical-align: top;\n",
       "    }\n",
       "\n",
       "    .dataframe thead th {\n",
       "        text-align: right;\n",
       "    }\n",
       "</style>\n",
       "<table border=\"1\" class=\"dataframe\">\n",
       "  <thead>\n",
       "    <tr style=\"text-align: right;\">\n",
       "      <th></th>\n",
       "      <th>Order ID</th>\n",
       "      <th>Sales</th>\n",
       "      <th>Profit</th>\n",
       "    </tr>\n",
       "    <tr>\n",
       "      <th>Sub-Category</th>\n",
       "      <th></th>\n",
       "      <th></th>\n",
       "      <th></th>\n",
       "    </tr>\n",
       "  </thead>\n",
       "  <tbody>\n",
       "    <tr>\n",
       "      <th>Binders</th>\n",
       "      <td>161</td>\n",
       "      <td>12840.037</td>\n",
       "      <td>-5454.9094</td>\n",
       "    </tr>\n",
       "    <tr>\n",
       "      <th>Paper</th>\n",
       "      <td>150</td>\n",
       "      <td>9018.218</td>\n",
       "      <td>4126.8651</td>\n",
       "    </tr>\n",
       "    <tr>\n",
       "      <th>Phones</th>\n",
       "      <td>96</td>\n",
       "      <td>32372.160</td>\n",
       "      <td>3106.6559</td>\n",
       "    </tr>\n",
       "    <tr>\n",
       "      <th>Furnishings</th>\n",
       "      <td>87</td>\n",
       "      <td>10236.780</td>\n",
       "      <td>2255.4094</td>\n",
       "    </tr>\n",
       "    <tr>\n",
       "      <th>Accessories</th>\n",
       "      <td>70</td>\n",
       "      <td>14443.086</td>\n",
       "      <td>3108.5253</td>\n",
       "    </tr>\n",
       "  </tbody>\n",
       "</table>\n",
       "</div>"
      ],
      "text/plain": [
       "              Order ID      Sales     Profit\n",
       "Sub-Category                                \n",
       "Binders            161  12840.037 -5454.9094\n",
       "Paper              150   9018.218  4126.8651\n",
       "Phones              96  32372.160  3106.6559\n",
       "Furnishings         87  10236.780  2255.4094\n",
       "Accessories         70  14443.086  3108.5253"
      ]
     },
     "execution_count": 202,
     "metadata": {},
     "output_type": "execute_result"
    }
   ],
   "source": [
    "returned_orders.groupby(\"Sub-Category\").agg({\"Order ID\":\"count\", \"Sales\":\"sum\", \"Profit\":\"sum\"}).sort_values(\"Order ID\", ascending=False).head()"
   ]
  },
  {
   "cell_type": "code",
   "execution_count": 203,
   "id": "566ff929",
   "metadata": {},
   "outputs": [
    {
     "data": {
      "text/html": [
       "<div>\n",
       "<style scoped>\n",
       "    .dataframe tbody tr th:only-of-type {\n",
       "        vertical-align: middle;\n",
       "    }\n",
       "\n",
       "    .dataframe tbody tr th {\n",
       "        vertical-align: top;\n",
       "    }\n",
       "\n",
       "    .dataframe thead th {\n",
       "        text-align: right;\n",
       "    }\n",
       "</style>\n",
       "<table border=\"1\" class=\"dataframe\">\n",
       "  <thead>\n",
       "    <tr style=\"text-align: right;\">\n",
       "      <th></th>\n",
       "      <th>Row ID</th>\n",
       "      <th>Order ID</th>\n",
       "      <th>Order Date</th>\n",
       "      <th>Ship Date</th>\n",
       "      <th>Ship Mode</th>\n",
       "      <th>Customer ID</th>\n",
       "      <th>Customer Name</th>\n",
       "      <th>Segment</th>\n",
       "      <th>Country/Region</th>\n",
       "      <th>City</th>\n",
       "      <th>State</th>\n",
       "      <th>Postal Code</th>\n",
       "      <th>Region</th>\n",
       "      <th>Product ID</th>\n",
       "      <th>Category</th>\n",
       "      <th>Sub-Category</th>\n",
       "      <th>Product Name</th>\n",
       "      <th>Sales</th>\n",
       "      <th>Quantity</th>\n",
       "      <th>Discount</th>\n",
       "      <th>Profit</th>\n",
       "      <th>Returned</th>\n",
       "      <th>Manufacturer</th>\n",
       "      <th>Unit Price</th>\n",
       "      <th>Cost Price</th>\n",
       "      <th>Percentage Loss or Profit</th>\n",
       "      <th>Discount_1</th>\n",
       "      <th>Sales without discount</th>\n",
       "      <th>Unit Price Without Discount</th>\n",
       "      <th>Profit without discount</th>\n",
       "      <th>Discounted Amount</th>\n",
       "    </tr>\n",
       "  </thead>\n",
       "  <tbody>\n",
       "    <tr>\n",
       "      <th>0</th>\n",
       "      <td>6</td>\n",
       "      <td>CA-2016-115812</td>\n",
       "      <td>2016-06-09</td>\n",
       "      <td>2016-06-14</td>\n",
       "      <td>Standard Class</td>\n",
       "      <td>BH-11710</td>\n",
       "      <td>Brosina Hoffman</td>\n",
       "      <td>Consumer</td>\n",
       "      <td>United States</td>\n",
       "      <td>Los Angeles</td>\n",
       "      <td>California</td>\n",
       "      <td>90032.0</td>\n",
       "      <td>West</td>\n",
       "      <td>FUR-FU-10001487</td>\n",
       "      <td>Furniture</td>\n",
       "      <td>Furnishings</td>\n",
       "      <td>Eldon Expressions Wood and Plastic Desk Access...</td>\n",
       "      <td>48.860</td>\n",
       "      <td>7</td>\n",
       "      <td>0.0</td>\n",
       "      <td>14.1694</td>\n",
       "      <td>No</td>\n",
       "      <td>Eldon</td>\n",
       "      <td>6.980</td>\n",
       "      <td>34.6906</td>\n",
       "      <td>40.845070</td>\n",
       "      <td>1.0</td>\n",
       "      <td>48.86</td>\n",
       "      <td>6.98</td>\n",
       "      <td>14.1694</td>\n",
       "      <td>0.000</td>\n",
       "    </tr>\n",
       "    <tr>\n",
       "      <th>1</th>\n",
       "      <td>7</td>\n",
       "      <td>CA-2016-115812</td>\n",
       "      <td>2016-06-09</td>\n",
       "      <td>2016-06-14</td>\n",
       "      <td>Standard Class</td>\n",
       "      <td>BH-11710</td>\n",
       "      <td>Brosina Hoffman</td>\n",
       "      <td>Consumer</td>\n",
       "      <td>United States</td>\n",
       "      <td>Los Angeles</td>\n",
       "      <td>California</td>\n",
       "      <td>90032.0</td>\n",
       "      <td>West</td>\n",
       "      <td>OFF-AR-10002833</td>\n",
       "      <td>Office Supplies</td>\n",
       "      <td>Art</td>\n",
       "      <td>Newell 322</td>\n",
       "      <td>7.280</td>\n",
       "      <td>4</td>\n",
       "      <td>0.0</td>\n",
       "      <td>1.9656</td>\n",
       "      <td>No</td>\n",
       "      <td>Newell</td>\n",
       "      <td>1.820</td>\n",
       "      <td>5.3144</td>\n",
       "      <td>36.986301</td>\n",
       "      <td>1.0</td>\n",
       "      <td>7.28</td>\n",
       "      <td>1.82</td>\n",
       "      <td>1.9656</td>\n",
       "      <td>0.000</td>\n",
       "    </tr>\n",
       "    <tr>\n",
       "      <th>2</th>\n",
       "      <td>8</td>\n",
       "      <td>CA-2016-115812</td>\n",
       "      <td>2016-06-09</td>\n",
       "      <td>2016-06-14</td>\n",
       "      <td>Standard Class</td>\n",
       "      <td>BH-11710</td>\n",
       "      <td>Brosina Hoffman</td>\n",
       "      <td>Consumer</td>\n",
       "      <td>United States</td>\n",
       "      <td>Los Angeles</td>\n",
       "      <td>California</td>\n",
       "      <td>90032.0</td>\n",
       "      <td>West</td>\n",
       "      <td>TEC-PH-10002275</td>\n",
       "      <td>Technology</td>\n",
       "      <td>Phones</td>\n",
       "      <td>Mitel 5320 IP Phone VoIP phone</td>\n",
       "      <td>907.152</td>\n",
       "      <td>6</td>\n",
       "      <td>0.2</td>\n",
       "      <td>90.7152</td>\n",
       "      <td>No</td>\n",
       "      <td>Mitel</td>\n",
       "      <td>151.192</td>\n",
       "      <td>816.4368</td>\n",
       "      <td>11.111111</td>\n",
       "      <td>0.8</td>\n",
       "      <td>1133.94</td>\n",
       "      <td>188.99</td>\n",
       "      <td>317.5032</td>\n",
       "      <td>226.788</td>\n",
       "    </tr>\n",
       "    <tr>\n",
       "      <th>3</th>\n",
       "      <td>9</td>\n",
       "      <td>CA-2016-115812</td>\n",
       "      <td>2016-06-09</td>\n",
       "      <td>2016-06-14</td>\n",
       "      <td>Standard Class</td>\n",
       "      <td>BH-11710</td>\n",
       "      <td>Brosina Hoffman</td>\n",
       "      <td>Consumer</td>\n",
       "      <td>United States</td>\n",
       "      <td>Los Angeles</td>\n",
       "      <td>California</td>\n",
       "      <td>90032.0</td>\n",
       "      <td>West</td>\n",
       "      <td>OFF-BI-10003910</td>\n",
       "      <td>Office Supplies</td>\n",
       "      <td>Binders</td>\n",
       "      <td>DXL Angle-View Binders with Locking Rings by S...</td>\n",
       "      <td>18.504</td>\n",
       "      <td>3</td>\n",
       "      <td>0.2</td>\n",
       "      <td>5.7825</td>\n",
       "      <td>No</td>\n",
       "      <td>DXL</td>\n",
       "      <td>6.168</td>\n",
       "      <td>12.7215</td>\n",
       "      <td>45.454545</td>\n",
       "      <td>0.8</td>\n",
       "      <td>23.13</td>\n",
       "      <td>7.71</td>\n",
       "      <td>10.4085</td>\n",
       "      <td>4.626</td>\n",
       "    </tr>\n",
       "    <tr>\n",
       "      <th>4</th>\n",
       "      <td>10</td>\n",
       "      <td>CA-2016-115812</td>\n",
       "      <td>2016-06-09</td>\n",
       "      <td>2016-06-14</td>\n",
       "      <td>Standard Class</td>\n",
       "      <td>BH-11710</td>\n",
       "      <td>Brosina Hoffman</td>\n",
       "      <td>Consumer</td>\n",
       "      <td>United States</td>\n",
       "      <td>Los Angeles</td>\n",
       "      <td>California</td>\n",
       "      <td>90032.0</td>\n",
       "      <td>West</td>\n",
       "      <td>OFF-AP-10002892</td>\n",
       "      <td>Office Supplies</td>\n",
       "      <td>Appliances</td>\n",
       "      <td>Belkin F5C206VTEL 6 Outlet Surge</td>\n",
       "      <td>114.900</td>\n",
       "      <td>5</td>\n",
       "      <td>0.0</td>\n",
       "      <td>34.4700</td>\n",
       "      <td>No</td>\n",
       "      <td>Belkin</td>\n",
       "      <td>22.980</td>\n",
       "      <td>80.4300</td>\n",
       "      <td>42.857143</td>\n",
       "      <td>1.0</td>\n",
       "      <td>114.90</td>\n",
       "      <td>22.98</td>\n",
       "      <td>34.4700</td>\n",
       "      <td>0.000</td>\n",
       "    </tr>\n",
       "  </tbody>\n",
       "</table>\n",
       "</div>"
      ],
      "text/plain": [
       "   Row ID        Order ID Order Date  Ship Date       Ship Mode Customer ID  \\\n",
       "0       6  CA-2016-115812 2016-06-09 2016-06-14  Standard Class    BH-11710   \n",
       "1       7  CA-2016-115812 2016-06-09 2016-06-14  Standard Class    BH-11710   \n",
       "2       8  CA-2016-115812 2016-06-09 2016-06-14  Standard Class    BH-11710   \n",
       "3       9  CA-2016-115812 2016-06-09 2016-06-14  Standard Class    BH-11710   \n",
       "4      10  CA-2016-115812 2016-06-09 2016-06-14  Standard Class    BH-11710   \n",
       "\n",
       "     Customer Name   Segment Country/Region         City       State  \\\n",
       "0  Brosina Hoffman  Consumer  United States  Los Angeles  California   \n",
       "1  Brosina Hoffman  Consumer  United States  Los Angeles  California   \n",
       "2  Brosina Hoffman  Consumer  United States  Los Angeles  California   \n",
       "3  Brosina Hoffman  Consumer  United States  Los Angeles  California   \n",
       "4  Brosina Hoffman  Consumer  United States  Los Angeles  California   \n",
       "\n",
       "   Postal Code Region       Product ID         Category Sub-Category  \\\n",
       "0      90032.0   West  FUR-FU-10001487        Furniture  Furnishings   \n",
       "1      90032.0   West  OFF-AR-10002833  Office Supplies          Art   \n",
       "2      90032.0   West  TEC-PH-10002275       Technology       Phones   \n",
       "3      90032.0   West  OFF-BI-10003910  Office Supplies      Binders   \n",
       "4      90032.0   West  OFF-AP-10002892  Office Supplies   Appliances   \n",
       "\n",
       "                                        Product Name    Sales  Quantity  \\\n",
       "0  Eldon Expressions Wood and Plastic Desk Access...   48.860         7   \n",
       "1                                         Newell 322    7.280         4   \n",
       "2                     Mitel 5320 IP Phone VoIP phone  907.152         6   \n",
       "3  DXL Angle-View Binders with Locking Rings by S...   18.504         3   \n",
       "4                   Belkin F5C206VTEL 6 Outlet Surge  114.900         5   \n",
       "\n",
       "   Discount   Profit Returned Manufacturer  Unit Price  Cost Price  \\\n",
       "0       0.0  14.1694       No        Eldon       6.980     34.6906   \n",
       "1       0.0   1.9656       No       Newell       1.820      5.3144   \n",
       "2       0.2  90.7152       No        Mitel     151.192    816.4368   \n",
       "3       0.2   5.7825       No          DXL       6.168     12.7215   \n",
       "4       0.0  34.4700       No       Belkin      22.980     80.4300   \n",
       "\n",
       "   Percentage Loss or Profit  Discount_1  Sales without discount  \\\n",
       "0                  40.845070         1.0                   48.86   \n",
       "1                  36.986301         1.0                    7.28   \n",
       "2                  11.111111         0.8                 1133.94   \n",
       "3                  45.454545         0.8                   23.13   \n",
       "4                  42.857143         1.0                  114.90   \n",
       "\n",
       "   Unit Price Without Discount  Profit without discount  Discounted Amount  \n",
       "0                         6.98                  14.1694              0.000  \n",
       "1                         1.82                   1.9656              0.000  \n",
       "2                       188.99                 317.5032            226.788  \n",
       "3                         7.71                  10.4085              4.626  \n",
       "4                        22.98                  34.4700              0.000  "
      ]
     },
     "execution_count": 203,
     "metadata": {},
     "output_type": "execute_result"
    }
   ],
   "source": [
    "orders.head()"
   ]
  },
  {
   "cell_type": "code",
   "execution_count": 204,
   "id": "6321092c",
   "metadata": {},
   "outputs": [],
   "source": [
    "def discounted_dataframe2(df,percent,max_discount_amount):\n",
    "    df_40 = df.copy()\n",
    "    def fourty_percent_cap(discount):\n",
    "        if discount <= percent:\n",
    "            return discount\n",
    "        else:\n",
    "            return percent\n",
    "    def max_discount(discount_amount):\n",
    "        if discount_amount > max_discount_amount:\n",
    "            discount_amount = max_discount_amount\n",
    "            return discount_amount\n",
    "        else: \n",
    "            discount_amount = discount_amount\n",
    "            return discount_amount\n",
    "        \n",
    "    df_40[\"new_discount\"] = df_40[\"Discount\"].apply(fourty_percent_cap)\n",
    "    df_40[\"Discounted Amount\"] = df_40[\"new_discount\"] * df_40[\"Sales without discount\"]\n",
    "    df_40[\"Discounted Amount\"] = df_40[\"Discounted Amount\"].apply(max_discount)\n",
    "    df_40[\"Sales\"] =  df_40[\"Sales without discount\"] - df_40[\"Discounted Amount\"]\n",
    "    df_40[\"Profit\"] =  df_40[\"Sales\"] - df_40[\"Cost Price\"]\n",
    "    #df_40[\"Profit_or_Loss\"] = df_40[\"Profit\"].apply(Profit_or_loss)\n",
    "    #loss = df_40[(df_40[\"Discount\"]>0) & (df_40[\"Profit_or_Loss\"]==\"Loss\")].shape[0]\n",
    "    loss = df_40[df_40[\"Profit\"]<0][\"Profit\"].sum()\n",
    "    total = df_40[\"Cost Price\"].sum()\n",
    "    percentage_loss = (loss/total)*100\n",
    "    return df_40"
   ]
  },
  {
   "cell_type": "code",
   "execution_count": 207,
   "id": "526d25b6",
   "metadata": {},
   "outputs": [],
   "source": [
    "orders_with_recommedede_Limitations = discounted_dataframe2(orders,0.25,1000)"
   ]
  },
  {
   "cell_type": "code",
   "execution_count": 208,
   "id": "149982b0",
   "metadata": {},
   "outputs": [
    {
     "data": {
      "text/html": [
       "<div>\n",
       "<style scoped>\n",
       "    .dataframe tbody tr th:only-of-type {\n",
       "        vertical-align: middle;\n",
       "    }\n",
       "\n",
       "    .dataframe tbody tr th {\n",
       "        vertical-align: top;\n",
       "    }\n",
       "\n",
       "    .dataframe thead th {\n",
       "        text-align: right;\n",
       "    }\n",
       "</style>\n",
       "<table border=\"1\" class=\"dataframe\">\n",
       "  <thead>\n",
       "    <tr style=\"text-align: right;\">\n",
       "      <th></th>\n",
       "      <th>Row ID</th>\n",
       "      <th>Order ID</th>\n",
       "      <th>Order Date</th>\n",
       "      <th>Ship Date</th>\n",
       "      <th>Ship Mode</th>\n",
       "      <th>Customer ID</th>\n",
       "      <th>Customer Name</th>\n",
       "      <th>Segment</th>\n",
       "      <th>Country/Region</th>\n",
       "      <th>City</th>\n",
       "      <th>State</th>\n",
       "      <th>Postal Code</th>\n",
       "      <th>Region</th>\n",
       "      <th>Product ID</th>\n",
       "      <th>Category</th>\n",
       "      <th>Sub-Category</th>\n",
       "      <th>Product Name</th>\n",
       "      <th>Sales</th>\n",
       "      <th>Quantity</th>\n",
       "      <th>Discount</th>\n",
       "      <th>Profit</th>\n",
       "      <th>Returned</th>\n",
       "      <th>Manufacturer</th>\n",
       "      <th>Unit Price</th>\n",
       "      <th>Cost Price</th>\n",
       "      <th>Percentage Loss or Profit</th>\n",
       "      <th>Discount_1</th>\n",
       "      <th>Sales without discount</th>\n",
       "      <th>Unit Price Without Discount</th>\n",
       "      <th>Profit without discount</th>\n",
       "      <th>Discounted Amount</th>\n",
       "      <th>new_discount</th>\n",
       "    </tr>\n",
       "  </thead>\n",
       "  <tbody>\n",
       "    <tr>\n",
       "      <th>0</th>\n",
       "      <td>6</td>\n",
       "      <td>CA-2016-115812</td>\n",
       "      <td>2016-06-09</td>\n",
       "      <td>2016-06-14</td>\n",
       "      <td>Standard Class</td>\n",
       "      <td>BH-11710</td>\n",
       "      <td>Brosina Hoffman</td>\n",
       "      <td>Consumer</td>\n",
       "      <td>United States</td>\n",
       "      <td>Los Angeles</td>\n",
       "      <td>California</td>\n",
       "      <td>90032.0</td>\n",
       "      <td>West</td>\n",
       "      <td>FUR-FU-10001487</td>\n",
       "      <td>Furniture</td>\n",
       "      <td>Furnishings</td>\n",
       "      <td>Eldon Expressions Wood and Plastic Desk Access...</td>\n",
       "      <td>48.860</td>\n",
       "      <td>7</td>\n",
       "      <td>0.0</td>\n",
       "      <td>14.1694</td>\n",
       "      <td>No</td>\n",
       "      <td>Eldon</td>\n",
       "      <td>6.980</td>\n",
       "      <td>34.6906</td>\n",
       "      <td>40.845070</td>\n",
       "      <td>1.0</td>\n",
       "      <td>48.86</td>\n",
       "      <td>6.98</td>\n",
       "      <td>14.1694</td>\n",
       "      <td>0.000</td>\n",
       "      <td>0.0</td>\n",
       "    </tr>\n",
       "    <tr>\n",
       "      <th>1</th>\n",
       "      <td>7</td>\n",
       "      <td>CA-2016-115812</td>\n",
       "      <td>2016-06-09</td>\n",
       "      <td>2016-06-14</td>\n",
       "      <td>Standard Class</td>\n",
       "      <td>BH-11710</td>\n",
       "      <td>Brosina Hoffman</td>\n",
       "      <td>Consumer</td>\n",
       "      <td>United States</td>\n",
       "      <td>Los Angeles</td>\n",
       "      <td>California</td>\n",
       "      <td>90032.0</td>\n",
       "      <td>West</td>\n",
       "      <td>OFF-AR-10002833</td>\n",
       "      <td>Office Supplies</td>\n",
       "      <td>Art</td>\n",
       "      <td>Newell 322</td>\n",
       "      <td>7.280</td>\n",
       "      <td>4</td>\n",
       "      <td>0.0</td>\n",
       "      <td>1.9656</td>\n",
       "      <td>No</td>\n",
       "      <td>Newell</td>\n",
       "      <td>1.820</td>\n",
       "      <td>5.3144</td>\n",
       "      <td>36.986301</td>\n",
       "      <td>1.0</td>\n",
       "      <td>7.28</td>\n",
       "      <td>1.82</td>\n",
       "      <td>1.9656</td>\n",
       "      <td>0.000</td>\n",
       "      <td>0.0</td>\n",
       "    </tr>\n",
       "    <tr>\n",
       "      <th>2</th>\n",
       "      <td>8</td>\n",
       "      <td>CA-2016-115812</td>\n",
       "      <td>2016-06-09</td>\n",
       "      <td>2016-06-14</td>\n",
       "      <td>Standard Class</td>\n",
       "      <td>BH-11710</td>\n",
       "      <td>Brosina Hoffman</td>\n",
       "      <td>Consumer</td>\n",
       "      <td>United States</td>\n",
       "      <td>Los Angeles</td>\n",
       "      <td>California</td>\n",
       "      <td>90032.0</td>\n",
       "      <td>West</td>\n",
       "      <td>TEC-PH-10002275</td>\n",
       "      <td>Technology</td>\n",
       "      <td>Phones</td>\n",
       "      <td>Mitel 5320 IP Phone VoIP phone</td>\n",
       "      <td>907.152</td>\n",
       "      <td>6</td>\n",
       "      <td>0.2</td>\n",
       "      <td>90.7152</td>\n",
       "      <td>No</td>\n",
       "      <td>Mitel</td>\n",
       "      <td>151.192</td>\n",
       "      <td>816.4368</td>\n",
       "      <td>11.111111</td>\n",
       "      <td>0.8</td>\n",
       "      <td>1133.94</td>\n",
       "      <td>188.99</td>\n",
       "      <td>317.5032</td>\n",
       "      <td>226.788</td>\n",
       "      <td>0.2</td>\n",
       "    </tr>\n",
       "    <tr>\n",
       "      <th>3</th>\n",
       "      <td>9</td>\n",
       "      <td>CA-2016-115812</td>\n",
       "      <td>2016-06-09</td>\n",
       "      <td>2016-06-14</td>\n",
       "      <td>Standard Class</td>\n",
       "      <td>BH-11710</td>\n",
       "      <td>Brosina Hoffman</td>\n",
       "      <td>Consumer</td>\n",
       "      <td>United States</td>\n",
       "      <td>Los Angeles</td>\n",
       "      <td>California</td>\n",
       "      <td>90032.0</td>\n",
       "      <td>West</td>\n",
       "      <td>OFF-BI-10003910</td>\n",
       "      <td>Office Supplies</td>\n",
       "      <td>Binders</td>\n",
       "      <td>DXL Angle-View Binders with Locking Rings by S...</td>\n",
       "      <td>18.504</td>\n",
       "      <td>3</td>\n",
       "      <td>0.2</td>\n",
       "      <td>5.7825</td>\n",
       "      <td>No</td>\n",
       "      <td>DXL</td>\n",
       "      <td>6.168</td>\n",
       "      <td>12.7215</td>\n",
       "      <td>45.454545</td>\n",
       "      <td>0.8</td>\n",
       "      <td>23.13</td>\n",
       "      <td>7.71</td>\n",
       "      <td>10.4085</td>\n",
       "      <td>4.626</td>\n",
       "      <td>0.2</td>\n",
       "    </tr>\n",
       "    <tr>\n",
       "      <th>4</th>\n",
       "      <td>10</td>\n",
       "      <td>CA-2016-115812</td>\n",
       "      <td>2016-06-09</td>\n",
       "      <td>2016-06-14</td>\n",
       "      <td>Standard Class</td>\n",
       "      <td>BH-11710</td>\n",
       "      <td>Brosina Hoffman</td>\n",
       "      <td>Consumer</td>\n",
       "      <td>United States</td>\n",
       "      <td>Los Angeles</td>\n",
       "      <td>California</td>\n",
       "      <td>90032.0</td>\n",
       "      <td>West</td>\n",
       "      <td>OFF-AP-10002892</td>\n",
       "      <td>Office Supplies</td>\n",
       "      <td>Appliances</td>\n",
       "      <td>Belkin F5C206VTEL 6 Outlet Surge</td>\n",
       "      <td>114.900</td>\n",
       "      <td>5</td>\n",
       "      <td>0.0</td>\n",
       "      <td>34.4700</td>\n",
       "      <td>No</td>\n",
       "      <td>Belkin</td>\n",
       "      <td>22.980</td>\n",
       "      <td>80.4300</td>\n",
       "      <td>42.857143</td>\n",
       "      <td>1.0</td>\n",
       "      <td>114.90</td>\n",
       "      <td>22.98</td>\n",
       "      <td>34.4700</td>\n",
       "      <td>0.000</td>\n",
       "      <td>0.0</td>\n",
       "    </tr>\n",
       "  </tbody>\n",
       "</table>\n",
       "</div>"
      ],
      "text/plain": [
       "   Row ID        Order ID Order Date  Ship Date       Ship Mode Customer ID  \\\n",
       "0       6  CA-2016-115812 2016-06-09 2016-06-14  Standard Class    BH-11710   \n",
       "1       7  CA-2016-115812 2016-06-09 2016-06-14  Standard Class    BH-11710   \n",
       "2       8  CA-2016-115812 2016-06-09 2016-06-14  Standard Class    BH-11710   \n",
       "3       9  CA-2016-115812 2016-06-09 2016-06-14  Standard Class    BH-11710   \n",
       "4      10  CA-2016-115812 2016-06-09 2016-06-14  Standard Class    BH-11710   \n",
       "\n",
       "     Customer Name   Segment Country/Region         City       State  \\\n",
       "0  Brosina Hoffman  Consumer  United States  Los Angeles  California   \n",
       "1  Brosina Hoffman  Consumer  United States  Los Angeles  California   \n",
       "2  Brosina Hoffman  Consumer  United States  Los Angeles  California   \n",
       "3  Brosina Hoffman  Consumer  United States  Los Angeles  California   \n",
       "4  Brosina Hoffman  Consumer  United States  Los Angeles  California   \n",
       "\n",
       "   Postal Code Region       Product ID         Category Sub-Category  \\\n",
       "0      90032.0   West  FUR-FU-10001487        Furniture  Furnishings   \n",
       "1      90032.0   West  OFF-AR-10002833  Office Supplies          Art   \n",
       "2      90032.0   West  TEC-PH-10002275       Technology       Phones   \n",
       "3      90032.0   West  OFF-BI-10003910  Office Supplies      Binders   \n",
       "4      90032.0   West  OFF-AP-10002892  Office Supplies   Appliances   \n",
       "\n",
       "                                        Product Name    Sales  Quantity  \\\n",
       "0  Eldon Expressions Wood and Plastic Desk Access...   48.860         7   \n",
       "1                                         Newell 322    7.280         4   \n",
       "2                     Mitel 5320 IP Phone VoIP phone  907.152         6   \n",
       "3  DXL Angle-View Binders with Locking Rings by S...   18.504         3   \n",
       "4                   Belkin F5C206VTEL 6 Outlet Surge  114.900         5   \n",
       "\n",
       "   Discount   Profit Returned Manufacturer  Unit Price  Cost Price  \\\n",
       "0       0.0  14.1694       No        Eldon       6.980     34.6906   \n",
       "1       0.0   1.9656       No       Newell       1.820      5.3144   \n",
       "2       0.2  90.7152       No        Mitel     151.192    816.4368   \n",
       "3       0.2   5.7825       No          DXL       6.168     12.7215   \n",
       "4       0.0  34.4700       No       Belkin      22.980     80.4300   \n",
       "\n",
       "   Percentage Loss or Profit  Discount_1  Sales without discount  \\\n",
       "0                  40.845070         1.0                   48.86   \n",
       "1                  36.986301         1.0                    7.28   \n",
       "2                  11.111111         0.8                 1133.94   \n",
       "3                  45.454545         0.8                   23.13   \n",
       "4                  42.857143         1.0                  114.90   \n",
       "\n",
       "   Unit Price Without Discount  Profit without discount  Discounted Amount  \\\n",
       "0                         6.98                  14.1694              0.000   \n",
       "1                         1.82                   1.9656              0.000   \n",
       "2                       188.99                 317.5032            226.788   \n",
       "3                         7.71                  10.4085              4.626   \n",
       "4                        22.98                  34.4700              0.000   \n",
       "\n",
       "   new_discount  \n",
       "0           0.0  \n",
       "1           0.0  \n",
       "2           0.2  \n",
       "3           0.2  \n",
       "4           0.0  "
      ]
     },
     "execution_count": 208,
     "metadata": {},
     "output_type": "execute_result"
    }
   ],
   "source": [
    "orders_with_recommedede_Limitations.head()"
   ]
  },
  {
   "cell_type": "code",
   "execution_count": null,
   "id": "6096ef6c",
   "metadata": {},
   "outputs": [],
   "source": []
  },
  {
   "cell_type": "code",
   "execution_count": 471,
   "id": "a5ea6362",
   "metadata": {},
   "outputs": [],
   "source": [
    "#orders.to_csv(r\"C:\\Users\\Ovie R. Iboyitie\\CypherCrescent\\PROJECTS\\Untitled Folder\\unreturned orders.csv\", index= True)\n",
    "#orders_all.to_csv(r\"C:\\Users\\Ovie R. Iboyitie\\CypherCrescent\\PROJECTS\\Untitled Folder\\all orders.csv\", index= True)\n",
    "#orders_with_recommedede_Limitations.to_csv(r\"C:\\Users\\Ovie R. Iboyitie\\CypherCrescent\\PROJECTS\\Untitled Folder\\orders experimental.csv\", index= True)\n",
    "#orders_all.to_csv(r\"C:\\Users\\Ovie R. Iboyitie\\CypherCrescent\\PROJECTS\\Untitled Folder\\all orders.csv\", index= True)"
   ]
  },
  {
   "cell_type": "code",
   "execution_count": null,
   "id": "7b8c392d",
   "metadata": {},
   "outputs": [],
   "source": []
  },
  {
   "cell_type": "code",
   "execution_count": null,
   "id": "df00c37c",
   "metadata": {},
   "outputs": [],
   "source": []
  }
 ],
 "metadata": {
  "kernelspec": {
   "display_name": "Python 3 (ipykernel)",
   "language": "python",
   "name": "python3"
  },
  "language_info": {
   "codemirror_mode": {
    "name": "ipython",
    "version": 3
   },
   "file_extension": ".py",
   "mimetype": "text/x-python",
   "name": "python",
   "nbconvert_exporter": "python",
   "pygments_lexer": "ipython3",
   "version": "3.9.7"
  }
 },
 "nbformat": 4,
 "nbformat_minor": 5
}
